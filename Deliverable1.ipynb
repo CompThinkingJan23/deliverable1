{
 "cells": [
  {
   "cell_type": "code",
   "execution_count": 88,
   "id": "802e0128",
   "metadata": {},
   "outputs": [],
   "source": [
    "# 1 Revenue from Forest Resources"
   ]
  },
  {
   "cell_type": "code",
   "execution_count": 2,
   "id": "7ba4e7b0",
   "metadata": {},
   "outputs": [
    {
     "data": {
      "text/html": [
       "\n",
       "        <iframe\n",
       "            width=\"690\"\n",
       "            height=\"12486\"\n",
       "            src=\"https://www.cia.gov/the-world-factbook/field/revenue-from-forest-resources/country-comparison\"\n",
       "            frameborder=\"0\"\n",
       "            allowfullscreen\n",
       "            \n",
       "        ></iframe>\n",
       "        "
      ],
      "text/plain": [
       "<IPython.lib.display.IFrame at 0x108933670>"
      ]
     },
     "execution_count": 2,
     "metadata": {},
     "output_type": "execute_result"
    }
   ],
   "source": [
    "from IPython.display import IFrame\n",
    "Forest=\"https://www.cia.gov/the-world-factbook/field/revenue-from-forest-resources/country-comparison\"\n",
    "IFrame(Forest, width=690, height=12486)"
   ]
  },
  {
   "cell_type": "code",
   "execution_count": 10,
   "id": "f2e722da",
   "metadata": {},
   "outputs": [],
   "source": [
    "import pandas as pd\n",
    "\n",
    "ForestTable=pd.read_html(Forest,\n",
    "                        header=0,\n",
    "                        flavor='bs4',\n",
    "                        attrs={'content-table table-auto'})"
   ]
  },
  {
   "cell_type": "code",
   "execution_count": 4,
   "id": "577a6386",
   "metadata": {},
   "outputs": [
    {
     "data": {
      "text/plain": [
       "list"
      ]
     },
     "execution_count": 4,
     "metadata": {},
     "output_type": "execute_result"
    }
   ],
   "source": [
    "type(ForestTable)"
   ]
  },
  {
   "cell_type": "code",
   "execution_count": 5,
   "id": "1fe0a204",
   "metadata": {},
   "outputs": [
    {
     "data": {
      "text/plain": [
       "1"
      ]
     },
     "execution_count": 5,
     "metadata": {},
     "output_type": "execute_result"
    }
   ],
   "source": [
    "len(ForestTable)"
   ]
  },
  {
   "cell_type": "code",
   "execution_count": 6,
   "id": "d9f9b9c1",
   "metadata": {},
   "outputs": [
    {
     "data": {
      "text/plain": [
       "pandas.core.frame.DataFrame"
      ]
     },
     "execution_count": 6,
     "metadata": {},
     "output_type": "execute_result"
    }
   ],
   "source": [
    "type(ForestTable[0])"
   ]
  },
  {
   "cell_type": "code",
   "execution_count": 11,
   "id": "6ac4e40b",
   "metadata": {},
   "outputs": [
    {
     "data": {
      "text/html": [
       "<div>\n",
       "<style scoped>\n",
       "    .dataframe tbody tr th:only-of-type {\n",
       "        vertical-align: middle;\n",
       "    }\n",
       "\n",
       "    .dataframe tbody tr th {\n",
       "        vertical-align: top;\n",
       "    }\n",
       "\n",
       "    .dataframe thead th {\n",
       "        text-align: right;\n",
       "    }\n",
       "</style>\n",
       "<table border=\"1\" class=\"dataframe\">\n",
       "  <thead>\n",
       "    <tr style=\"text-align: right;\">\n",
       "      <th></th>\n",
       "      <th>Rank</th>\n",
       "      <th>Country</th>\n",
       "      <th>% of GDP</th>\n",
       "      <th>Date of Information</th>\n",
       "    </tr>\n",
       "  </thead>\n",
       "  <tbody>\n",
       "    <tr>\n",
       "      <th>0</th>\n",
       "      <td>1</td>\n",
       "      <td>Solomon Islands</td>\n",
       "      <td>20.27</td>\n",
       "      <td>2018 est.</td>\n",
       "    </tr>\n",
       "    <tr>\n",
       "      <th>1</th>\n",
       "      <td>2</td>\n",
       "      <td>Liberia</td>\n",
       "      <td>13.27</td>\n",
       "      <td>2018 est.</td>\n",
       "    </tr>\n",
       "    <tr>\n",
       "      <th>2</th>\n",
       "      <td>3</td>\n",
       "      <td>Burundi</td>\n",
       "      <td>10.31</td>\n",
       "      <td>2018 est.</td>\n",
       "    </tr>\n",
       "    <tr>\n",
       "      <th>3</th>\n",
       "      <td>4</td>\n",
       "      <td>Guinea-Bissau</td>\n",
       "      <td>9.24</td>\n",
       "      <td>2018 est.</td>\n",
       "    </tr>\n",
       "    <tr>\n",
       "      <th>4</th>\n",
       "      <td>5</td>\n",
       "      <td>Central African Republic</td>\n",
       "      <td>8.99</td>\n",
       "      <td>2018 est.</td>\n",
       "    </tr>\n",
       "    <tr>\n",
       "      <th>...</th>\n",
       "      <td>...</td>\n",
       "      <td>...</td>\n",
       "      <td>...</td>\n",
       "      <td>...</td>\n",
       "    </tr>\n",
       "    <tr>\n",
       "      <th>199</th>\n",
       "      <td>200</td>\n",
       "      <td>Tuvalu</td>\n",
       "      <td>0.00</td>\n",
       "      <td>2018 est.</td>\n",
       "    </tr>\n",
       "    <tr>\n",
       "      <th>200</th>\n",
       "      <td>201</td>\n",
       "      <td>United Arab Emirates</td>\n",
       "      <td>0.00</td>\n",
       "      <td>2018 est.</td>\n",
       "    </tr>\n",
       "    <tr>\n",
       "      <th>201</th>\n",
       "      <td>202</td>\n",
       "      <td>Uzbekistan</td>\n",
       "      <td>0.00</td>\n",
       "      <td>2018 est.</td>\n",
       "    </tr>\n",
       "    <tr>\n",
       "      <th>202</th>\n",
       "      <td>203</td>\n",
       "      <td>Virgin Islands</td>\n",
       "      <td>0.00</td>\n",
       "      <td>2017 est.</td>\n",
       "    </tr>\n",
       "    <tr>\n",
       "      <th>203</th>\n",
       "      <td>204</td>\n",
       "      <td>West Bank</td>\n",
       "      <td>0.00</td>\n",
       "      <td>2018 est.</td>\n",
       "    </tr>\n",
       "  </tbody>\n",
       "</table>\n",
       "<p>204 rows × 4 columns</p>\n",
       "</div>"
      ],
      "text/plain": [
       "     Rank                   Country  % of GDP Date of Information\n",
       "0       1           Solomon Islands     20.27           2018 est.\n",
       "1       2                   Liberia     13.27           2018 est.\n",
       "2       3                   Burundi     10.31           2018 est.\n",
       "3       4             Guinea-Bissau      9.24           2018 est.\n",
       "4       5  Central African Republic      8.99           2018 est.\n",
       "..    ...                       ...       ...                 ...\n",
       "199   200                    Tuvalu      0.00           2018 est.\n",
       "200   201      United Arab Emirates      0.00           2018 est.\n",
       "201   202                Uzbekistan      0.00           2018 est.\n",
       "202   203            Virgin Islands      0.00           2017 est.\n",
       "203   204                 West Bank      0.00           2018 est.\n",
       "\n",
       "[204 rows x 4 columns]"
      ]
     },
     "execution_count": 11,
     "metadata": {},
     "output_type": "execute_result"
    }
   ],
   "source": [
    "ForestTable[0]"
   ]
  },
  {
   "cell_type": "code",
   "execution_count": 8,
   "id": "1bfd3e62",
   "metadata": {},
   "outputs": [
    {
     "ename": "IndexError",
     "evalue": "list index out of range",
     "output_type": "error",
     "traceback": [
      "\u001b[0;31m---------------------------------------------------------------------------\u001b[0m",
      "\u001b[0;31mIndexError\u001b[0m                                Traceback (most recent call last)",
      "Cell \u001b[0;32mIn[8], line 1\u001b[0m\n\u001b[0;32m----> 1\u001b[0m \u001b[43mForestTable\u001b[49m\u001b[43m[\u001b[49m\u001b[38;5;241;43m2\u001b[39;49m\u001b[43m]\u001b[49m\n",
      "\u001b[0;31mIndexError\u001b[0m: list index out of range"
     ]
    }
   ],
   "source": [
    "ForestTable[2]"
   ]
  },
  {
   "cell_type": "code",
   "execution_count": 12,
   "id": "0dc2fb40",
   "metadata": {},
   "outputs": [],
   "source": [
    "DFforest=ForestTable[0].copy()"
   ]
  },
  {
   "cell_type": "code",
   "execution_count": 13,
   "id": "4044f68f",
   "metadata": {},
   "outputs": [
    {
     "data": {
      "text/plain": [
       "Index(['Rank', 'Country', '% of GDP', 'Date of Information'], dtype='object')"
      ]
     },
     "execution_count": 13,
     "metadata": {},
     "output_type": "execute_result"
    }
   ],
   "source": [
    "DFforest.columns"
   ]
  },
  {
   "cell_type": "code",
   "execution_count": 14,
   "id": "ddd6cb80",
   "metadata": {},
   "outputs": [
    {
     "data": {
      "text/plain": [
       "['Rank', 'Country', '% of GDP', 'Date of Information']"
      ]
     },
     "execution_count": 14,
     "metadata": {},
     "output_type": "execute_result"
    }
   ],
   "source": [
    "DFforest.columns.to_list()"
   ]
  },
  {
   "cell_type": "code",
   "execution_count": 16,
   "id": "8efc6ba7",
   "metadata": {},
   "outputs": [
    {
     "data": {
      "text/html": [
       "<div>\n",
       "<style scoped>\n",
       "    .dataframe tbody tr th:only-of-type {\n",
       "        vertical-align: middle;\n",
       "    }\n",
       "\n",
       "    .dataframe tbody tr th {\n",
       "        vertical-align: top;\n",
       "    }\n",
       "\n",
       "    .dataframe thead th {\n",
       "        text-align: right;\n",
       "    }\n",
       "</style>\n",
       "<table border=\"1\" class=\"dataframe\">\n",
       "  <thead>\n",
       "    <tr style=\"text-align: right;\">\n",
       "      <th></th>\n",
       "      <th>Rank</th>\n",
       "      <th>Country</th>\n",
       "      <th>% of GDP</th>\n",
       "    </tr>\n",
       "  </thead>\n",
       "  <tbody>\n",
       "    <tr>\n",
       "      <th>0</th>\n",
       "      <td>1</td>\n",
       "      <td>Solomon Islands</td>\n",
       "      <td>20.27</td>\n",
       "    </tr>\n",
       "    <tr>\n",
       "      <th>1</th>\n",
       "      <td>2</td>\n",
       "      <td>Liberia</td>\n",
       "      <td>13.27</td>\n",
       "    </tr>\n",
       "    <tr>\n",
       "      <th>2</th>\n",
       "      <td>3</td>\n",
       "      <td>Burundi</td>\n",
       "      <td>10.31</td>\n",
       "    </tr>\n",
       "    <tr>\n",
       "      <th>3</th>\n",
       "      <td>4</td>\n",
       "      <td>Guinea-Bissau</td>\n",
       "      <td>9.24</td>\n",
       "    </tr>\n",
       "    <tr>\n",
       "      <th>4</th>\n",
       "      <td>5</td>\n",
       "      <td>Central African Republic</td>\n",
       "      <td>8.99</td>\n",
       "    </tr>\n",
       "    <tr>\n",
       "      <th>...</th>\n",
       "      <td>...</td>\n",
       "      <td>...</td>\n",
       "      <td>...</td>\n",
       "    </tr>\n",
       "    <tr>\n",
       "      <th>199</th>\n",
       "      <td>200</td>\n",
       "      <td>Tuvalu</td>\n",
       "      <td>0.00</td>\n",
       "    </tr>\n",
       "    <tr>\n",
       "      <th>200</th>\n",
       "      <td>201</td>\n",
       "      <td>United Arab Emirates</td>\n",
       "      <td>0.00</td>\n",
       "    </tr>\n",
       "    <tr>\n",
       "      <th>201</th>\n",
       "      <td>202</td>\n",
       "      <td>Uzbekistan</td>\n",
       "      <td>0.00</td>\n",
       "    </tr>\n",
       "    <tr>\n",
       "      <th>202</th>\n",
       "      <td>203</td>\n",
       "      <td>Virgin Islands</td>\n",
       "      <td>0.00</td>\n",
       "    </tr>\n",
       "    <tr>\n",
       "      <th>203</th>\n",
       "      <td>204</td>\n",
       "      <td>West Bank</td>\n",
       "      <td>0.00</td>\n",
       "    </tr>\n",
       "  </tbody>\n",
       "</table>\n",
       "<p>204 rows × 3 columns</p>\n",
       "</div>"
      ],
      "text/plain": [
       "     Rank                   Country  % of GDP\n",
       "0       1           Solomon Islands     20.27\n",
       "1       2                   Liberia     13.27\n",
       "2       3                   Burundi     10.31\n",
       "3       4             Guinea-Bissau      9.24\n",
       "4       5  Central African Republic      8.99\n",
       "..    ...                       ...       ...\n",
       "199   200                    Tuvalu      0.00\n",
       "200   201      United Arab Emirates      0.00\n",
       "201   202                Uzbekistan      0.00\n",
       "202   203            Virgin Islands      0.00\n",
       "203   204                 West Bank      0.00\n",
       "\n",
       "[204 rows x 3 columns]"
      ]
     },
     "execution_count": 16,
     "metadata": {},
     "output_type": "execute_result"
    }
   ],
   "source": [
    "bye=[3]\n",
    "DFforest.drop(columns=DFforest.columns[bye],inplace=True)\n",
    "DFforest"
   ]
  },
  {
   "cell_type": "code",
   "execution_count": 17,
   "id": "d4081d3a",
   "metadata": {},
   "outputs": [
    {
     "data": {
      "text/plain": [
       "['Rank', 'Country', '% of GDP']"
      ]
     },
     "execution_count": 17,
     "metadata": {},
     "output_type": "execute_result"
    }
   ],
   "source": [
    "DFforest.columns.to_list()"
   ]
  },
  {
   "cell_type": "code",
   "execution_count": 18,
   "id": "bcb6c321",
   "metadata": {},
   "outputs": [],
   "source": [
    "stripSeveral=lambda x: x.str.strip()"
   ]
  },
  {
   "cell_type": "code",
   "execution_count": 19,
   "id": "16301976",
   "metadata": {},
   "outputs": [
    {
     "ename": "AttributeError",
     "evalue": "Can only use .str accessor with string values!",
     "output_type": "error",
     "traceback": [
      "\u001b[0;31m---------------------------------------------------------------------------\u001b[0m",
      "\u001b[0;31mAttributeError\u001b[0m                            Traceback (most recent call last)",
      "Cell \u001b[0;32mIn[19], line 1\u001b[0m\n\u001b[0;32m----> 1\u001b[0m \u001b[43mDFforest\u001b[49m\u001b[38;5;241;43m.\u001b[39;49m\u001b[43mapply\u001b[49m\u001b[43m(\u001b[49m\u001b[43mstripSeveral\u001b[49m\u001b[43m)\u001b[49m\n",
      "File \u001b[0;32m/opt/anaconda3/envs/compthinking/lib/python3.9/site-packages/pandas/core/frame.py:9565\u001b[0m, in \u001b[0;36mDataFrame.apply\u001b[0;34m(self, func, axis, raw, result_type, args, **kwargs)\u001b[0m\n\u001b[1;32m   9554\u001b[0m \u001b[38;5;28;01mfrom\u001b[39;00m \u001b[38;5;21;01mpandas\u001b[39;00m\u001b[38;5;21;01m.\u001b[39;00m\u001b[38;5;21;01mcore\u001b[39;00m\u001b[38;5;21;01m.\u001b[39;00m\u001b[38;5;21;01mapply\u001b[39;00m \u001b[38;5;28;01mimport\u001b[39;00m frame_apply\n\u001b[1;32m   9556\u001b[0m op \u001b[38;5;241m=\u001b[39m frame_apply(\n\u001b[1;32m   9557\u001b[0m     \u001b[38;5;28mself\u001b[39m,\n\u001b[1;32m   9558\u001b[0m     func\u001b[38;5;241m=\u001b[39mfunc,\n\u001b[0;32m   (...)\u001b[0m\n\u001b[1;32m   9563\u001b[0m     kwargs\u001b[38;5;241m=\u001b[39mkwargs,\n\u001b[1;32m   9564\u001b[0m )\n\u001b[0;32m-> 9565\u001b[0m \u001b[38;5;28;01mreturn\u001b[39;00m \u001b[43mop\u001b[49m\u001b[38;5;241;43m.\u001b[39;49m\u001b[43mapply\u001b[49m\u001b[43m(\u001b[49m\u001b[43m)\u001b[49m\u001b[38;5;241m.\u001b[39m__finalize__(\u001b[38;5;28mself\u001b[39m, method\u001b[38;5;241m=\u001b[39m\u001b[38;5;124m\"\u001b[39m\u001b[38;5;124mapply\u001b[39m\u001b[38;5;124m\"\u001b[39m)\n",
      "File \u001b[0;32m/opt/anaconda3/envs/compthinking/lib/python3.9/site-packages/pandas/core/apply.py:746\u001b[0m, in \u001b[0;36mFrameApply.apply\u001b[0;34m(self)\u001b[0m\n\u001b[1;32m    743\u001b[0m \u001b[38;5;28;01melif\u001b[39;00m \u001b[38;5;28mself\u001b[39m\u001b[38;5;241m.\u001b[39mraw:\n\u001b[1;32m    744\u001b[0m     \u001b[38;5;28;01mreturn\u001b[39;00m \u001b[38;5;28mself\u001b[39m\u001b[38;5;241m.\u001b[39mapply_raw()\n\u001b[0;32m--> 746\u001b[0m \u001b[38;5;28;01mreturn\u001b[39;00m \u001b[38;5;28;43mself\u001b[39;49m\u001b[38;5;241;43m.\u001b[39;49m\u001b[43mapply_standard\u001b[49m\u001b[43m(\u001b[49m\u001b[43m)\u001b[49m\n",
      "File \u001b[0;32m/opt/anaconda3/envs/compthinking/lib/python3.9/site-packages/pandas/core/apply.py:873\u001b[0m, in \u001b[0;36mFrameApply.apply_standard\u001b[0;34m(self)\u001b[0m\n\u001b[1;32m    872\u001b[0m \u001b[38;5;28;01mdef\u001b[39;00m \u001b[38;5;21mapply_standard\u001b[39m(\u001b[38;5;28mself\u001b[39m):\n\u001b[0;32m--> 873\u001b[0m     results, res_index \u001b[38;5;241m=\u001b[39m \u001b[38;5;28;43mself\u001b[39;49m\u001b[38;5;241;43m.\u001b[39;49m\u001b[43mapply_series_generator\u001b[49m\u001b[43m(\u001b[49m\u001b[43m)\u001b[49m\n\u001b[1;32m    875\u001b[0m     \u001b[38;5;66;03m# wrap results\u001b[39;00m\n\u001b[1;32m    876\u001b[0m     \u001b[38;5;28;01mreturn\u001b[39;00m \u001b[38;5;28mself\u001b[39m\u001b[38;5;241m.\u001b[39mwrap_results(results, res_index)\n",
      "File \u001b[0;32m/opt/anaconda3/envs/compthinking/lib/python3.9/site-packages/pandas/core/apply.py:889\u001b[0m, in \u001b[0;36mFrameApply.apply_series_generator\u001b[0;34m(self)\u001b[0m\n\u001b[1;32m    886\u001b[0m \u001b[38;5;28;01mwith\u001b[39;00m option_context(\u001b[38;5;124m\"\u001b[39m\u001b[38;5;124mmode.chained_assignment\u001b[39m\u001b[38;5;124m\"\u001b[39m, \u001b[38;5;28;01mNone\u001b[39;00m):\n\u001b[1;32m    887\u001b[0m     \u001b[38;5;28;01mfor\u001b[39;00m i, v \u001b[38;5;129;01min\u001b[39;00m \u001b[38;5;28menumerate\u001b[39m(series_gen):\n\u001b[1;32m    888\u001b[0m         \u001b[38;5;66;03m# ignore SettingWithCopy here in case the user mutates\u001b[39;00m\n\u001b[0;32m--> 889\u001b[0m         results[i] \u001b[38;5;241m=\u001b[39m \u001b[38;5;28;43mself\u001b[39;49m\u001b[38;5;241;43m.\u001b[39;49m\u001b[43mf\u001b[49m\u001b[43m(\u001b[49m\u001b[43mv\u001b[49m\u001b[43m)\u001b[49m\n\u001b[1;32m    890\u001b[0m         \u001b[38;5;28;01mif\u001b[39;00m \u001b[38;5;28misinstance\u001b[39m(results[i], ABCSeries):\n\u001b[1;32m    891\u001b[0m             \u001b[38;5;66;03m# If we have a view on v, we need to make a copy because\u001b[39;00m\n\u001b[1;32m    892\u001b[0m             \u001b[38;5;66;03m#  series_generator will swap out the underlying data\u001b[39;00m\n\u001b[1;32m    893\u001b[0m             results[i] \u001b[38;5;241m=\u001b[39m results[i]\u001b[38;5;241m.\u001b[39mcopy(deep\u001b[38;5;241m=\u001b[39m\u001b[38;5;28;01mFalse\u001b[39;00m)\n",
      "Cell \u001b[0;32mIn[18], line 1\u001b[0m, in \u001b[0;36m<lambda>\u001b[0;34m(x)\u001b[0m\n\u001b[0;32m----> 1\u001b[0m stripSeveral\u001b[38;5;241m=\u001b[39m\u001b[38;5;28;01mlambda\u001b[39;00m x: \u001b[43mx\u001b[49m\u001b[38;5;241;43m.\u001b[39;49m\u001b[43mstr\u001b[49m\u001b[38;5;241m.\u001b[39mstrip()\n",
      "File \u001b[0;32m/opt/anaconda3/envs/compthinking/lib/python3.9/site-packages/pandas/core/generic.py:5902\u001b[0m, in \u001b[0;36mNDFrame.__getattr__\u001b[0;34m(self, name)\u001b[0m\n\u001b[1;32m   5895\u001b[0m \u001b[38;5;28;01mif\u001b[39;00m (\n\u001b[1;32m   5896\u001b[0m     name \u001b[38;5;129;01mnot\u001b[39;00m \u001b[38;5;129;01min\u001b[39;00m \u001b[38;5;28mself\u001b[39m\u001b[38;5;241m.\u001b[39m_internal_names_set\n\u001b[1;32m   5897\u001b[0m     \u001b[38;5;129;01mand\u001b[39;00m name \u001b[38;5;129;01mnot\u001b[39;00m \u001b[38;5;129;01min\u001b[39;00m \u001b[38;5;28mself\u001b[39m\u001b[38;5;241m.\u001b[39m_metadata\n\u001b[1;32m   5898\u001b[0m     \u001b[38;5;129;01mand\u001b[39;00m name \u001b[38;5;129;01mnot\u001b[39;00m \u001b[38;5;129;01min\u001b[39;00m \u001b[38;5;28mself\u001b[39m\u001b[38;5;241m.\u001b[39m_accessors\n\u001b[1;32m   5899\u001b[0m     \u001b[38;5;129;01mand\u001b[39;00m \u001b[38;5;28mself\u001b[39m\u001b[38;5;241m.\u001b[39m_info_axis\u001b[38;5;241m.\u001b[39m_can_hold_identifiers_and_holds_name(name)\n\u001b[1;32m   5900\u001b[0m ):\n\u001b[1;32m   5901\u001b[0m     \u001b[38;5;28;01mreturn\u001b[39;00m \u001b[38;5;28mself\u001b[39m[name]\n\u001b[0;32m-> 5902\u001b[0m \u001b[38;5;28;01mreturn\u001b[39;00m \u001b[38;5;28;43mobject\u001b[39;49m\u001b[38;5;241;43m.\u001b[39;49m\u001b[38;5;21;43m__getattribute__\u001b[39;49m\u001b[43m(\u001b[49m\u001b[38;5;28;43mself\u001b[39;49m\u001b[43m,\u001b[49m\u001b[43m \u001b[49m\u001b[43mname\u001b[49m\u001b[43m)\u001b[49m\n",
      "File \u001b[0;32m/opt/anaconda3/envs/compthinking/lib/python3.9/site-packages/pandas/core/accessor.py:182\u001b[0m, in \u001b[0;36mCachedAccessor.__get__\u001b[0;34m(self, obj, cls)\u001b[0m\n\u001b[1;32m    179\u001b[0m \u001b[38;5;28;01mif\u001b[39;00m obj \u001b[38;5;129;01mis\u001b[39;00m \u001b[38;5;28;01mNone\u001b[39;00m:\n\u001b[1;32m    180\u001b[0m     \u001b[38;5;66;03m# we're accessing the attribute of the class, i.e., Dataset.geo\u001b[39;00m\n\u001b[1;32m    181\u001b[0m     \u001b[38;5;28;01mreturn\u001b[39;00m \u001b[38;5;28mself\u001b[39m\u001b[38;5;241m.\u001b[39m_accessor\n\u001b[0;32m--> 182\u001b[0m accessor_obj \u001b[38;5;241m=\u001b[39m \u001b[38;5;28;43mself\u001b[39;49m\u001b[38;5;241;43m.\u001b[39;49m\u001b[43m_accessor\u001b[49m\u001b[43m(\u001b[49m\u001b[43mobj\u001b[49m\u001b[43m)\u001b[49m\n\u001b[1;32m    183\u001b[0m \u001b[38;5;66;03m# Replace the property with the accessor object. Inspired by:\u001b[39;00m\n\u001b[1;32m    184\u001b[0m \u001b[38;5;66;03m# https://www.pydanny.com/cached-property.html\u001b[39;00m\n\u001b[1;32m    185\u001b[0m \u001b[38;5;66;03m# We need to use object.__setattr__ because we overwrite __setattr__ on\u001b[39;00m\n\u001b[1;32m    186\u001b[0m \u001b[38;5;66;03m# NDFrame\u001b[39;00m\n\u001b[1;32m    187\u001b[0m \u001b[38;5;28mobject\u001b[39m\u001b[38;5;241m.\u001b[39m\u001b[38;5;21m__setattr__\u001b[39m(obj, \u001b[38;5;28mself\u001b[39m\u001b[38;5;241m.\u001b[39m_name, accessor_obj)\n",
      "File \u001b[0;32m/opt/anaconda3/envs/compthinking/lib/python3.9/site-packages/pandas/core/strings/accessor.py:181\u001b[0m, in \u001b[0;36mStringMethods.__init__\u001b[0;34m(self, data)\u001b[0m\n\u001b[1;32m    178\u001b[0m \u001b[38;5;28;01mdef\u001b[39;00m \u001b[38;5;21m__init__\u001b[39m(\u001b[38;5;28mself\u001b[39m, data) \u001b[38;5;241m-\u001b[39m\u001b[38;5;241m>\u001b[39m \u001b[38;5;28;01mNone\u001b[39;00m:\n\u001b[1;32m    179\u001b[0m     \u001b[38;5;28;01mfrom\u001b[39;00m \u001b[38;5;21;01mpandas\u001b[39;00m\u001b[38;5;21;01m.\u001b[39;00m\u001b[38;5;21;01mcore\u001b[39;00m\u001b[38;5;21;01m.\u001b[39;00m\u001b[38;5;21;01marrays\u001b[39;00m\u001b[38;5;21;01m.\u001b[39;00m\u001b[38;5;21;01mstring_\u001b[39;00m \u001b[38;5;28;01mimport\u001b[39;00m StringDtype\n\u001b[0;32m--> 181\u001b[0m     \u001b[38;5;28mself\u001b[39m\u001b[38;5;241m.\u001b[39m_inferred_dtype \u001b[38;5;241m=\u001b[39m \u001b[38;5;28;43mself\u001b[39;49m\u001b[38;5;241;43m.\u001b[39;49m\u001b[43m_validate\u001b[49m\u001b[43m(\u001b[49m\u001b[43mdata\u001b[49m\u001b[43m)\u001b[49m\n\u001b[1;32m    182\u001b[0m     \u001b[38;5;28mself\u001b[39m\u001b[38;5;241m.\u001b[39m_is_categorical \u001b[38;5;241m=\u001b[39m is_categorical_dtype(data\u001b[38;5;241m.\u001b[39mdtype)\n\u001b[1;32m    183\u001b[0m     \u001b[38;5;28mself\u001b[39m\u001b[38;5;241m.\u001b[39m_is_string \u001b[38;5;241m=\u001b[39m \u001b[38;5;28misinstance\u001b[39m(data\u001b[38;5;241m.\u001b[39mdtype, StringDtype)\n",
      "File \u001b[0;32m/opt/anaconda3/envs/compthinking/lib/python3.9/site-packages/pandas/core/strings/accessor.py:235\u001b[0m, in \u001b[0;36mStringMethods._validate\u001b[0;34m(data)\u001b[0m\n\u001b[1;32m    232\u001b[0m inferred_dtype \u001b[38;5;241m=\u001b[39m lib\u001b[38;5;241m.\u001b[39minfer_dtype(values, skipna\u001b[38;5;241m=\u001b[39m\u001b[38;5;28;01mTrue\u001b[39;00m)\n\u001b[1;32m    234\u001b[0m \u001b[38;5;28;01mif\u001b[39;00m inferred_dtype \u001b[38;5;129;01mnot\u001b[39;00m \u001b[38;5;129;01min\u001b[39;00m allowed_types:\n\u001b[0;32m--> 235\u001b[0m     \u001b[38;5;28;01mraise\u001b[39;00m \u001b[38;5;167;01mAttributeError\u001b[39;00m(\u001b[38;5;124m\"\u001b[39m\u001b[38;5;124mCan only use .str accessor with string values!\u001b[39m\u001b[38;5;124m\"\u001b[39m)\n\u001b[1;32m    236\u001b[0m \u001b[38;5;28;01mreturn\u001b[39;00m inferred_dtype\n",
      "\u001b[0;31mAttributeError\u001b[0m: Can only use .str accessor with string values!"
     ]
    }
   ],
   "source": [
    "DFforest.apply(stripSeveral)"
   ]
  },
  {
   "cell_type": "code",
   "execution_count": 21,
   "id": "032ac3c0",
   "metadata": {},
   "outputs": [
    {
     "data": {
      "text/plain": [
       "0               Solomon Islands\n",
       "1                       Liberia\n",
       "2                       Burundi\n",
       "3                 Guinea-Bissau\n",
       "4      Central African Republic\n",
       "                 ...           \n",
       "199                      Tuvalu\n",
       "200        United Arab Emirates\n",
       "201                  Uzbekistan\n",
       "202              Virgin Islands\n",
       "203                   West Bank\n",
       "Name: Country, Length: 204, dtype: object"
      ]
     },
     "execution_count": 21,
     "metadata": {},
     "output_type": "execute_result"
    }
   ],
   "source": [
    "DFforest.iloc[:,1]"
   ]
  },
  {
   "cell_type": "code",
   "execution_count": 22,
   "id": "449c4e76",
   "metadata": {},
   "outputs": [
    {
     "data": {
      "text/plain": [
       "0        1\n",
       "1        2\n",
       "2        3\n",
       "3        4\n",
       "4        5\n",
       "      ... \n",
       "199    200\n",
       "200    201\n",
       "201    202\n",
       "202    203\n",
       "203    204\n",
       "Name: Rank, Length: 204, dtype: int64"
      ]
     },
     "execution_count": 22,
     "metadata": {},
     "output_type": "execute_result"
    }
   ],
   "source": [
    "DFforest.iloc[:,0]"
   ]
  },
  {
   "cell_type": "code",
   "execution_count": 37,
   "id": "d0dcf188",
   "metadata": {},
   "outputs": [
    {
     "data": {
      "text/plain": [
       "Rank          int64\n",
       "Country      object\n",
       "% of GDP    float64\n",
       "dtype: object"
      ]
     },
     "execution_count": 37,
     "metadata": {},
     "output_type": "execute_result"
    }
   ],
   "source": [
    "DFforest.dtypes"
   ]
  },
  {
   "cell_type": "code",
   "execution_count": 36,
   "id": "a5ab1b6b",
   "metadata": {},
   "outputs": [
    {
     "name": "stdout",
     "output_type": "stream",
     "text": [
      "object\n",
      "float64\n"
     ]
    },
    {
     "data": {
      "text/plain": [
       "Country     None\n",
       "% of GDP    None\n",
       "dtype: object"
      ]
     },
     "execution_count": 36,
     "metadata": {},
     "output_type": "execute_result"
    }
   ],
   "source": [
    "DFforest.iloc[:,1:].apply(lambda x:print(x.dtype))"
   ]
  },
  {
   "cell_type": "code",
   "execution_count": 38,
   "id": "e6516217",
   "metadata": {},
   "outputs": [
    {
     "data": {
      "text/plain": [
       "0               Solomon Islands\n",
       "1                       Liberia\n",
       "2                       Burundi\n",
       "3                 Guinea-Bissau\n",
       "4      Central African Republic\n",
       "                 ...           \n",
       "199                      Tuvalu\n",
       "200        United Arab Emirates\n",
       "201                  Uzbekistan\n",
       "202              Virgin Islands\n",
       "203                   West Bank\n",
       "Name: Country, Length: 204, dtype: object"
      ]
     },
     "execution_count": 38,
     "metadata": {},
     "output_type": "execute_result"
    }
   ],
   "source": [
    "stripSeveral=lambda x: x.strip()\n",
    "DFforest.iloc[:,1].apply(stripSeveral)"
   ]
  },
  {
   "cell_type": "code",
   "execution_count": 39,
   "id": "0c815a6c",
   "metadata": {},
   "outputs": [],
   "source": [
    "DFforest.iloc[:,1]=DFforest.iloc[:,1].apply(stripSeveral)"
   ]
  },
  {
   "cell_type": "code",
   "execution_count": 41,
   "id": "efb0e419",
   "metadata": {},
   "outputs": [
    {
     "data": {
      "text/plain": [
       "0               Solomon Islands\n",
       "1                       Liberia\n",
       "2                       Burundi\n",
       "3                 Guinea-Bissau\n",
       "4      Central African Republic\n",
       "                 ...           \n",
       "199                      Tuvalu\n",
       "200        United Arab Emirates\n",
       "201                  Uzbekistan\n",
       "202              Virgin Islands\n",
       "203                   West Bank\n",
       "Name: Country, Length: 204, dtype: object"
      ]
     },
     "execution_count": 41,
     "metadata": {},
     "output_type": "execute_result"
    }
   ],
   "source": [
    "DFforest.iloc[:,1]"
   ]
  },
  {
   "cell_type": "code",
   "execution_count": 42,
   "id": "4ddb3eef",
   "metadata": {},
   "outputs": [
    {
     "ename": "AttributeError",
     "evalue": "'DataFrame' object has no attribute 'Regimetype'",
     "output_type": "error",
     "traceback": [
      "\u001b[0;31m---------------------------------------------------------------------------\u001b[0m",
      "\u001b[0;31mAttributeError\u001b[0m                            Traceback (most recent call last)",
      "Cell \u001b[0;32mIn[42], line 1\u001b[0m\n\u001b[0;32m----> 1\u001b[0m \u001b[43mDFforest\u001b[49m\u001b[38;5;241;43m.\u001b[39;49m\u001b[43mRegimetype\u001b[49m\u001b[38;5;241m.\u001b[39mvalue_counts()\n",
      "File \u001b[0;32m/opt/anaconda3/envs/compthinking/lib/python3.9/site-packages/pandas/core/generic.py:5902\u001b[0m, in \u001b[0;36mNDFrame.__getattr__\u001b[0;34m(self, name)\u001b[0m\n\u001b[1;32m   5895\u001b[0m \u001b[38;5;28;01mif\u001b[39;00m (\n\u001b[1;32m   5896\u001b[0m     name \u001b[38;5;129;01mnot\u001b[39;00m \u001b[38;5;129;01min\u001b[39;00m \u001b[38;5;28mself\u001b[39m\u001b[38;5;241m.\u001b[39m_internal_names_set\n\u001b[1;32m   5897\u001b[0m     \u001b[38;5;129;01mand\u001b[39;00m name \u001b[38;5;129;01mnot\u001b[39;00m \u001b[38;5;129;01min\u001b[39;00m \u001b[38;5;28mself\u001b[39m\u001b[38;5;241m.\u001b[39m_metadata\n\u001b[1;32m   5898\u001b[0m     \u001b[38;5;129;01mand\u001b[39;00m name \u001b[38;5;129;01mnot\u001b[39;00m \u001b[38;5;129;01min\u001b[39;00m \u001b[38;5;28mself\u001b[39m\u001b[38;5;241m.\u001b[39m_accessors\n\u001b[1;32m   5899\u001b[0m     \u001b[38;5;129;01mand\u001b[39;00m \u001b[38;5;28mself\u001b[39m\u001b[38;5;241m.\u001b[39m_info_axis\u001b[38;5;241m.\u001b[39m_can_hold_identifiers_and_holds_name(name)\n\u001b[1;32m   5900\u001b[0m ):\n\u001b[1;32m   5901\u001b[0m     \u001b[38;5;28;01mreturn\u001b[39;00m \u001b[38;5;28mself\u001b[39m[name]\n\u001b[0;32m-> 5902\u001b[0m \u001b[38;5;28;01mreturn\u001b[39;00m \u001b[38;5;28;43mobject\u001b[39;49m\u001b[38;5;241;43m.\u001b[39;49m\u001b[38;5;21;43m__getattribute__\u001b[39;49m\u001b[43m(\u001b[49m\u001b[38;5;28;43mself\u001b[39;49m\u001b[43m,\u001b[49m\u001b[43m \u001b[49m\u001b[43mname\u001b[49m\u001b[43m)\u001b[49m\n",
      "\u001b[0;31mAttributeError\u001b[0m: 'DataFrame' object has no attribute 'Regimetype'"
     ]
    }
   ],
   "source": [
    "DFforest.Regimetype.value_counts()"
   ]
  },
  {
   "cell_type": "code",
   "execution_count": null,
   "id": "2541e571",
   "metadata": {},
   "outputs": [],
   "source": [
    "DFforest."
   ]
  },
  {
   "cell_type": "code",
   "execution_count": 52,
   "id": "efaff9b6",
   "metadata": {},
   "outputs": [
    {
     "data": {
      "text/plain": [
       "Rank  Country          % of GDP\n",
       "1     Solomon Islands  20.27       1\n",
       "141   Japan            0.02        1\n",
       "131   United States    0.04        1\n",
       "132   Yemen            0.04        1\n",
       "133   Dominica         0.03        1\n",
       "                                  ..\n",
       "71    Indonesia        0.39        1\n",
       "72    Cabo Verde       0.38        1\n",
       "73    Serbia           0.38        1\n",
       "74    Angola           0.36        1\n",
       "204   West Bank        0.00        1\n",
       "Length: 204, dtype: int64"
      ]
     },
     "execution_count": 52,
     "metadata": {},
     "output_type": "execute_result"
    }
   ],
   "source": [
    "FQtablecounts=DFforest.value_counts()\n",
    "FQtablecounts"
   ]
  },
  {
   "cell_type": "code",
   "execution_count": 90,
   "id": "3a889ae1",
   "metadata": {},
   "outputs": [],
   "source": [
    "# I didn't do anything with the frequency table/erasing rows with similar values with one count because Python/Jupyter is not recognizing \"Regimetype\""
   ]
  },
  {
   "cell_type": "code",
   "execution_count": 49,
   "id": "66b5de56",
   "metadata": {},
   "outputs": [
    {
     "data": {
      "text/plain": [
       "0      20.27\n",
       "1      13.27\n",
       "2      10.31\n",
       "3       9.24\n",
       "4       8.99\n",
       "       ...  \n",
       "199     0.00\n",
       "200     0.00\n",
       "201     0.00\n",
       "202     0.00\n",
       "203     0.00\n",
       "Name: % of GDP, Length: 204, dtype: float64"
      ]
     },
     "execution_count": 49,
     "metadata": {},
     "output_type": "execute_result"
    }
   ],
   "source": [
    "DFforest.iloc[:,2]"
   ]
  },
  {
   "cell_type": "code",
   "execution_count": 55,
   "id": "1a14472c",
   "metadata": {},
   "outputs": [
    {
     "data": {
      "text/plain": [
       "Rank  Country          % of GDP\n",
       "1     Solomon Islands  20.27       1\n",
       "141   Japan            0.02        1\n",
       "131   United States    0.04        1\n",
       "132   Yemen            0.04        1\n",
       "133   Dominica         0.03        1\n",
       "                                  ..\n",
       "71    Indonesia        0.39        1\n",
       "72    Cabo Verde       0.38        1\n",
       "73    Serbia           0.38        1\n",
       "74    Angola           0.36        1\n",
       "204   West Bank        0.00        1\n",
       "Length: 204, dtype: int64"
      ]
     },
     "execution_count": 55,
     "metadata": {},
     "output_type": "execute_result"
    }
   ],
   "source": [
    "FQtablecounts[FQtablecounts==1]"
   ]
  },
  {
   "cell_type": "code",
   "execution_count": 56,
   "id": "6e2bec48",
   "metadata": {},
   "outputs": [
    {
     "data": {
      "text/plain": [
       "[(1, 'Solomon Islands', 20.27),\n",
       " (141, 'Japan', 0.02),\n",
       " (131, 'United States', 0.04),\n",
       " (132, 'Yemen', 0.04),\n",
       " (133, 'Dominica', 0.03),\n",
       " (134, 'Dominican Republic', 0.03),\n",
       " (135, 'France', 0.03),\n",
       " (136, 'Germany', 0.03),\n",
       " (137, 'Tonga', 0.03),\n",
       " (138, 'Azerbaijan', 0.02),\n",
       " (139, 'Belgium', 0.02),\n",
       " (140, 'Denmark', 0.02),\n",
       " (142, 'Jordan', 0.02),\n",
       " (129, 'Trinidad and Tobago', 0.05),\n",
       " (143, 'Micronesia, Federated States of', 0.02),\n",
       " (144, 'Saint Vincent and the Grenadines', 0.02),\n",
       " (145, 'Spain', 0.02),\n",
       " (146, 'Bahamas, The', 0.01),\n",
       " (147, 'Barbados', 0.01),\n",
       " (148, 'Greece', 0.01),\n",
       " (149, 'Iran', 0.01),\n",
       " (150, 'Ireland', 0.01),\n",
       " (151, 'Italy', 0.01),\n",
       " (152, 'Korea, South', 0.01),\n",
       " (130, 'Kiribati', 0.04),\n",
       " (128, 'Norway', 0.05),\n",
       " (2, 'Liberia', 13.27),\n",
       " (115, 'Argentina', 0.09),\n",
       " (105, 'Australia', 0.13),\n",
       " (106, 'Morocco', 0.13),\n",
       " (107, 'Portugal', 0.13),\n",
       " (108, 'Timor-Leste', 0.13),\n",
       " (109, 'Peru', 0.12),\n",
       " (110, 'Algeria', 0.1),\n",
       " (111, 'Colombia', 0.1),\n",
       " (112, 'Hungary', 0.1),\n",
       " (113, 'Mexico', 0.1),\n",
       " (114, 'Pakistan', 0.1),\n",
       " (116, 'Seychelles', 0.09),\n",
       " (127, 'Brunei', 0.05),\n",
       " (117, 'Bangladesh', 0.08),\n",
       " (118, 'Canada', 0.08),\n",
       " (119, 'China', 0.08),\n",
       " (120, 'Panama', 0.08),\n",
       " (121, 'Turkey (Turkiye)', 0.08),\n",
       " (122, 'Austria', 0.07),\n",
       " (123, 'Georgia', 0.07),\n",
       " (124, 'Cuba', 0.06),\n",
       " (125, 'Libya', 0.06),\n",
       " (126, 'Sri Lanka', 0.06),\n",
       " (153, 'Kyrgyzstan', 0.01),\n",
       " (154, 'Luxembourg', 0.01),\n",
       " (155, 'Netherlands', 0.01),\n",
       " (192, 'Puerto Rico', 0.0),\n",
       " (182, 'Macau', 0.0),\n",
       " (183, 'Maldives', 0.0),\n",
       " (184, 'Malta', 0.0),\n",
       " (185, 'Marshall Islands', 0.0),\n",
       " (186, 'Mauritius', 0.0),\n",
       " (187, 'Monaco', 0.0),\n",
       " (188, 'Nauru', 0.0),\n",
       " (189, 'Northern Mariana Islands', 0.0),\n",
       " (190, 'Oman', 0.0),\n",
       " (191, 'Palau', 0.0),\n",
       " (193, 'Qatar', 0.0),\n",
       " (156, 'Saint Lucia', 0.01),\n",
       " (194, 'Saint Kitts and Nevis', 0.0),\n",
       " (195, 'San Marino', 0.0),\n",
       " (196, 'Saudi Arabia', 0.0),\n",
       " (197, 'Singapore', 0.0),\n",
       " (198, 'Turkmenistan', 0.0),\n",
       " (199, 'Turks and Caicos Islands', 0.0),\n",
       " (200, 'Tuvalu', 0.0),\n",
       " (201, 'United Arab Emirates', 0.0),\n",
       " (202, 'Uzbekistan', 0.0),\n",
       " (203, 'Virgin Islands', 0.0),\n",
       " (181, 'Liechtenstein', 0.0),\n",
       " (180, 'Lebanon', 0.0),\n",
       " (179, 'Kuwait', 0.0),\n",
       " (178, 'Kosovo', 0.0),\n",
       " (157, 'Switzerland', 0.01),\n",
       " (158, 'United Kingdom', 0.01),\n",
       " (159, 'American Samoa', 0.0),\n",
       " (160, 'Andorra', 0.0),\n",
       " (161, 'Antigua and Barbuda', 0.0),\n",
       " (162, 'Aruba', 0.0),\n",
       " (163, 'Bahrain', 0.0),\n",
       " (164, 'Cayman Islands', 0.0),\n",
       " (165, 'Curacao', 0.0),\n",
       " (166, 'Cyprus', 0.0),\n",
       " (167, 'Faroe Islands', 0.0),\n",
       " (168, 'Gaza Strip', 0.0),\n",
       " (169, 'Greenland', 0.0),\n",
       " (170, 'Grenada', 0.0),\n",
       " (171, 'Guam', 0.0),\n",
       " (172, 'Hong Kong', 0.0),\n",
       " (173, 'Iceland', 0.0),\n",
       " (174, 'Iraq', 0.0),\n",
       " (175, 'Isle of Man', 0.0),\n",
       " (176, 'Israel', 0.0),\n",
       " (177, 'Kazakhstan', 0.0),\n",
       " (104, 'Mongolia', 0.14),\n",
       " (103, 'India', 0.14),\n",
       " (102, 'North Macedonia', 0.15),\n",
       " (38, 'Burma', 1.69),\n",
       " (28, 'Gambia, The', 2.47),\n",
       " (29, 'Suriname', 2.36),\n",
       " (30, 'Eswatini', 2.25),\n",
       " (31, 'Benin', 2.24),\n",
       " (32, 'Tanzania', 2.19),\n",
       " (33, 'Papua New Guinea', 2.08),\n",
       " (34, \"Cote d'Ivoire\", 2.04),\n",
       " (35, 'Mali', 2.02),\n",
       " (36, 'Sao Tome and Principe', 1.9),\n",
       " (37, 'Bhutan', 1.89),\n",
       " (39, 'Zimbabwe', 1.61),\n",
       " (51, 'Tajikistan', 1.12),\n",
       " (40, 'Malaysia', 1.57),\n",
       " (41, 'Uruguay', 1.56),\n",
       " (42, 'Equatorial Guinea', 1.52),\n",
       " (43, 'Vietnam', 1.49),\n",
       " (44, 'Laos', 1.48),\n",
       " (45, 'Senegal', 1.46),\n",
       " (46, 'Comoros', 1.39),\n",
       " (47, 'Kenya', 1.3),\n",
       " (48, 'Mauritania', 1.3),\n",
       " (49, 'Nicaragua', 1.26),\n",
       " (27, 'Cameroon', 2.5),\n",
       " (26, 'Gabon', 2.6),\n",
       " (25, 'South Sudan', 2.65),\n",
       " (24, 'Sudan', 3.01),\n",
       " (3, 'Burundi', 10.31),\n",
       " (4, 'Guinea-Bissau', 9.24),\n",
       " (5, 'Central African Republic', 8.99),\n",
       " (6, 'Congo, Democratic Republic of the', 8.72),\n",
       " (7, 'Uganda', 7.32),\n",
       " (8, 'Sierra Leone', 6.92),\n",
       " (9, 'Mozambique', 6.46),\n",
       " (10, 'Malawi', 6.19),\n",
       " (11, 'Ethiopia', 5.81),\n",
       " (12, 'Guinea', 4.81),\n",
       " (13, 'Guyana', 4.56),\n",
       " (14, 'Burkina Faso', 4.54),\n",
       " (15, 'Zambia', 4.45),\n",
       " (16, 'Niger', 4.41),\n",
       " (17, 'Madagascar', 4.34),\n",
       " (18, 'Togo', 3.96),\n",
       " (19, 'Chad', 3.81),\n",
       " (20, 'Rwanda', 3.75),\n",
       " (21, 'Ghana', 3.51),\n",
       " (22, 'Lesotho', 3.34),\n",
       " (23, 'Congo, Republic of the', 3.17),\n",
       " (50, 'Paraguay', 1.21),\n",
       " (52, 'Belarus', 1.02),\n",
       " (101, 'Jamaica', 0.15),\n",
       " (89, 'Bulgaria', 0.22),\n",
       " (79, 'Belize', 0.31),\n",
       " (80, 'Lithuania', 0.31),\n",
       " (81, 'Russia', 0.29),\n",
       " (82, 'Armenia', 0.28),\n",
       " (83, 'Ecuador', 0.27),\n",
       " (84, 'Samoa', 0.27),\n",
       " (85, 'Croatia', 0.26),\n",
       " (86, 'Djibouti', 0.26),\n",
       " (87, 'Moldova', 0.26),\n",
       " (88, 'Botswana', 0.23),\n",
       " (90, 'Slovakia', 0.22),\n",
       " (53, 'Nigeria', 1.02),\n",
       " (91, 'Sweden', 0.21),\n",
       " (92, 'Tunisia', 0.21),\n",
       " (93, 'Afghanistan', 0.2),\n",
       " (94, 'Slovenia', 0.2),\n",
       " (95, 'Albania', 0.18),\n",
       " (96, 'Philippines', 0.18),\n",
       " (97, 'Czechia', 0.17),\n",
       " (98, 'Poland', 0.17),\n",
       " (99, 'Romania', 0.16),\n",
       " (100, 'Egypt', 0.15),\n",
       " (78, 'Bolivia', 0.33),\n",
       " (77, 'Ukraine', 0.34),\n",
       " (76, 'Thailand', 0.34),\n",
       " (75, 'Finland', 0.36),\n",
       " (54, 'Honduras', 0.91),\n",
       " (55, 'Estonia', 0.85),\n",
       " (56, 'Latvia', 0.85),\n",
       " (57, 'Cambodia', 0.84),\n",
       " (58, 'Costa Rica', 0.82),\n",
       " (59, 'Guatemala', 0.78),\n",
       " (60, 'Haiti', 0.68),\n",
       " (61, 'Brazil', 0.62),\n",
       " (62, 'El Salvador', 0.6),\n",
       " (63, 'Fiji', 0.59),\n",
       " (64, 'Vanuatu', 0.54),\n",
       " (65, 'New Zealand', 0.5),\n",
       " (66, 'Bosnia and Herzegovina', 0.49),\n",
       " (67, 'Chile', 0.49),\n",
       " (68, 'Namibia', 0.47),\n",
       " (69, 'Nepal', 0.45),\n",
       " (70, 'Montenegro', 0.43),\n",
       " (71, 'Indonesia', 0.39),\n",
       " (72, 'Cabo Verde', 0.38),\n",
       " (73, 'Serbia', 0.38),\n",
       " (74, 'Angola', 0.36),\n",
       " (204, 'West Bank', 0.0)]"
      ]
     },
     "execution_count": 56,
     "metadata": {},
     "output_type": "execute_result"
    }
   ],
   "source": [
    "badLevels=FQtablecounts[FQtablecounts==1].index.to_list()\n",
    "badLevels"
   ]
  },
  {
   "cell_type": "code",
   "execution_count": 57,
   "id": "7ad8d0d5",
   "metadata": {
    "scrolled": true
   },
   "outputs": [
    {
     "name": "stdout",
     "output_type": "stream",
     "text": [
      "<class 'pandas.core.frame.DataFrame'>\n",
      "RangeIndex: 204 entries, 0 to 203\n",
      "Data columns (total 3 columns):\n",
      " #   Column    Non-Null Count  Dtype  \n",
      "---  ------    --------------  -----  \n",
      " 0   Rank      204 non-null    int64  \n",
      " 1   Country   204 non-null    object \n",
      " 2   % of GDP  204 non-null    float64\n",
      "dtypes: float64(1), int64(1), object(1)\n",
      "memory usage: 4.9+ KB\n"
     ]
    }
   ],
   "source": [
    "DFforest.info()"
   ]
  },
  {
   "cell_type": "code",
   "execution_count": 58,
   "id": "5703e3b0",
   "metadata": {},
   "outputs": [
    {
     "data": {
      "text/plain": [
       "Index(['rank', 'country', '% of gdp'], dtype='object')"
      ]
     },
     "execution_count": 58,
     "metadata": {},
     "output_type": "execute_result"
    }
   ],
   "source": [
    "DFforest.columns.str.lower()"
   ]
  },
  {
   "cell_type": "code",
   "execution_count": 59,
   "id": "4207253c",
   "metadata": {},
   "outputs": [
    {
     "data": {
      "text/plain": [
       "Index(['RANK', 'COUNTRY', '% OF GDP'], dtype='object')"
      ]
     },
     "execution_count": 59,
     "metadata": {},
     "output_type": "execute_result"
    }
   ],
   "source": [
    "DFforest.columns.str.upper()"
   ]
  },
  {
   "cell_type": "code",
   "execution_count": 60,
   "id": "bfc4dc35",
   "metadata": {},
   "outputs": [
    {
     "ename": "AttributeError",
     "evalue": "'DataFrame' object has no attribute 'Regimetype'",
     "output_type": "error",
     "traceback": [
      "\u001b[0;31m---------------------------------------------------------------------------\u001b[0m",
      "\u001b[0;31mAttributeError\u001b[0m                            Traceback (most recent call last)",
      "Cell \u001b[0;32mIn[60], line 1\u001b[0m\n\u001b[0;32m----> 1\u001b[0m \u001b[43mDFforest\u001b[49m\u001b[38;5;241;43m.\u001b[39;49m\u001b[43mRegimetype\u001b[49m\u001b[38;5;241m.\u001b[39mvalue_counts()\n",
      "File \u001b[0;32m/opt/anaconda3/envs/compthinking/lib/python3.9/site-packages/pandas/core/generic.py:5902\u001b[0m, in \u001b[0;36mNDFrame.__getattr__\u001b[0;34m(self, name)\u001b[0m\n\u001b[1;32m   5895\u001b[0m \u001b[38;5;28;01mif\u001b[39;00m (\n\u001b[1;32m   5896\u001b[0m     name \u001b[38;5;129;01mnot\u001b[39;00m \u001b[38;5;129;01min\u001b[39;00m \u001b[38;5;28mself\u001b[39m\u001b[38;5;241m.\u001b[39m_internal_names_set\n\u001b[1;32m   5897\u001b[0m     \u001b[38;5;129;01mand\u001b[39;00m name \u001b[38;5;129;01mnot\u001b[39;00m \u001b[38;5;129;01min\u001b[39;00m \u001b[38;5;28mself\u001b[39m\u001b[38;5;241m.\u001b[39m_metadata\n\u001b[1;32m   5898\u001b[0m     \u001b[38;5;129;01mand\u001b[39;00m name \u001b[38;5;129;01mnot\u001b[39;00m \u001b[38;5;129;01min\u001b[39;00m \u001b[38;5;28mself\u001b[39m\u001b[38;5;241m.\u001b[39m_accessors\n\u001b[1;32m   5899\u001b[0m     \u001b[38;5;129;01mand\u001b[39;00m \u001b[38;5;28mself\u001b[39m\u001b[38;5;241m.\u001b[39m_info_axis\u001b[38;5;241m.\u001b[39m_can_hold_identifiers_and_holds_name(name)\n\u001b[1;32m   5900\u001b[0m ):\n\u001b[1;32m   5901\u001b[0m     \u001b[38;5;28;01mreturn\u001b[39;00m \u001b[38;5;28mself\u001b[39m[name]\n\u001b[0;32m-> 5902\u001b[0m \u001b[38;5;28;01mreturn\u001b[39;00m \u001b[38;5;28;43mobject\u001b[39;49m\u001b[38;5;241;43m.\u001b[39;49m\u001b[38;5;21;43m__getattribute__\u001b[39;49m\u001b[43m(\u001b[49m\u001b[38;5;28;43mself\u001b[39;49m\u001b[43m,\u001b[49m\u001b[43m \u001b[49m\u001b[43mname\u001b[49m\u001b[43m)\u001b[49m\n",
      "\u001b[0;31mAttributeError\u001b[0m: 'DataFrame' object has no attribute 'Regimetype'"
     ]
    }
   ],
   "source": [
    "DFforest.Regimetype.value_counts()"
   ]
  },
  {
   "cell_type": "code",
   "execution_count": 61,
   "id": "426f2962",
   "metadata": {},
   "outputs": [],
   "source": [
    "DFforest.to_csv(\"ForestRev.csv\",index=False)"
   ]
  },
  {
   "cell_type": "code",
   "execution_count": 62,
   "id": "fe75b0fb",
   "metadata": {},
   "outputs": [
    {
     "name": "stdout",
     "output_type": "stream",
     "text": [
      "<class 'pandas.core.frame.DataFrame'>\n",
      "RangeIndex: 204 entries, 0 to 203\n",
      "Data columns (total 3 columns):\n",
      " #   Column    Non-Null Count  Dtype  \n",
      "---  ------    --------------  -----  \n",
      " 0   Rank      204 non-null    int64  \n",
      " 1   Country   204 non-null    object \n",
      " 2   % of GDP  204 non-null    float64\n",
      "dtypes: float64(1), int64(1), object(1)\n",
      "memory usage: 4.9+ KB\n"
     ]
    }
   ],
   "source": [
    "ForestRev=pd.read_csv('ForestRev.csv')\n",
    "ForestRev.info()"
   ]
  },
  {
   "cell_type": "code",
   "execution_count": 63,
   "id": "e54dcf2c",
   "metadata": {},
   "outputs": [
    {
     "name": "stdout",
     "output_type": "stream",
     "text": [
      "<class 'pandas.core.frame.DataFrame'>\n",
      "RangeIndex: 204 entries, 0 to 203\n",
      "Data columns (total 3 columns):\n",
      " #   Column    Non-Null Count  Dtype  \n",
      "---  ------    --------------  -----  \n",
      " 0   Rank      204 non-null    int64  \n",
      " 1   Country   204 non-null    object \n",
      " 2   % of GDP  204 non-null    float64\n",
      "dtypes: float64(1), int64(1), object(1)\n",
      "memory usage: 4.9+ KB\n"
     ]
    }
   ],
   "source": [
    "DFforest.to_pickle(\"Forestpkl.pkl\")\n",
    "Forestpkl=pd.read_pickle('Forestpkl.pkl')\n",
    "Forestpkl.info()"
   ]
  },
  {
   "cell_type": "code",
   "execution_count": 81,
   "id": "969aa65f",
   "metadata": {},
   "outputs": [],
   "source": [
    "# I am not seeing a difference between the pickle and csv file. ?"
   ]
  },
  {
   "cell_type": "code",
   "execution_count": 89,
   "id": "2f0c3aab",
   "metadata": {},
   "outputs": [],
   "source": [
    "# 2 Revenue from Coal Resources"
   ]
  },
  {
   "cell_type": "code",
   "execution_count": 67,
   "id": "9f15e976",
   "metadata": {},
   "outputs": [
    {
     "data": {
      "text/html": [
       "\n",
       "        <iframe\n",
       "            width=\"690\"\n",
       "            height=\"12486\"\n",
       "            src=\"https://www.cia.gov/the-world-factbook/field/revenue-from-coal/country-comparison\"\n",
       "            frameborder=\"0\"\n",
       "            allowfullscreen\n",
       "            \n",
       "        ></iframe>\n",
       "        "
      ],
      "text/plain": [
       "<IPython.lib.display.IFrame at 0x157d333a0>"
      ]
     },
     "execution_count": 67,
     "metadata": {},
     "output_type": "execute_result"
    }
   ],
   "source": [
    "from IPython.display import IFrame\n",
    "Coal=\"https://www.cia.gov/the-world-factbook/field/revenue-from-coal/country-comparison\"\n",
    "IFrame(Coal, width=690, height=12486)"
   ]
  },
  {
   "cell_type": "code",
   "execution_count": 69,
   "id": "e595c5ce",
   "metadata": {},
   "outputs": [],
   "source": [
    "coalTable=pd.read_html(Coal,\n",
    "                        header=0,\n",
    "                        flavor='bs4',\n",
    "                        attrs={'content-table table-auto'})"
   ]
  },
  {
   "cell_type": "code",
   "execution_count": 70,
   "id": "ac399240",
   "metadata": {},
   "outputs": [
    {
     "data": {
      "text/html": [
       "<div>\n",
       "<style scoped>\n",
       "    .dataframe tbody tr th:only-of-type {\n",
       "        vertical-align: middle;\n",
       "    }\n",
       "\n",
       "    .dataframe tbody tr th {\n",
       "        vertical-align: top;\n",
       "    }\n",
       "\n",
       "    .dataframe thead th {\n",
       "        text-align: right;\n",
       "    }\n",
       "</style>\n",
       "<table border=\"1\" class=\"dataframe\">\n",
       "  <thead>\n",
       "    <tr style=\"text-align: right;\">\n",
       "      <th></th>\n",
       "      <th>Rank</th>\n",
       "      <th>Country</th>\n",
       "      <th>% of GDP</th>\n",
       "      <th>Date of Information</th>\n",
       "    </tr>\n",
       "  </thead>\n",
       "  <tbody>\n",
       "    <tr>\n",
       "      <th>0</th>\n",
       "      <td>1</td>\n",
       "      <td>Mongolia</td>\n",
       "      <td>8.62</td>\n",
       "      <td>2018 est.</td>\n",
       "    </tr>\n",
       "    <tr>\n",
       "      <th>1</th>\n",
       "      <td>2</td>\n",
       "      <td>Mozambique</td>\n",
       "      <td>4.17</td>\n",
       "      <td>2018 est.</td>\n",
       "    </tr>\n",
       "    <tr>\n",
       "      <th>2</th>\n",
       "      <td>3</td>\n",
       "      <td>South Africa</td>\n",
       "      <td>2.40</td>\n",
       "      <td>2018 est.</td>\n",
       "    </tr>\n",
       "    <tr>\n",
       "      <th>3</th>\n",
       "      <td>4</td>\n",
       "      <td>India</td>\n",
       "      <td>1.15</td>\n",
       "      <td>2018 est.</td>\n",
       "    </tr>\n",
       "    <tr>\n",
       "      <th>4</th>\n",
       "      <td>5</td>\n",
       "      <td>Indonesia</td>\n",
       "      <td>1.06</td>\n",
       "      <td>2018 est.</td>\n",
       "    </tr>\n",
       "    <tr>\n",
       "      <th>...</th>\n",
       "      <td>...</td>\n",
       "      <td>...</td>\n",
       "      <td>...</td>\n",
       "      <td>...</td>\n",
       "    </tr>\n",
       "    <tr>\n",
       "      <th>181</th>\n",
       "      <td>182</td>\n",
       "      <td>United Arab Emirates</td>\n",
       "      <td>0.00</td>\n",
       "      <td>2018 est.</td>\n",
       "    </tr>\n",
       "    <tr>\n",
       "      <th>182</th>\n",
       "      <td>183</td>\n",
       "      <td>United Kingdom</td>\n",
       "      <td>0.00</td>\n",
       "      <td>2018 est.</td>\n",
       "    </tr>\n",
       "    <tr>\n",
       "      <th>183</th>\n",
       "      <td>184</td>\n",
       "      <td>Uruguay</td>\n",
       "      <td>0.00</td>\n",
       "      <td>2018 est.</td>\n",
       "    </tr>\n",
       "    <tr>\n",
       "      <th>184</th>\n",
       "      <td>185</td>\n",
       "      <td>Vanuatu</td>\n",
       "      <td>0.00</td>\n",
       "      <td>2018 est.</td>\n",
       "    </tr>\n",
       "    <tr>\n",
       "      <th>185</th>\n",
       "      <td>186</td>\n",
       "      <td>Yemen</td>\n",
       "      <td>0.00</td>\n",
       "      <td>2018 est.</td>\n",
       "    </tr>\n",
       "  </tbody>\n",
       "</table>\n",
       "<p>186 rows × 4 columns</p>\n",
       "</div>"
      ],
      "text/plain": [
       "     Rank               Country  % of GDP Date of Information\n",
       "0       1              Mongolia      8.62           2018 est.\n",
       "1       2            Mozambique      4.17           2018 est.\n",
       "2       3          South Africa      2.40           2018 est.\n",
       "3       4                 India      1.15           2018 est.\n",
       "4       5             Indonesia      1.06           2018 est.\n",
       "..    ...                   ...       ...                 ...\n",
       "181   182  United Arab Emirates      0.00           2018 est.\n",
       "182   183        United Kingdom      0.00           2018 est.\n",
       "183   184               Uruguay      0.00           2018 est.\n",
       "184   185               Vanuatu      0.00           2018 est.\n",
       "185   186                 Yemen      0.00           2018 est.\n",
       "\n",
       "[186 rows x 4 columns]"
      ]
     },
     "execution_count": 70,
     "metadata": {},
     "output_type": "execute_result"
    }
   ],
   "source": [
    "coalTable[0]"
   ]
  },
  {
   "cell_type": "code",
   "execution_count": 71,
   "id": "94d96add",
   "metadata": {},
   "outputs": [],
   "source": [
    "DFcoal=coalTable[0].copy()"
   ]
  },
  {
   "cell_type": "code",
   "execution_count": 72,
   "id": "be4e4195",
   "metadata": {},
   "outputs": [
    {
     "data": {
      "text/plain": [
       "Index(['Rank', 'Country', '% of GDP', 'Date of Information'], dtype='object')"
      ]
     },
     "execution_count": 72,
     "metadata": {},
     "output_type": "execute_result"
    }
   ],
   "source": [
    "DFcoal.columns"
   ]
  },
  {
   "cell_type": "code",
   "execution_count": 73,
   "id": "91154855",
   "metadata": {
    "scrolled": true
   },
   "outputs": [
    {
     "data": {
      "text/html": [
       "<div>\n",
       "<style scoped>\n",
       "    .dataframe tbody tr th:only-of-type {\n",
       "        vertical-align: middle;\n",
       "    }\n",
       "\n",
       "    .dataframe tbody tr th {\n",
       "        vertical-align: top;\n",
       "    }\n",
       "\n",
       "    .dataframe thead th {\n",
       "        text-align: right;\n",
       "    }\n",
       "</style>\n",
       "<table border=\"1\" class=\"dataframe\">\n",
       "  <thead>\n",
       "    <tr style=\"text-align: right;\">\n",
       "      <th></th>\n",
       "      <th>Rank</th>\n",
       "      <th>Country</th>\n",
       "      <th>% of GDP</th>\n",
       "    </tr>\n",
       "  </thead>\n",
       "  <tbody>\n",
       "    <tr>\n",
       "      <th>0</th>\n",
       "      <td>1</td>\n",
       "      <td>Mongolia</td>\n",
       "      <td>8.62</td>\n",
       "    </tr>\n",
       "    <tr>\n",
       "      <th>1</th>\n",
       "      <td>2</td>\n",
       "      <td>Mozambique</td>\n",
       "      <td>4.17</td>\n",
       "    </tr>\n",
       "    <tr>\n",
       "      <th>2</th>\n",
       "      <td>3</td>\n",
       "      <td>South Africa</td>\n",
       "      <td>2.40</td>\n",
       "    </tr>\n",
       "    <tr>\n",
       "      <th>3</th>\n",
       "      <td>4</td>\n",
       "      <td>India</td>\n",
       "      <td>1.15</td>\n",
       "    </tr>\n",
       "    <tr>\n",
       "      <th>4</th>\n",
       "      <td>5</td>\n",
       "      <td>Indonesia</td>\n",
       "      <td>1.06</td>\n",
       "    </tr>\n",
       "    <tr>\n",
       "      <th>...</th>\n",
       "      <td>...</td>\n",
       "      <td>...</td>\n",
       "      <td>...</td>\n",
       "    </tr>\n",
       "    <tr>\n",
       "      <th>181</th>\n",
       "      <td>182</td>\n",
       "      <td>United Arab Emirates</td>\n",
       "      <td>0.00</td>\n",
       "    </tr>\n",
       "    <tr>\n",
       "      <th>182</th>\n",
       "      <td>183</td>\n",
       "      <td>United Kingdom</td>\n",
       "      <td>0.00</td>\n",
       "    </tr>\n",
       "    <tr>\n",
       "      <th>183</th>\n",
       "      <td>184</td>\n",
       "      <td>Uruguay</td>\n",
       "      <td>0.00</td>\n",
       "    </tr>\n",
       "    <tr>\n",
       "      <th>184</th>\n",
       "      <td>185</td>\n",
       "      <td>Vanuatu</td>\n",
       "      <td>0.00</td>\n",
       "    </tr>\n",
       "    <tr>\n",
       "      <th>185</th>\n",
       "      <td>186</td>\n",
       "      <td>Yemen</td>\n",
       "      <td>0.00</td>\n",
       "    </tr>\n",
       "  </tbody>\n",
       "</table>\n",
       "<p>186 rows × 3 columns</p>\n",
       "</div>"
      ],
      "text/plain": [
       "     Rank               Country  % of GDP\n",
       "0       1              Mongolia      8.62\n",
       "1       2            Mozambique      4.17\n",
       "2       3          South Africa      2.40\n",
       "3       4                 India      1.15\n",
       "4       5             Indonesia      1.06\n",
       "..    ...                   ...       ...\n",
       "181   182  United Arab Emirates      0.00\n",
       "182   183        United Kingdom      0.00\n",
       "183   184               Uruguay      0.00\n",
       "184   185               Vanuatu      0.00\n",
       "185   186                 Yemen      0.00\n",
       "\n",
       "[186 rows x 3 columns]"
      ]
     },
     "execution_count": 73,
     "metadata": {},
     "output_type": "execute_result"
    }
   ],
   "source": [
    "byecoal=[3]\n",
    "DFcoal.drop(columns=DFcoal.columns[byecoal],inplace=True)\n",
    "DFcoal"
   ]
  },
  {
   "cell_type": "code",
   "execution_count": 74,
   "id": "3d23736d",
   "metadata": {},
   "outputs": [],
   "source": [
    "# should I change the \"%\" or is it ok to keep?"
   ]
  },
  {
   "cell_type": "code",
   "execution_count": 75,
   "id": "324ba1c6",
   "metadata": {},
   "outputs": [
    {
     "data": {
      "text/plain": [
       "0                  Mongolia\n",
       "1                Mozambique\n",
       "2              South Africa\n",
       "3                     India\n",
       "4                 Indonesia\n",
       "               ...         \n",
       "181    United Arab Emirates\n",
       "182          United Kingdom\n",
       "183                 Uruguay\n",
       "184                 Vanuatu\n",
       "185                   Yemen\n",
       "Name: Country, Length: 186, dtype: object"
      ]
     },
     "execution_count": 75,
     "metadata": {},
     "output_type": "execute_result"
    }
   ],
   "source": [
    "DFcoal.iloc[:,1].apply(stripSeveral)"
   ]
  },
  {
   "cell_type": "code",
   "execution_count": 76,
   "id": "b936f36a",
   "metadata": {},
   "outputs": [
    {
     "data": {
      "text/plain": [
       "0                  Mongolia\n",
       "1                Mozambique\n",
       "2              South Africa\n",
       "3                     India\n",
       "4                 Indonesia\n",
       "               ...         \n",
       "181    United Arab Emirates\n",
       "182          United Kingdom\n",
       "183                 Uruguay\n",
       "184                 Vanuatu\n",
       "185                   Yemen\n",
       "Name: Country, Length: 186, dtype: object"
      ]
     },
     "execution_count": 76,
     "metadata": {},
     "output_type": "execute_result"
    }
   ],
   "source": [
    "DFcoal.iloc[:,1]"
   ]
  },
  {
   "cell_type": "code",
   "execution_count": 79,
   "id": "18a09422",
   "metadata": {},
   "outputs": [
    {
     "data": {
      "text/html": [
       "<div>\n",
       "<style scoped>\n",
       "    .dataframe tbody tr th:only-of-type {\n",
       "        vertical-align: middle;\n",
       "    }\n",
       "\n",
       "    .dataframe tbody tr th {\n",
       "        vertical-align: top;\n",
       "    }\n",
       "\n",
       "    .dataframe thead th {\n",
       "        text-align: right;\n",
       "    }\n",
       "</style>\n",
       "<table border=\"1\" class=\"dataframe\">\n",
       "  <thead>\n",
       "    <tr style=\"text-align: right;\">\n",
       "      <th></th>\n",
       "      <th>Rank</th>\n",
       "      <th>Country</th>\n",
       "      <th>% of GDP</th>\n",
       "    </tr>\n",
       "  </thead>\n",
       "  <tbody>\n",
       "    <tr>\n",
       "      <th>0</th>\n",
       "      <td>1</td>\n",
       "      <td>Mongolia</td>\n",
       "      <td>8.62</td>\n",
       "    </tr>\n",
       "    <tr>\n",
       "      <th>1</th>\n",
       "      <td>2</td>\n",
       "      <td>Mozambique</td>\n",
       "      <td>4.17</td>\n",
       "    </tr>\n",
       "    <tr>\n",
       "      <th>2</th>\n",
       "      <td>3</td>\n",
       "      <td>South Africa</td>\n",
       "      <td>2.40</td>\n",
       "    </tr>\n",
       "    <tr>\n",
       "      <th>3</th>\n",
       "      <td>4</td>\n",
       "      <td>India</td>\n",
       "      <td>1.15</td>\n",
       "    </tr>\n",
       "    <tr>\n",
       "      <th>4</th>\n",
       "      <td>5</td>\n",
       "      <td>Indonesia</td>\n",
       "      <td>1.06</td>\n",
       "    </tr>\n",
       "    <tr>\n",
       "      <th>...</th>\n",
       "      <td>...</td>\n",
       "      <td>...</td>\n",
       "      <td>...</td>\n",
       "    </tr>\n",
       "    <tr>\n",
       "      <th>181</th>\n",
       "      <td>182</td>\n",
       "      <td>United Arab Emirates</td>\n",
       "      <td>0.00</td>\n",
       "    </tr>\n",
       "    <tr>\n",
       "      <th>182</th>\n",
       "      <td>183</td>\n",
       "      <td>United Kingdom</td>\n",
       "      <td>0.00</td>\n",
       "    </tr>\n",
       "    <tr>\n",
       "      <th>183</th>\n",
       "      <td>184</td>\n",
       "      <td>Uruguay</td>\n",
       "      <td>0.00</td>\n",
       "    </tr>\n",
       "    <tr>\n",
       "      <th>184</th>\n",
       "      <td>185</td>\n",
       "      <td>Vanuatu</td>\n",
       "      <td>0.00</td>\n",
       "    </tr>\n",
       "    <tr>\n",
       "      <th>185</th>\n",
       "      <td>186</td>\n",
       "      <td>Yemen</td>\n",
       "      <td>0.00</td>\n",
       "    </tr>\n",
       "  </tbody>\n",
       "</table>\n",
       "<p>186 rows × 3 columns</p>\n",
       "</div>"
      ],
      "text/plain": [
       "     Rank               Country  % of GDP\n",
       "0       1              Mongolia      8.62\n",
       "1       2            Mozambique      4.17\n",
       "2       3          South Africa      2.40\n",
       "3       4                 India      1.15\n",
       "4       5             Indonesia      1.06\n",
       "..    ...                   ...       ...\n",
       "181   182  United Arab Emirates      0.00\n",
       "182   183        United Kingdom      0.00\n",
       "183   184               Uruguay      0.00\n",
       "184   185               Vanuatu      0.00\n",
       "185   186                 Yemen      0.00\n",
       "\n",
       "[186 rows x 3 columns]"
      ]
     },
     "execution_count": 79,
     "metadata": {},
     "output_type": "execute_result"
    }
   ],
   "source": [
    "DFcoal.iloc[:,:3]"
   ]
  },
  {
   "cell_type": "code",
   "execution_count": 80,
   "id": "3c54e2bc",
   "metadata": {},
   "outputs": [
    {
     "data": {
      "text/plain": [
       "Rank  Country   % of GDP\n",
       "1     Mongolia  8.62        1\n",
       "128   Liberia   0.00        1\n",
       "119   Japan     0.00        1\n",
       "120   Jordan    0.00        1\n",
       "121   Kenya     0.00        1\n",
       "                           ..\n",
       "65    Belgium   0.00        1\n",
       "66    Belize    0.00        1\n",
       "67    Benin     0.00        1\n",
       "68    Bhutan    0.00        1\n",
       "186   Yemen     0.00        1\n",
       "Length: 186, dtype: int64"
      ]
     },
     "execution_count": 80,
     "metadata": {},
     "output_type": "execute_result"
    }
   ],
   "source": [
    "FQtablecountscoal=DFcoal.value_counts()\n",
    "FQtablecountscoal"
   ]
  },
  {
   "cell_type": "code",
   "execution_count": 82,
   "id": "47e8857b",
   "metadata": {},
   "outputs": [
    {
     "data": {
      "text/plain": [
       "0      8.62\n",
       "1      4.17\n",
       "2      2.40\n",
       "3      1.15\n",
       "4      1.06\n",
       "       ... \n",
       "181    0.00\n",
       "182    0.00\n",
       "183    0.00\n",
       "184    0.00\n",
       "185    0.00\n",
       "Name: % of GDP, Length: 186, dtype: float64"
      ]
     },
     "execution_count": 82,
     "metadata": {},
     "output_type": "execute_result"
    }
   ],
   "source": [
    "DFcoal.iloc[:,2]"
   ]
  },
  {
   "cell_type": "code",
   "execution_count": 83,
   "id": "b0a2f3ae",
   "metadata": {},
   "outputs": [
    {
     "name": "stdout",
     "output_type": "stream",
     "text": [
      "<class 'pandas.core.frame.DataFrame'>\n",
      "RangeIndex: 186 entries, 0 to 185\n",
      "Data columns (total 3 columns):\n",
      " #   Column    Non-Null Count  Dtype  \n",
      "---  ------    --------------  -----  \n",
      " 0   Rank      186 non-null    int64  \n",
      " 1   Country   186 non-null    object \n",
      " 2   % of GDP  186 non-null    float64\n",
      "dtypes: float64(1), int64(1), object(1)\n",
      "memory usage: 4.5+ KB\n"
     ]
    }
   ],
   "source": [
    "DFcoal.info()"
   ]
  },
  {
   "cell_type": "code",
   "execution_count": 84,
   "id": "6eeecfc2",
   "metadata": {},
   "outputs": [
    {
     "data": {
      "text/plain": [
       "Index(['rank', 'country', '% of gdp'], dtype='object')"
      ]
     },
     "execution_count": 84,
     "metadata": {},
     "output_type": "execute_result"
    }
   ],
   "source": [
    "DFcoal.columns.str.lower()"
   ]
  },
  {
   "cell_type": "code",
   "execution_count": 85,
   "id": "450b9c91",
   "metadata": {},
   "outputs": [
    {
     "data": {
      "text/plain": [
       "Index(['RANK', 'COUNTRY', '% OF GDP'], dtype='object')"
      ]
     },
     "execution_count": 85,
     "metadata": {},
     "output_type": "execute_result"
    }
   ],
   "source": [
    "DFcoal.columns.str.upper()"
   ]
  },
  {
   "cell_type": "code",
   "execution_count": 86,
   "id": "36e3a538",
   "metadata": {},
   "outputs": [],
   "source": [
    "DFcoal.to_csv(\"CoalRev.csv\",index=False)"
   ]
  },
  {
   "cell_type": "code",
   "execution_count": 91,
   "id": "1ddcb817",
   "metadata": {},
   "outputs": [],
   "source": [
    "# 3 Energy Consumption per Capita"
   ]
  },
  {
   "cell_type": "code",
   "execution_count": 92,
   "id": "09f34ef3",
   "metadata": {},
   "outputs": [
    {
     "data": {
      "text/html": [
       "\n",
       "        <iframe\n",
       "            width=\"690\"\n",
       "            height=\"13006\"\n",
       "            src=\"https://www.cia.gov/the-world-factbook/field/energy-consumption-per-capita/country-comparison\"\n",
       "            frameborder=\"0\"\n",
       "            allowfullscreen\n",
       "            \n",
       "        ></iframe>\n",
       "        "
      ],
      "text/plain": [
       "<IPython.lib.display.IFrame at 0x1582e87c0>"
      ]
     },
     "execution_count": 92,
     "metadata": {},
     "output_type": "execute_result"
    }
   ],
   "source": [
    "from IPython.display import IFrame\n",
    "energy=\"https://www.cia.gov/the-world-factbook/field/energy-consumption-per-capita/country-comparison\"\n",
    "IFrame(energy, width=690, height=13006)"
   ]
  },
  {
   "cell_type": "code",
   "execution_count": 93,
   "id": "4cf4f83a",
   "metadata": {},
   "outputs": [],
   "source": [
    "energyTable=pd.read_html(energy,\n",
    "                        header=0,\n",
    "                        flavor='bs4',\n",
    "                        attrs={'content-table table-auto'})"
   ]
  },
  {
   "cell_type": "code",
   "execution_count": 94,
   "id": "fb62ed7d",
   "metadata": {},
   "outputs": [
    {
     "data": {
      "text/html": [
       "<div>\n",
       "<style scoped>\n",
       "    .dataframe tbody tr th:only-of-type {\n",
       "        vertical-align: middle;\n",
       "    }\n",
       "\n",
       "    .dataframe tbody tr th {\n",
       "        vertical-align: top;\n",
       "    }\n",
       "\n",
       "    .dataframe thead th {\n",
       "        text-align: right;\n",
       "    }\n",
       "</style>\n",
       "<table border=\"1\" class=\"dataframe\">\n",
       "  <thead>\n",
       "    <tr style=\"text-align: right;\">\n",
       "      <th></th>\n",
       "      <th>Rank</th>\n",
       "      <th>Country</th>\n",
       "      <th>Btu/person</th>\n",
       "      <th>Date of Information</th>\n",
       "    </tr>\n",
       "  </thead>\n",
       "  <tbody>\n",
       "    <tr>\n",
       "      <th>0</th>\n",
       "      <td>1</td>\n",
       "      <td>Qatar</td>\n",
       "      <td>723582000.0</td>\n",
       "      <td>2019 est.</td>\n",
       "    </tr>\n",
       "    <tr>\n",
       "      <th>1</th>\n",
       "      <td>2</td>\n",
       "      <td>Singapore</td>\n",
       "      <td>639951000.0</td>\n",
       "      <td>2019 est.</td>\n",
       "    </tr>\n",
       "    <tr>\n",
       "      <th>2</th>\n",
       "      <td>3</td>\n",
       "      <td>Bahrain</td>\n",
       "      <td>547976000.0</td>\n",
       "      <td>2019 est.</td>\n",
       "    </tr>\n",
       "    <tr>\n",
       "      <th>3</th>\n",
       "      <td>4</td>\n",
       "      <td>United Arab Emirates</td>\n",
       "      <td>471788000.0</td>\n",
       "      <td>2019 est.</td>\n",
       "    </tr>\n",
       "    <tr>\n",
       "      <th>4</th>\n",
       "      <td>5</td>\n",
       "      <td>Brunei</td>\n",
       "      <td>415184000.0</td>\n",
       "      <td>2019 est.</td>\n",
       "    </tr>\n",
       "    <tr>\n",
       "      <th>...</th>\n",
       "      <td>...</td>\n",
       "      <td>...</td>\n",
       "      <td>...</td>\n",
       "      <td>...</td>\n",
       "    </tr>\n",
       "    <tr>\n",
       "      <th>207</th>\n",
       "      <td>208</td>\n",
       "      <td>Saint Helena, Ascension, and Tristan da Cunha</td>\n",
       "      <td>0.0</td>\n",
       "      <td>2019 est.</td>\n",
       "    </tr>\n",
       "    <tr>\n",
       "      <th>208</th>\n",
       "      <td>209</td>\n",
       "      <td>Saint Pierre and Miquelon</td>\n",
       "      <td>0.0</td>\n",
       "      <td>2019 est.</td>\n",
       "    </tr>\n",
       "    <tr>\n",
       "      <th>209</th>\n",
       "      <td>210</td>\n",
       "      <td>Turks and Caicos Islands</td>\n",
       "      <td>0.0</td>\n",
       "      <td>2019 est.</td>\n",
       "    </tr>\n",
       "    <tr>\n",
       "      <th>210</th>\n",
       "      <td>211</td>\n",
       "      <td>Tuvalu</td>\n",
       "      <td>0.0</td>\n",
       "      <td>2019 est.</td>\n",
       "    </tr>\n",
       "    <tr>\n",
       "      <th>211</th>\n",
       "      <td>212</td>\n",
       "      <td>Wake Island</td>\n",
       "      <td>0.0</td>\n",
       "      <td>2019 est.</td>\n",
       "    </tr>\n",
       "  </tbody>\n",
       "</table>\n",
       "<p>212 rows × 4 columns</p>\n",
       "</div>"
      ],
      "text/plain": [
       "     Rank                                        Country   Btu/person  \\\n",
       "0       1                                          Qatar  723582000.0   \n",
       "1       2                                      Singapore  639951000.0   \n",
       "2       3                                        Bahrain  547976000.0   \n",
       "3       4                           United Arab Emirates  471788000.0   \n",
       "4       5                                         Brunei  415184000.0   \n",
       "..    ...                                            ...          ...   \n",
       "207   208  Saint Helena, Ascension, and Tristan da Cunha          0.0   \n",
       "208   209                      Saint Pierre and Miquelon          0.0   \n",
       "209   210                       Turks and Caicos Islands          0.0   \n",
       "210   211                                         Tuvalu          0.0   \n",
       "211   212                                    Wake Island          0.0   \n",
       "\n",
       "    Date of Information  \n",
       "0             2019 est.  \n",
       "1             2019 est.  \n",
       "2             2019 est.  \n",
       "3             2019 est.  \n",
       "4             2019 est.  \n",
       "..                  ...  \n",
       "207           2019 est.  \n",
       "208           2019 est.  \n",
       "209           2019 est.  \n",
       "210           2019 est.  \n",
       "211           2019 est.  \n",
       "\n",
       "[212 rows x 4 columns]"
      ]
     },
     "execution_count": 94,
     "metadata": {},
     "output_type": "execute_result"
    }
   ],
   "source": [
    "energyTable[0]"
   ]
  },
  {
   "cell_type": "code",
   "execution_count": null,
   "id": "231b2235",
   "metadata": {},
   "outputs": [],
   "source": []
  },
  {
   "cell_type": "code",
   "execution_count": null,
   "id": "2951d486",
   "metadata": {},
   "outputs": [],
   "source": []
  },
  {
   "cell_type": "code",
   "execution_count": null,
   "id": "35bcc227",
   "metadata": {},
   "outputs": [],
   "source": []
  },
  {
   "cell_type": "code",
   "execution_count": null,
   "id": "af54b9ef",
   "metadata": {},
   "outputs": [],
   "source": []
  },
  {
   "cell_type": "code",
   "execution_count": null,
   "id": "8a5008c6",
   "metadata": {},
   "outputs": [],
   "source": []
  },
  {
   "cell_type": "code",
   "execution_count": null,
   "id": "cfe1aeca",
   "metadata": {},
   "outputs": [],
   "source": []
  },
  {
   "cell_type": "code",
   "execution_count": null,
   "id": "ccda9db9",
   "metadata": {},
   "outputs": [],
   "source": []
  },
  {
   "cell_type": "code",
   "execution_count": null,
   "id": "a09dfe69",
   "metadata": {},
   "outputs": [],
   "source": []
  },
  {
   "cell_type": "code",
   "execution_count": null,
   "id": "be62743a",
   "metadata": {},
   "outputs": [],
   "source": []
  },
  {
   "cell_type": "code",
   "execution_count": null,
   "id": "dae51686",
   "metadata": {},
   "outputs": [],
   "source": []
  },
  {
   "cell_type": "code",
   "execution_count": null,
   "id": "5ec2878c",
   "metadata": {},
   "outputs": [],
   "source": []
  },
  {
   "cell_type": "code",
   "execution_count": null,
   "id": "4482f049",
   "metadata": {},
   "outputs": [],
   "source": []
  },
  {
   "cell_type": "code",
   "execution_count": null,
   "id": "c1ffa585",
   "metadata": {},
   "outputs": [],
   "source": []
  },
  {
   "cell_type": "code",
   "execution_count": null,
   "id": "53540c68",
   "metadata": {},
   "outputs": [],
   "source": []
  },
  {
   "cell_type": "code",
   "execution_count": null,
   "id": "c7062ebf",
   "metadata": {},
   "outputs": [],
   "source": []
  },
  {
   "cell_type": "code",
   "execution_count": null,
   "id": "35b7ceb9",
   "metadata": {},
   "outputs": [],
   "source": []
  }
 ],
 "metadata": {
  "kernelspec": {
   "display_name": "Python 3 (ipykernel)",
   "language": "python",
   "name": "python3"
  },
  "language_info": {
   "codemirror_mode": {
    "name": "ipython",
    "version": 3
   },
   "file_extension": ".py",
   "mimetype": "text/x-python",
   "name": "python",
   "nbconvert_exporter": "python",
   "pygments_lexer": "ipython3",
   "version": "3.9.15"
  }
 },
 "nbformat": 4,
 "nbformat_minor": 5
}
