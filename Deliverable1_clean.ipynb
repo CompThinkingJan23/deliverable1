{
 "cells": [
  {
   "cell_type": "code",
   "execution_count": 237,
   "id": "802e0128",
   "metadata": {},
   "outputs": [],
   "source": [
    "# 1 Revenue from Forest Resources"
   ]
  },
  {
   "cell_type": "code",
   "execution_count": 238,
   "id": "7ba4e7b0",
   "metadata": {},
   "outputs": [
    {
     "data": {
      "text/html": [
       "\n",
       "        <iframe\n",
       "            width=\"690\"\n",
       "            height=\"12486\"\n",
       "            src=\"https://www.cia.gov/the-world-factbook/field/revenue-from-forest-resources/country-comparison\"\n",
       "            frameborder=\"0\"\n",
       "            allowfullscreen\n",
       "            \n",
       "        ></iframe>\n",
       "        "
      ],
      "text/plain": [
       "<IPython.lib.display.IFrame at 0x15fae9160>"
      ]
     },
     "execution_count": 238,
     "metadata": {},
     "output_type": "execute_result"
    }
   ],
   "source": [
    "from IPython.display import IFrame\n",
    "Forest=\"https://www.cia.gov/the-world-factbook/field/revenue-from-forest-resources/country-comparison\"\n",
    "IFrame(Forest, width=690, height=12486)"
   ]
  },
  {
   "cell_type": "code",
   "execution_count": 239,
   "id": "f2e722da",
   "metadata": {},
   "outputs": [],
   "source": [
    "import pandas as pd\n",
    "\n",
    "ForestTable=pd.read_html(Forest,\n",
    "                        header=0,\n",
    "                        flavor='bs4',\n",
    "                        attrs={'content-table table-auto'})"
   ]
  },
  {
   "cell_type": "code",
   "execution_count": 240,
   "id": "0dc2fb40",
   "metadata": {},
   "outputs": [],
   "source": [
    "DFforest=ForestTable[0].copy()"
   ]
  },
  {
   "cell_type": "code",
   "execution_count": 241,
   "id": "8efc6ba7",
   "metadata": {},
   "outputs": [],
   "source": [
    "bye=[3]\n",
    "DFforest.drop(columns=DFforest.columns[bye],inplace=True)"
   ]
  },
  {
   "cell_type": "code",
   "execution_count": 242,
   "id": "e26517e6",
   "metadata": {},
   "outputs": [],
   "source": [
    "DFforest.rename(columns = {'% of GDP':'GDP'}, inplace = True)"
   ]
  },
  {
   "cell_type": "code",
   "execution_count": 243,
   "id": "e6516217",
   "metadata": {},
   "outputs": [],
   "source": [
    "stripSeveral=lambda x: x.strip()\n",
    "DFforest.iloc[:,1]=DFforest.iloc[:,1].apply(stripSeveral)"
   ]
  },
  {
   "cell_type": "code",
   "execution_count": 244,
   "id": "9c0fd390",
   "metadata": {},
   "outputs": [],
   "source": [
    "ftableCounts=DFforest.Country.value_counts()"
   ]
  },
  {
   "cell_type": "code",
   "execution_count": 245,
   "id": "6950e5d0",
   "metadata": {},
   "outputs": [],
   "source": [
    "# I did not touch frequency since the data was already cleaned. Same for the following two datasets. However, I wanted to signal that I knew how to check."
   ]
  },
  {
   "cell_type": "code",
   "execution_count": 246,
   "id": "f784b991",
   "metadata": {},
   "outputs": [],
   "source": [
    "DFforest.to_csv(\"forestindex.csv\",index=False)\n",
    "forestcsv=pd.read_csv('forestindex.csv')"
   ]
  },
  {
   "cell_type": "code",
   "execution_count": 247,
   "id": "2f0c3aab",
   "metadata": {},
   "outputs": [],
   "source": [
    "# 2 Revenue from Coal Resources"
   ]
  },
  {
   "cell_type": "code",
   "execution_count": 248,
   "id": "9f15e976",
   "metadata": {
    "scrolled": false
   },
   "outputs": [
    {
     "data": {
      "text/html": [
       "\n",
       "        <iframe\n",
       "            width=\"690\"\n",
       "            height=\"12486\"\n",
       "            src=\"https://www.cia.gov/the-world-factbook/field/revenue-from-coal/country-comparison\"\n",
       "            frameborder=\"0\"\n",
       "            allowfullscreen\n",
       "            \n",
       "        ></iframe>\n",
       "        "
      ],
      "text/plain": [
       "<IPython.lib.display.IFrame at 0x15ffbd280>"
      ]
     },
     "execution_count": 248,
     "metadata": {},
     "output_type": "execute_result"
    }
   ],
   "source": [
    "from IPython.display import IFrame\n",
    "Coal=\"https://www.cia.gov/the-world-factbook/field/revenue-from-coal/country-comparison\"\n",
    "IFrame(Coal, width=690, height=12486)"
   ]
  },
  {
   "cell_type": "code",
   "execution_count": 249,
   "id": "e595c5ce",
   "metadata": {},
   "outputs": [],
   "source": [
    "coalTable=pd.read_html(Coal,\n",
    "                        header=0,\n",
    "                        flavor='bs4',\n",
    "                        attrs={'content-table table-auto'})"
   ]
  },
  {
   "cell_type": "code",
   "execution_count": 250,
   "id": "94d96add",
   "metadata": {},
   "outputs": [],
   "source": [
    "DFcoal=coalTable[0].copy()"
   ]
  },
  {
   "cell_type": "code",
   "execution_count": 251,
   "id": "91154855",
   "metadata": {
    "scrolled": true
   },
   "outputs": [],
   "source": [
    "byecoal=[3]\n",
    "DFcoal.drop(columns=DFcoal.columns[byecoal],inplace=True)"
   ]
  },
  {
   "cell_type": "code",
   "execution_count": 252,
   "id": "0e47bc76",
   "metadata": {},
   "outputs": [],
   "source": [
    "DFcoal.rename(columns = {'% of GDP':'GDP'}, inplace = True)"
   ]
  },
  {
   "cell_type": "code",
   "execution_count": 253,
   "id": "324ba1c6",
   "metadata": {},
   "outputs": [],
   "source": [
    "DFcoal.iloc[:,1].apply(stripSeveral)\n",
    "DFcoal.iloc[:,1]=DFcoal.iloc[:,1].apply(stripSeveral)"
   ]
  },
  {
   "cell_type": "code",
   "execution_count": 254,
   "id": "3c54e2bc",
   "metadata": {},
   "outputs": [],
   "source": [
    "FQcoal=DFcoal.Country.value_counts() "
   ]
  },
  {
   "cell_type": "code",
   "execution_count": 255,
   "id": "36e3a538",
   "metadata": {},
   "outputs": [],
   "source": [
    "DFcoal.to_csv(\"CoalRev.csv\",index=False)"
   ]
  },
  {
   "cell_type": "code",
   "execution_count": 256,
   "id": "1ddcb817",
   "metadata": {},
   "outputs": [],
   "source": [
    "# 3 Energy Consumption per Capita"
   ]
  },
  {
   "cell_type": "code",
   "execution_count": 257,
   "id": "09f34ef3",
   "metadata": {},
   "outputs": [
    {
     "data": {
      "text/html": [
       "\n",
       "        <iframe\n",
       "            width=\"690\"\n",
       "            height=\"13006\"\n",
       "            src=\"https://www.cia.gov/the-world-factbook/field/energy-consumption-per-capita/country-comparison\"\n",
       "            frameborder=\"0\"\n",
       "            allowfullscreen\n",
       "            \n",
       "        ></iframe>\n",
       "        "
      ],
      "text/plain": [
       "<IPython.lib.display.IFrame at 0x15fe02a00>"
      ]
     },
     "execution_count": 257,
     "metadata": {},
     "output_type": "execute_result"
    }
   ],
   "source": [
    "from IPython.display import IFrame\n",
    "energy=\"https://www.cia.gov/the-world-factbook/field/energy-consumption-per-capita/country-comparison\"\n",
    "IFrame(energy, width=690, height=13006)"
   ]
  },
  {
   "cell_type": "code",
   "execution_count": 258,
   "id": "4cf4f83a",
   "metadata": {},
   "outputs": [],
   "source": [
    "energyTable=pd.read_html(energy,\n",
    "                        header=0,\n",
    "                        flavor='bs4',\n",
    "                        attrs={'content-table table-auto'})"
   ]
  },
  {
   "cell_type": "code",
   "execution_count": 259,
   "id": "231b2235",
   "metadata": {},
   "outputs": [],
   "source": [
    "DFenergy=energyTable[0].copy()"
   ]
  },
  {
   "cell_type": "code",
   "execution_count": 260,
   "id": "2951d486",
   "metadata": {},
   "outputs": [],
   "source": [
    "byeenergy=[3]\n",
    "DFenergy.drop(columns=DFenergy.columns[byeenergy],inplace=True)"
   ]
  },
  {
   "cell_type": "code",
   "execution_count": 261,
   "id": "29cef662",
   "metadata": {},
   "outputs": [],
   "source": [
    "DFenergy.rename(columns = {'Btu/person':'Btu'}, inplace = True)"
   ]
  },
  {
   "cell_type": "code",
   "execution_count": 262,
   "id": "35bcc227",
   "metadata": {},
   "outputs": [
    {
     "data": {
      "text/plain": [
       "0                                              Qatar\n",
       "1                                          Singapore\n",
       "2                                            Bahrain\n",
       "3                               United Arab Emirates\n",
       "4                                             Brunei\n",
       "                           ...                      \n",
       "207    Saint Helena, Ascension, and Tristan da Cunha\n",
       "208                        Saint Pierre and Miquelon\n",
       "209                         Turks and Caicos Islands\n",
       "210                                           Tuvalu\n",
       "211                                      Wake Island\n",
       "Name: Country, Length: 212, dtype: object"
      ]
     },
     "execution_count": 262,
     "metadata": {},
     "output_type": "execute_result"
    }
   ],
   "source": [
    "DFenergy.iloc[:,1].apply(stripSeveral)"
   ]
  },
  {
   "cell_type": "code",
   "execution_count": 263,
   "id": "cfe1aeca",
   "metadata": {},
   "outputs": [],
   "source": [
    "FQenergy=DFenergy.Country.value_counts()"
   ]
  },
  {
   "cell_type": "code",
   "execution_count": 264,
   "id": "be62743a",
   "metadata": {},
   "outputs": [],
   "source": [
    "DFenergy.to_csv(\"energy.csv\",index=False)"
   ]
  }
 ],
 "metadata": {
  "kernelspec": {
   "display_name": "Python 3 (ipykernel)",
   "language": "python",
   "name": "python3"
  },
  "language_info": {
   "codemirror_mode": {
    "name": "ipython",
    "version": 3
   },
   "file_extension": ".py",
   "mimetype": "text/x-python",
   "name": "python",
   "nbconvert_exporter": "python",
   "pygments_lexer": "ipython3",
   "version": "3.9.15"
  }
 },
 "nbformat": 4,
 "nbformat_minor": 5
}
