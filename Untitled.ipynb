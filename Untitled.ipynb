{
 "cells": [
  {
   "cell_type": "code",
   "execution_count": 1,
   "id": "f89bacee",
   "metadata": {},
   "outputs": [],
   "source": [
    "# 1 Revenue from Forest Resources\n",
    "ForestLink=\"https://www.cia.gov/the-world-factbook/field/revenue-from-forest-resources/country-comparison\"\n",
    "\n",
    "# 2 Revenue from Coal Resources\n",
    "\n",
    "CoalLink=\"https://www.cia.gov/the-world-factbook/field/revenue-from-coal/country-comparison\"\n",
    "\n",
    "# 3 Energy Consumption per Capita\n",
    "EnergyLink=\"https://www.cia.gov/the-world-factbook/field/energy-consumption-per-capita/country-comparison\"\n",
    "\n",
    "# 4 Carbon Dioxide Emissions\n",
    "CO2Link=\"https://www.cia.gov/the-world-factbook/field/carbon-dioxide-emissions/country-comparison\"\n",
    "\n",
    "# 5 Refined Petroleum Production\n",
    "PetroleumLink=\"https://www.cia.gov/the-world-factbook/field/refined-petroleum-products-production/country-comparison\"\n",
    "\n",
    "import pandas as pd\n",
    "\n",
    "ForestTable=pd.read_html(ForestLink,\n",
    "                        header=0,\n",
    "                        flavor='bs4',\n",
    "                        attrs={'class':'content-table table-auto'}) \n",
    "\n",
    "CoalTable=pd.read_html(CoalLink,\n",
    "                        header=0,\n",
    "                        flavor='bs4',\n",
    "                        attrs={'class':'content-table table-auto'})\n",
    "\n",
    "EnergyTable=pd.read_html(EnergyLink,\n",
    "                        header=0,\n",
    "                        flavor='bs4',\n",
    "                        attrs={'class':'content-table table-auto'})\n",
    "\n",
    "CO2Table=pd.read_html(CO2Link,\n",
    "                        header=0,\n",
    "                        flavor='bs4',\n",
    "                        attrs={'class':'content-table table-auto'})\n",
    "\n",
    "PetroleumTable=pd.read_html(PetroleumLink,\n",
    "                        header=0,\n",
    "                        flavor='bs4',\n",
    "                        attrs={'class':'content-table table-auto'})"
   ]
  },
  {
   "cell_type": "code",
   "execution_count": 2,
   "id": "50381db0",
   "metadata": {},
   "outputs": [
    {
     "data": {
      "text/plain": [
       "(1, 1, 1, 1, 1)"
      ]
     },
     "execution_count": 2,
     "metadata": {},
     "output_type": "execute_result"
    }
   ],
   "source": [
    "len(ForestTable), len(CoalTable), len(EnergyTable), len(CO2Table), len(PetroleumTable)"
   ]
  },
  {
   "cell_type": "code",
   "execution_count": 4,
   "id": "835ef64b",
   "metadata": {},
   "outputs": [],
   "source": [
    "forest=ForestTable[0].copy()\n",
    "coal=CoalTable[0].copy()\n",
    "energy=EnergyTable[0].copy()\n",
    "co2=CO2Table[0].copy()\n",
    "petroleum=PetroleumTable[0].copy()"
   ]
  },
  {
   "cell_type": "code",
   "execution_count": 6,
   "id": "3209a9f7",
   "metadata": {},
   "outputs": [
    {
     "data": {
      "text/plain": [
       "(Index(['Rank', 'Country', '% of GDP', 'Date of Information'], dtype='object'),\n",
       " Index(['Rank', 'Country', '% of GDP', 'Date of Information'], dtype='object'),\n",
       " Index(['Rank', 'Country', 'Btu/person', 'Date of Information'], dtype='object'),\n",
       " Index(['Rank', 'Country', 'metric tonnes of CO2', 'Date of Information'], dtype='object'),\n",
       " Index(['Rank', 'Country', 'bbl/day', 'Date of Information'], dtype='object'))"
      ]
     },
     "execution_count": 6,
     "metadata": {},
     "output_type": "execute_result"
    }
   ],
   "source": [
    "forest.columns, coal.columns, energy.columns, co2.columns, petroleum.columns"
   ]
  },
  {
   "cell_type": "code",
   "execution_count": 8,
   "id": "29b91fd3",
   "metadata": {},
   "outputs": [],
   "source": [
    "bye=['Rank', 'Date of Information']\n",
    "forest.drop(columns=bye, inplace=True)\n",
    "coal.drop(columns=bye, inplace=True)\n",
    "energy.drop(columns=bye, inplace=True)\n",
    "co2.drop(columns=bye, inplace=True)\n",
    "petroleum.drop(columns=bye, inplace=True)"
   ]
  },
  {
   "cell_type": "code",
   "execution_count": 9,
   "id": "c80d7bae",
   "metadata": {},
   "outputs": [
    {
     "data": {
      "text/plain": [
       "(Index(['Country', '% of GDP'], dtype='object'),\n",
       " Index(['Country', '% of GDP'], dtype='object'),\n",
       " Index(['Country', 'Btu/person'], dtype='object'),\n",
       " Index(['Country', 'metric tonnes of CO2'], dtype='object'),\n",
       " Index(['Country', 'bbl/day'], dtype='object'))"
      ]
     },
     "execution_count": 9,
     "metadata": {},
     "output_type": "execute_result"
    }
   ],
   "source": [
    "forest.columns, coal.columns, energy.columns, co2.columns, petroleum.columns"
   ]
  },
  {
   "cell_type": "code",
   "execution_count": 25,
   "id": "d0e42f39",
   "metadata": {},
   "outputs": [],
   "source": [
    "forest.rename(columns={'% of GDP':'Forest Revenue'}, inplace=True)\n",
    "coal.rename(columns={'% of GDP':'Coal Revenue'}, inplace=True)\n",
    "energy.rename(columns={'Btu/person':'Energy Consumption'}, inplace=True)\n",
    "co2.rename(columns={'metric tonnes of CO2':'Metric Tons of CO2'}, inplace=True)\n",
    "petroleum.rename(columns={'bbl/day':'Barrels per Day of Petroleum'}, inplace=True)"
   ]
  },
  {
   "cell_type": "code",
   "execution_count": 20,
   "id": "1a1bc847",
   "metadata": {},
   "outputs": [
    {
     "name": "stdout",
     "output_type": "stream",
     "text": [
      "<class 'pandas.core.frame.DataFrame'>\n",
      "RangeIndex: 204 entries, 0 to 203\n",
      "Data columns (total 2 columns):\n",
      " #   Column          Non-Null Count  Dtype  \n",
      "---  ------          --------------  -----  \n",
      " 0   Country         204 non-null    object \n",
      " 1   Forest Revenue  204 non-null    float64\n",
      "dtypes: float64(1), object(1)\n",
      "memory usage: 3.3+ KB\n",
      "<class 'pandas.core.frame.DataFrame'>\n",
      "RangeIndex: 186 entries, 0 to 185\n",
      "Data columns (total 2 columns):\n",
      " #   Column        Non-Null Count  Dtype  \n",
      "---  ------        --------------  -----  \n",
      " 0   Country       186 non-null    object \n",
      " 1   Coal Revenue  186 non-null    float64\n",
      "dtypes: float64(1), object(1)\n",
      "memory usage: 3.0+ KB\n",
      "<class 'pandas.core.frame.DataFrame'>\n",
      "RangeIndex: 212 entries, 0 to 211\n",
      "Data columns (total 2 columns):\n",
      " #   Column              Non-Null Count  Dtype  \n",
      "---  ------              --------------  -----  \n",
      " 0   Country             212 non-null    object \n",
      " 1   Energy Consumption  212 non-null    float64\n",
      "dtypes: float64(1), object(1)\n",
      "memory usage: 3.4+ KB\n",
      "<class 'pandas.core.frame.DataFrame'>\n",
      "RangeIndex: 218 entries, 0 to 217\n",
      "Data columns (total 2 columns):\n",
      " #   Column                Non-Null Count  Dtype  \n",
      "---  ------                --------------  -----  \n",
      " 0   Country               218 non-null    object \n",
      " 1   metric tonnes of CO2  218 non-null    float64\n",
      "dtypes: float64(1), object(1)\n",
      "memory usage: 3.5+ KB\n",
      "<class 'pandas.core.frame.DataFrame'>\n",
      "RangeIndex: 216 entries, 0 to 215\n",
      "Data columns (total 2 columns):\n",
      " #   Column   Non-Null Count  Dtype \n",
      "---  ------   --------------  ----- \n",
      " 0   Country  216 non-null    object\n",
      " 1   bbl/day  216 non-null    int64 \n",
      "dtypes: int64(1), object(1)\n",
      "memory usage: 3.5+ KB\n"
     ]
    }
   ],
   "source": [
    "forest.info(),\n",
    "coal.info(),\n",
    "energy.info(),\n",
    "co2.info(),\n",
    "petroleum.info()"
   ]
  },
  {
   "cell_type": "code",
   "execution_count": 21,
   "id": "9b75d50b",
   "metadata": {},
   "outputs": [],
   "source": [
    "forest.Country=forest.Country.str.strip()\n",
    "coal.Country=coal.Country.str.strip()\n",
    "energy.Country=energy.Country.str.strip()\n",
    "co2.Country=co2.Country.str.strip()\n",
    "petroleum.Country=petroleum.Country.str.strip()"
   ]
  },
  {
   "cell_type": "code",
   "execution_count": 22,
   "id": "3f2a78fd",
   "metadata": {},
   "outputs": [
    {
     "data": {
      "text/plain": [
       "((204, 2), (186, 2), (212, 2), (218, 2), (216, 2))"
      ]
     },
     "execution_count": 22,
     "metadata": {},
     "output_type": "execute_result"
    }
   ],
   "source": [
    "forest.shape, coal.shape, energy.shape, co2.shape, petroleum.shape"
   ]
  },
  {
   "cell_type": "code",
   "execution_count": 23,
   "id": "b1992232",
   "metadata": {},
   "outputs": [
    {
     "data": {
      "text/plain": [
       "(181, 6)"
      ]
     },
     "execution_count": 23,
     "metadata": {},
     "output_type": "execute_result"
    }
   ],
   "source": [
    "coal.merge(forest).merge(energy).merge(co2).merge(petroleum).shape"
   ]
  },
  {
   "cell_type": "code",
   "execution_count": 26,
   "id": "10a1f5cf",
   "metadata": {},
   "outputs": [
    {
     "data": {
      "text/html": [
       "<div>\n",
       "<style scoped>\n",
       "    .dataframe tbody tr th:only-of-type {\n",
       "        vertical-align: middle;\n",
       "    }\n",
       "\n",
       "    .dataframe tbody tr th {\n",
       "        vertical-align: top;\n",
       "    }\n",
       "\n",
       "    .dataframe thead th {\n",
       "        text-align: right;\n",
       "    }\n",
       "</style>\n",
       "<table border=\"1\" class=\"dataframe\">\n",
       "  <thead>\n",
       "    <tr style=\"text-align: right;\">\n",
       "      <th></th>\n",
       "      <th>Country</th>\n",
       "      <th>Coal Revenue</th>\n",
       "      <th>Forest Revenue</th>\n",
       "      <th>Energy Consumption</th>\n",
       "      <th>Metric Tons of CO2</th>\n",
       "      <th>Barrels per Day of Petroleum</th>\n",
       "    </tr>\n",
       "  </thead>\n",
       "  <tbody>\n",
       "    <tr>\n",
       "      <th>0</th>\n",
       "      <td>Mongolia</td>\n",
       "      <td>8.62</td>\n",
       "      <td>0.14</td>\n",
       "      <td>83045000.0</td>\n",
       "      <td>2.274000e+07</td>\n",
       "      <td>0</td>\n",
       "    </tr>\n",
       "    <tr>\n",
       "      <th>1</th>\n",
       "      <td>Mozambique</td>\n",
       "      <td>4.17</td>\n",
       "      <td>6.46</td>\n",
       "      <td>8107000.0</td>\n",
       "      <td>7.753000e+06</td>\n",
       "      <td>0</td>\n",
       "    </tr>\n",
       "    <tr>\n",
       "      <th>2</th>\n",
       "      <td>India</td>\n",
       "      <td>1.15</td>\n",
       "      <td>0.14</td>\n",
       "      <td>23231000.0</td>\n",
       "      <td>2.314738e+09</td>\n",
       "      <td>4897000</td>\n",
       "    </tr>\n",
       "    <tr>\n",
       "      <th>3</th>\n",
       "      <td>Indonesia</td>\n",
       "      <td>1.06</td>\n",
       "      <td>0.39</td>\n",
       "      <td>29680000.0</td>\n",
       "      <td>5.635430e+08</td>\n",
       "      <td>950000</td>\n",
       "    </tr>\n",
       "    <tr>\n",
       "      <th>4</th>\n",
       "      <td>Kazakhstan</td>\n",
       "      <td>0.99</td>\n",
       "      <td>0.00</td>\n",
       "      <td>180726000.0</td>\n",
       "      <td>2.636890e+08</td>\n",
       "      <td>290700</td>\n",
       "    </tr>\n",
       "    <tr>\n",
       "      <th>...</th>\n",
       "      <td>...</td>\n",
       "      <td>...</td>\n",
       "      <td>...</td>\n",
       "      <td>...</td>\n",
       "      <td>...</td>\n",
       "      <td>...</td>\n",
       "    </tr>\n",
       "    <tr>\n",
       "      <th>176</th>\n",
       "      <td>United Arab Emirates</td>\n",
       "      <td>0.00</td>\n",
       "      <td>0.00</td>\n",
       "      <td>471788000.0</td>\n",
       "      <td>2.762360e+08</td>\n",
       "      <td>943500</td>\n",
       "    </tr>\n",
       "    <tr>\n",
       "      <th>177</th>\n",
       "      <td>United Kingdom</td>\n",
       "      <td>0.00</td>\n",
       "      <td>0.01</td>\n",
       "      <td>119894000.0</td>\n",
       "      <td>3.980840e+08</td>\n",
       "      <td>1290000</td>\n",
       "    </tr>\n",
       "    <tr>\n",
       "      <th>178</th>\n",
       "      <td>Uruguay</td>\n",
       "      <td>0.00</td>\n",
       "      <td>1.56</td>\n",
       "      <td>66909000.0</td>\n",
       "      <td>6.450000e+06</td>\n",
       "      <td>42220</td>\n",
       "    </tr>\n",
       "    <tr>\n",
       "      <th>179</th>\n",
       "      <td>Vanuatu</td>\n",
       "      <td>0.00</td>\n",
       "      <td>0.54</td>\n",
       "      <td>10878000.0</td>\n",
       "      <td>2.250000e+05</td>\n",
       "      <td>0</td>\n",
       "    </tr>\n",
       "    <tr>\n",
       "      <th>180</th>\n",
       "      <td>Yemen</td>\n",
       "      <td>0.00</td>\n",
       "      <td>0.04</td>\n",
       "      <td>5453000.0</td>\n",
       "      <td>1.015800e+07</td>\n",
       "      <td>20180</td>\n",
       "    </tr>\n",
       "  </tbody>\n",
       "</table>\n",
       "<p>181 rows × 6 columns</p>\n",
       "</div>"
      ],
      "text/plain": [
       "                  Country  Coal Revenue  Forest Revenue  Energy Consumption  \\\n",
       "0                Mongolia          8.62            0.14          83045000.0   \n",
       "1              Mozambique          4.17            6.46           8107000.0   \n",
       "2                   India          1.15            0.14          23231000.0   \n",
       "3               Indonesia          1.06            0.39          29680000.0   \n",
       "4              Kazakhstan          0.99            0.00         180726000.0   \n",
       "..                    ...           ...             ...                 ...   \n",
       "176  United Arab Emirates          0.00            0.00         471788000.0   \n",
       "177        United Kingdom          0.00            0.01         119894000.0   \n",
       "178               Uruguay          0.00            1.56          66909000.0   \n",
       "179               Vanuatu          0.00            0.54          10878000.0   \n",
       "180                 Yemen          0.00            0.04           5453000.0   \n",
       "\n",
       "     Metric Tons of CO2  Barrels per Day of Petroleum  \n",
       "0          2.274000e+07                             0  \n",
       "1          7.753000e+06                             0  \n",
       "2          2.314738e+09                       4897000  \n",
       "3          5.635430e+08                        950000  \n",
       "4          2.636890e+08                        290700  \n",
       "..                  ...                           ...  \n",
       "176        2.762360e+08                        943500  \n",
       "177        3.980840e+08                       1290000  \n",
       "178        6.450000e+06                         42220  \n",
       "179        2.250000e+05                             0  \n",
       "180        1.015800e+07                         20180  \n",
       "\n",
       "[181 rows x 6 columns]"
      ]
     },
     "execution_count": 26,
     "metadata": {},
     "output_type": "execute_result"
    }
   ],
   "source": [
    "combined=coal.merge(forest).merge(energy).merge(co2).merge(petroleum)\n",
    "combined"
   ]
  },
  {
   "cell_type": "code",
   "execution_count": 27,
   "id": "d29c12f8",
   "metadata": {},
   "outputs": [
    {
     "data": {
      "text/plain": [
       "{'Curacao', 'Greenland', 'Iceland', 'Trinidad and Tobago'}"
      ]
     },
     "execution_count": 27,
     "metadata": {},
     "output_type": "execute_result"
    }
   ],
   "source": [
    "set(coal.Country)-set(energy.Country)"
   ]
  },
  {
   "cell_type": "code",
   "execution_count": 28,
   "id": "daca45a6",
   "metadata": {},
   "outputs": [
    {
     "data": {
      "text/plain": [
       "{'South Africa'}"
      ]
     },
     "execution_count": 28,
     "metadata": {},
     "output_type": "execute_result"
    }
   ],
   "source": [
    "set(coal.Country)-set(forest.Country)"
   ]
  },
  {
   "cell_type": "code",
   "execution_count": 29,
   "id": "1c7a4a41",
   "metadata": {},
   "outputs": [
    {
     "data": {
      "text/plain": [
       "{'Aruba',\n",
       " 'Egypt',\n",
       " 'Faroe Islands',\n",
       " 'Gaza Strip',\n",
       " 'Laos',\n",
       " 'Micronesia, Federated States of',\n",
       " 'Nauru',\n",
       " 'Northern Mariana Islands',\n",
       " 'South Sudan',\n",
       " 'Tuvalu',\n",
       " 'West Bank'}"
      ]
     },
     "execution_count": 29,
     "metadata": {},
     "output_type": "execute_result"
    }
   ],
   "source": [
    "(set(energy.Country)-set(coal.Country)) & (set(forest.Country)-set(coal.Country))"
   ]
  },
  {
   "cell_type": "code",
   "execution_count": 30,
   "id": "4a3a6055",
   "metadata": {},
   "outputs": [],
   "source": [
    "combined.to_csv('combinedset.csv', index=False)"
   ]
  },
  {
   "cell_type": "code",
   "execution_count": null,
   "id": "0904e39c",
   "metadata": {},
   "outputs": [],
   "source": []
  }
 ],
 "metadata": {
  "kernelspec": {
   "display_name": "Python 3 (ipykernel)",
   "language": "python",
   "name": "python3"
  },
  "language_info": {
   "codemirror_mode": {
    "name": "ipython",
    "version": 3
   },
   "file_extension": ".py",
   "mimetype": "text/x-python",
   "name": "python",
   "nbconvert_exporter": "python",
   "pygments_lexer": "ipython3",
   "version": "3.9.15"
  }
 },
 "nbformat": 4,
 "nbformat_minor": 5
}
