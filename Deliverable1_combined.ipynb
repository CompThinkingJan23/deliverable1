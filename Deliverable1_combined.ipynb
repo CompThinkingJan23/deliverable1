{
 "cells": [
  {
   "cell_type": "code",
   "execution_count": 1,
   "id": "0ab16d8d",
   "metadata": {},
   "outputs": [],
   "source": [
    "# 1 Revenue from Forest Resources\n",
    "ForestLink=\"https://www.cia.gov/the-world-factbook/field/revenue-from-forest-resources/country-comparison\"\n",
    "\n",
    "# 2 Revenue from Coal Resources\n",
    "CoalLink=\"https://www.cia.gov/the-world-factbook/field/revenue-from-coal/country-comparison\"\n",
    "\n",
    "# 3 Energy Consumption per Capita\n",
    "EnergyLink=\"https://www.cia.gov/the-world-factbook/field/energy-consumption-per-capita/country-comparison\"\n",
    "\n",
    "# 4 Carbon Dioxide Emissions\n",
    "CO2Link=\"https://www.cia.gov/the-world-factbook/field/carbon-dioxide-emissions/country-comparison\"\n",
    "\n",
    "# 5 Refined Petroleum Production\n",
    "PetroleumLink=\"https://www.cia.gov/the-world-factbook/field/refined-petroleum-products-production/country-comparison\"\n",
    "\n",
    "import pandas as pd\n",
    "\n",
    "ForestTable=pd.read_html(ForestLink,\n",
    "                        header=0,\n",
    "                        flavor='bs4',\n",
    "                        attrs={'class':'content-table table-auto'}) \n",
    "\n",
    "CoalTable=pd.read_html(CoalLink,\n",
    "                        header=0,\n",
    "                        flavor='bs4',\n",
    "                        attrs={'class':'content-table table-auto'})\n",
    "\n",
    "EnergyTable=pd.read_html(EnergyLink,\n",
    "                        header=0,\n",
    "                        flavor='bs4',\n",
    "                        attrs={'class':'content-table table-auto'})\n",
    "\n",
    "CO2Table=pd.read_html(CO2Link,\n",
    "                        header=0,\n",
    "                        flavor='bs4',\n",
    "                        attrs={'class':'content-table table-auto'})\n",
    "\n",
    "PetroleumTable=pd.read_html(PetroleumLink,\n",
    "                        header=0,\n",
    "                        flavor='bs4',\n",
    "                        attrs={'class':'content-table table-auto'})"
   ]
  },
  {
   "cell_type": "code",
   "execution_count": 2,
   "id": "e307adaf",
   "metadata": {},
   "outputs": [],
   "source": [
    "forest=ForestTable[0].copy()\n",
    "coal=CoalTable[0].copy()\n",
    "energy=EnergyTable[0].copy()\n",
    "co2=CO2Table[0].copy()\n",
    "petroleum=PetroleumTable[0].copy()"
   ]
  },
  {
   "cell_type": "code",
   "execution_count": 3,
   "id": "1fcaa17e",
   "metadata": {},
   "outputs": [],
   "source": [
    "bye=['Rank', 'Date of Information']\n",
    "forest.drop(columns=bye, inplace=True)\n",
    "coal.drop(columns=bye, inplace=True)\n",
    "energy.drop(columns=bye, inplace=True)\n",
    "co2.drop(columns=bye, inplace=True)\n",
    "petroleum.drop(columns=bye, inplace=True)"
   ]
  },
  {
   "cell_type": "code",
   "execution_count": 4,
   "id": "1780db5c",
   "metadata": {},
   "outputs": [],
   "source": [
    "forest.rename(columns={'% of GDP':'Forest_GDP'}, inplace=True)\n",
    "coal.rename(columns={'% of GDP':'Coal_GDP'}, inplace=True)\n",
    "energy.rename(columns={'Btu/person':'Btu'}, inplace=True)\n",
    "co2.rename(columns={'metric tonnes of CO2':'MetricTonsCO2'}, inplace=True)\n",
    "petroleum.rename(columns={'bbl/day':'BBL_dayPetroleum'}, inplace=True)"
   ]
  },
  {
   "cell_type": "code",
   "execution_count": 5,
   "id": "134a66b0",
   "metadata": {},
   "outputs": [],
   "source": [
    "forest.Country=forest.Country.str.strip()\n",
    "coal.Country=coal.Country.str.strip()\n",
    "energy.Country=energy.Country.str.strip()\n",
    "co2.Country=co2.Country.str.strip()\n",
    "petroleum.Country=petroleum.Country.str.strip()"
   ]
  },
  {
   "cell_type": "code",
   "execution_count": 6,
   "id": "6e43a277",
   "metadata": {},
   "outputs": [],
   "source": [
    "# Frequency tables--I wanted to show that I can do them, but this data did not require them since it was already clean."
   ]
  },
  {
   "cell_type": "code",
   "execution_count": 7,
   "id": "30fe4495",
   "metadata": {},
   "outputs": [],
   "source": [
    "FQforest=forest.Country.value_counts()\n",
    "FQcoal=coal.Country.value_counts()\n",
    "FQenergy=energy.Country.value_counts()\n",
    "FQco2=co2.Country.value_counts()\n",
    "FQpetroleum=petroleum.Country.value_counts()"
   ]
  },
  {
   "cell_type": "code",
   "execution_count": 8,
   "id": "47d3be8b",
   "metadata": {
    "scrolled": true
   },
   "outputs": [
    {
     "data": {
      "text/plain": [
       "(181, 6)"
      ]
     },
     "execution_count": 8,
     "metadata": {},
     "output_type": "execute_result"
    }
   ],
   "source": [
    "coal.merge(forest).merge(energy).merge(co2).merge(petroleum).shape"
   ]
  },
  {
   "cell_type": "code",
   "execution_count": 9,
   "id": "7dfcf925",
   "metadata": {},
   "outputs": [],
   "source": [
    "combined=coal.merge(forest).merge(energy).merge(co2).merge(petroleum)"
   ]
  },
  {
   "cell_type": "code",
   "execution_count": 10,
   "id": "7e2639ae",
   "metadata": {},
   "outputs": [
    {
     "data": {
      "text/plain": [
       "{'Curacao', 'Greenland', 'Iceland', 'Trinidad and Tobago'}"
      ]
     },
     "execution_count": 10,
     "metadata": {},
     "output_type": "execute_result"
    }
   ],
   "source": [
    "set(coal.Country)-set(energy.Country)"
   ]
  },
  {
   "cell_type": "code",
   "execution_count": 11,
   "id": "27b35ae5",
   "metadata": {},
   "outputs": [
    {
     "data": {
      "text/plain": [
       "{'South Africa'}"
      ]
     },
     "execution_count": 11,
     "metadata": {},
     "output_type": "execute_result"
    }
   ],
   "source": [
    "set(coal.Country)-set(forest.Country)"
   ]
  },
  {
   "cell_type": "code",
   "execution_count": 12,
   "id": "922cae8b",
   "metadata": {},
   "outputs": [
    {
     "data": {
      "text/plain": [
       "{'Aruba',\n",
       " 'Egypt',\n",
       " 'Faroe Islands',\n",
       " 'Gaza Strip',\n",
       " 'Laos',\n",
       " 'Micronesia, Federated States of',\n",
       " 'Nauru',\n",
       " 'Northern Mariana Islands',\n",
       " 'South Sudan',\n",
       " 'Tuvalu',\n",
       " 'West Bank'}"
      ]
     },
     "execution_count": 12,
     "metadata": {},
     "output_type": "execute_result"
    }
   ],
   "source": [
    "(set(energy.Country)-set(coal.Country)) & (set(forest.Country)-set(coal.Country))"
   ]
  },
  {
   "cell_type": "code",
   "execution_count": 13,
   "id": "ae14ab99",
   "metadata": {},
   "outputs": [],
   "source": [
    "forest.to_csv(\"forestset.csv\",index=False)\n",
    "coal.to_csv(\"coalset.csv\",index=False)\n",
    "energy.to_csv(\"energyset.csv\",index=False)\n",
    "co2.to_csv(\"co2set.csv\",index=False)\n",
    "petroleum.to_csv(\"petroleumset.csv\",index=False)\n",
    "combined.to_csv('combinedset.csv', index=False)"
   ]
  }
 ],
 "metadata": {
  "kernelspec": {
   "display_name": "Python 3 (ipykernel)",
   "language": "python",
   "name": "python3"
  },
  "language_info": {
   "codemirror_mode": {
    "name": "ipython",
    "version": 3
   },
   "file_extension": ".py",
   "mimetype": "text/x-python",
   "name": "python",
   "nbconvert_exporter": "python",
   "pygments_lexer": "ipython3",
   "version": "3.9.15"
  }
 },
 "nbformat": 4,
 "nbformat_minor": 5
}
