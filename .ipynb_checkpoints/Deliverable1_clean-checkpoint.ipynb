{
 "cells": [
  {
   "cell_type": "code",
   "execution_count": 35,
   "id": "802e0128",
   "metadata": {},
   "outputs": [],
   "source": [
    "# 1 Revenue from Forest Resources"
   ]
  },
  {
   "cell_type": "code",
   "execution_count": 36,
   "id": "7ba4e7b0",
   "metadata": {},
   "outputs": [],
   "source": [
    "forest=\"https://www.cia.gov/the-world-factbook/field/revenue-from-forest-resources/country-comparison\""
   ]
  },
  {
   "cell_type": "code",
   "execution_count": 37,
   "id": "f2e722da",
   "metadata": {},
   "outputs": [],
   "source": [
    "import pandas as pd\n",
    "\n",
    "forestTable=pd.read_html(forest,\n",
    "                        header=0,\n",
    "                        flavor='bs4',\n",
    "                        attrs={'content-table table-auto'})"
   ]
  },
  {
   "cell_type": "code",
   "execution_count": 38,
   "id": "0dc2fb40",
   "metadata": {},
   "outputs": [],
   "source": [
    "DFforest=forestTable[0].copy()"
   ]
  },
  {
   "cell_type": "code",
   "execution_count": 39,
   "id": "8efc6ba7",
   "metadata": {},
   "outputs": [],
   "source": [
    "byeforest=['Rank', 'Date of Information']\n",
    "DFforest.drop(columns=DFforest.columns[byeforest],inplace=True)"
   ]
  },
  {
   "cell_type": "code",
   "execution_count": 40,
   "id": "e26517e6",
   "metadata": {},
   "outputs": [],
   "source": [
    "DFforest.rename(columns = {'% of GDP':'GDP'}, inplace = True)"
   ]
  },
  {
   "cell_type": "code",
   "execution_count": 41,
   "id": "e6516217",
   "metadata": {},
   "outputs": [],
   "source": [
    "stripSeveral=lambda x: x.strip()\n",
    "DFforest.iloc[:,1]=DFforest.iloc[:,1].apply(stripSeveral)"
   ]
  },
  {
   "cell_type": "code",
   "execution_count": 42,
   "id": "9c0fd390",
   "metadata": {},
   "outputs": [],
   "source": [
    "FQforest=DFforest.Country.value_counts()"
   ]
  },
  {
   "cell_type": "code",
   "execution_count": 43,
   "id": "6950e5d0",
   "metadata": {},
   "outputs": [],
   "source": [
    "# I did not touch frequency since the data was already cleaned. Same for the following two datasets. However, I wanted to signal that I knew how to check."
   ]
  },
  {
   "cell_type": "code",
   "execution_count": 44,
   "id": "f784b991",
   "metadata": {},
   "outputs": [],
   "source": [
    "DFforest.to_csv(\"forestindex.csv\",index=False)\n",
    "forestcsv=pd.read_csv('forestindex.csv')"
   ]
  },
  {
   "cell_type": "code",
   "execution_count": 45,
   "id": "2f0c3aab",
   "metadata": {},
   "outputs": [],
   "source": [
    "# 2 Revenue from Coal Resources"
   ]
  },
  {
   "cell_type": "code",
   "execution_count": 46,
   "id": "9f15e976",
   "metadata": {
    "scrolled": false
   },
   "outputs": [],
   "source": [
    "coal=\"https://www.cia.gov/the-world-factbook/field/revenue-from-coal/country-comparison\""
   ]
  },
  {
   "cell_type": "code",
   "execution_count": 47,
   "id": "e595c5ce",
   "metadata": {},
   "outputs": [],
   "source": [
    "coalTable=pd.read_html(coal,\n",
    "                        header=0,\n",
    "                        flavor='bs4',\n",
    "                        attrs={'content-table table-auto'})"
   ]
  },
  {
   "cell_type": "code",
   "execution_count": 48,
   "id": "94d96add",
   "metadata": {},
   "outputs": [],
   "source": [
    "DFcoal=coalTable[0].copy()"
   ]
  },
  {
   "cell_type": "code",
   "execution_count": 49,
   "id": "91154855",
   "metadata": {
    "scrolled": true
   },
   "outputs": [],
   "source": [
    "byecoal=['Rank', 'Date of Information']\n",
    "DFcoal.drop(columns=DFcoal.columns[byecoal],inplace=True)"
   ]
  },
  {
   "cell_type": "code",
   "execution_count": 50,
   "id": "0e47bc76",
   "metadata": {},
   "outputs": [],
   "source": [
    "DFcoal.rename(columns = {'% of GDP':'GDP'}, inplace = True)"
   ]
  },
  {
   "cell_type": "code",
   "execution_count": 51,
   "id": "324ba1c6",
   "metadata": {},
   "outputs": [],
   "source": [
    "DFcoal.iloc[:,1].apply(stripSeveral)\n",
    "DFcoal.iloc[:,1]=DFcoal.iloc[:,1].apply(stripSeveral)"
   ]
  },
  {
   "cell_type": "code",
   "execution_count": 52,
   "id": "3c54e2bc",
   "metadata": {},
   "outputs": [],
   "source": [
    "FQcoal=DFcoal.Country.value_counts() "
   ]
  },
  {
   "cell_type": "code",
   "execution_count": 53,
   "id": "36e3a538",
   "metadata": {},
   "outputs": [],
   "source": [
    "DFcoal.to_csv(\"CoalRev.csv\",index=False)"
   ]
  },
  {
   "cell_type": "code",
   "execution_count": 54,
   "id": "1ddcb817",
   "metadata": {},
   "outputs": [],
   "source": [
    "# 3 Energy Consumption per Capita"
   ]
  },
  {
   "cell_type": "code",
   "execution_count": 55,
   "id": "09f34ef3",
   "metadata": {},
   "outputs": [],
   "source": [
    "energy=\"https://www.cia.gov/the-world-factbook/field/energy-consumption-per-capita/country-comparison\""
   ]
  },
  {
   "cell_type": "code",
   "execution_count": 56,
   "id": "4cf4f83a",
   "metadata": {},
   "outputs": [],
   "source": [
    "energyTable=pd.read_html(energy,\n",
    "                        header=0,\n",
    "                        flavor='bs4',\n",
    "                        attrs={'content-table table-auto'})"
   ]
  },
  {
   "cell_type": "code",
   "execution_count": 57,
   "id": "231b2235",
   "metadata": {},
   "outputs": [],
   "source": [
    "DFenergy=energyTable[0].copy()"
   ]
  },
  {
   "cell_type": "code",
   "execution_count": 58,
   "id": "2951d486",
   "metadata": {},
   "outputs": [],
   "source": [
    "byeenergy=['Rank', 'Date of Information']\n",
    "DFenergy.drop(columns=DFenergy.columns[byeenergy],inplace=True)"
   ]
  },
  {
   "cell_type": "code",
   "execution_count": 59,
   "id": "29cef662",
   "metadata": {},
   "outputs": [],
   "source": [
    "DFenergy.rename(columns = {'Btu/person':'Btu'}, inplace = True)"
   ]
  },
  {
   "cell_type": "code",
   "execution_count": 60,
   "id": "35bcc227",
   "metadata": {},
   "outputs": [],
   "source": [
    "DFenergy.iloc[:,1].apply(stripSeveral)\n",
    "DFenergy.iloc[:,1]=DFenergy.iloc[:,1].apply(stripSeveral)"
   ]
  },
  {
   "cell_type": "code",
   "execution_count": 61,
   "id": "cfe1aeca",
   "metadata": {},
   "outputs": [],
   "source": [
    "FQenergy=DFenergy.Country.value_counts()"
   ]
  },
  {
   "cell_type": "code",
   "execution_count": 62,
   "id": "be62743a",
   "metadata": {},
   "outputs": [],
   "source": [
    "DFenergy.to_csv(\"energy.csv\",index=False)"
   ]
  },
  {
   "cell_type": "code",
   "execution_count": 63,
   "id": "1d492c0d",
   "metadata": {},
   "outputs": [],
   "source": [
    "# Combining the datasets"
   ]
  },
  {
   "cell_type": "code",
   "execution_count": null,
   "id": "088a7fd1",
   "metadata": {},
   "outputs": [],
   "source": []
  },
  {
   "cell_type": "code",
   "execution_count": null,
   "id": "060b8a6f",
   "metadata": {},
   "outputs": [],
   "source": []
  },
  {
   "cell_type": "code",
   "execution_count": null,
   "id": "e18dc2c7",
   "metadata": {},
   "outputs": [],
   "source": []
  },
  {
   "cell_type": "code",
   "execution_count": null,
   "id": "0ce3e400",
   "metadata": {},
   "outputs": [],
   "source": []
  },
  {
   "cell_type": "code",
   "execution_count": null,
   "id": "c1925132",
   "metadata": {},
   "outputs": [],
   "source": []
  },
  {
   "cell_type": "code",
   "execution_count": null,
   "id": "fe91bbe7",
   "metadata": {},
   "outputs": [],
   "source": []
  },
  {
   "cell_type": "code",
   "execution_count": null,
   "id": "1ef268bd",
   "metadata": {},
   "outputs": [],
   "source": []
  },
  {
   "cell_type": "code",
   "execution_count": null,
   "id": "e6eed6b2",
   "metadata": {},
   "outputs": [],
   "source": []
  },
  {
   "cell_type": "code",
   "execution_count": null,
   "id": "887ac2fc",
   "metadata": {},
   "outputs": [],
   "source": []
  },
  {
   "cell_type": "code",
   "execution_count": null,
   "id": "6d0f772a",
   "metadata": {},
   "outputs": [],
   "source": []
  },
  {
   "cell_type": "code",
   "execution_count": null,
   "id": "e109f84d",
   "metadata": {},
   "outputs": [],
   "source": []
  },
  {
   "cell_type": "code",
   "execution_count": null,
   "id": "df493d9d",
   "metadata": {},
   "outputs": [],
   "source": []
  }
 ],
 "metadata": {
  "kernelspec": {
   "display_name": "Python 3 (ipykernel)",
   "language": "python",
   "name": "python3"
  },
  "language_info": {
   "codemirror_mode": {
    "name": "ipython",
    "version": 3
   },
   "file_extension": ".py",
   "mimetype": "text/x-python",
   "name": "python",
   "nbconvert_exporter": "python",
   "pygments_lexer": "ipython3",
   "version": "3.9.15"
  }
 },
 "nbformat": 4,
 "nbformat_minor": 5
}
