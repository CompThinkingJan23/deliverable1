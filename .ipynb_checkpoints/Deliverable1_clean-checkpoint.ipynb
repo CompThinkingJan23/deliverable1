{
 "cells": [
  {
   "cell_type": "code",
   "execution_count": 1,
   "id": "802e0128",
   "metadata": {},
   "outputs": [],
   "source": [
    "# 1 Revenue from Forest Resources"
   ]
  },
  {
   "cell_type": "code",
   "execution_count": 2,
   "id": "7ba4e7b0",
   "metadata": {},
   "outputs": [
    {
     "data": {
      "text/html": [
       "\n",
       "        <iframe\n",
       "            width=\"690\"\n",
       "            height=\"12486\"\n",
       "            src=\"https://www.cia.gov/the-world-factbook/field/revenue-from-forest-resources/country-comparison\"\n",
       "            frameborder=\"0\"\n",
       "            allowfullscreen\n",
       "            \n",
       "        ></iframe>\n",
       "        "
      ],
      "text/plain": [
       "<IPython.lib.display.IFrame at 0x10df260a0>"
      ]
     },
     "execution_count": 2,
     "metadata": {},
     "output_type": "execute_result"
    }
   ],
   "source": [
    "from IPython.display import IFrame\n",
    "Forest=\"https://www.cia.gov/the-world-factbook/field/revenue-from-forest-resources/country-comparison\"\n",
    "IFrame(Forest, width=690, height=12486)"
   ]
  },
  {
   "cell_type": "code",
   "execution_count": 3,
   "id": "f2e722da",
   "metadata": {},
   "outputs": [],
   "source": [
    "import pandas as pd\n",
    "\n",
    "ForestTable=pd.read_html(Forest,\n",
    "                        header=0,\n",
    "                        flavor='bs4',\n",
    "                        attrs={'content-table table-auto'})"
   ]
  },
  {
   "cell_type": "code",
   "execution_count": 4,
   "id": "0dc2fb40",
   "metadata": {},
   "outputs": [],
   "source": [
    "DFforest=ForestTable[0].copy()"
   ]
  },
  {
   "cell_type": "code",
   "execution_count": 5,
   "id": "8efc6ba7",
   "metadata": {},
   "outputs": [],
   "source": [
    "bye=[3]\n",
    "DFforest.drop(columns=DFforest.columns[bye],inplace=True)"
   ]
  },
  {
   "cell_type": "code",
   "execution_count": 6,
   "id": "e26517e6",
   "metadata": {},
   "outputs": [],
   "source": [
    "DFforest.rename(columns = {'% of GDP':'GDP'}, inplace = True)"
   ]
  },
  {
   "cell_type": "code",
   "execution_count": 7,
   "id": "e6516217",
   "metadata": {},
   "outputs": [],
   "source": [
    "stripSeveral=lambda x: x.strip()\n",
    "DFforest.iloc[:,1]=DFforest.iloc[:,1].apply(stripSeveral)"
   ]
  },
  {
   "cell_type": "code",
   "execution_count": 8,
   "id": "9c0fd390",
   "metadata": {},
   "outputs": [],
   "source": [
    "ftableCounts=DFforest.Country.value_counts()"
   ]
  },
  {
   "cell_type": "code",
   "execution_count": 9,
   "id": "6950e5d0",
   "metadata": {},
   "outputs": [],
   "source": [
    "# I did not touch frequency since the data was already cleaned. Same for the following two datasets. However, I wanted to signal that I knew how to check."
   ]
  },
  {
   "cell_type": "code",
   "execution_count": 10,
   "id": "f784b991",
   "metadata": {},
   "outputs": [],
   "source": [
    "DFforest.to_csv(\"forestindex.csv\",index=False)\n",
    "forestcsv=pd.read_csv('forestindex.csv')"
   ]
  },
  {
   "cell_type": "code",
   "execution_count": 11,
   "id": "2f0c3aab",
   "metadata": {},
   "outputs": [],
   "source": [
    "# 2 Revenue from Coal Resources"
   ]
  },
  {
   "cell_type": "code",
   "execution_count": 12,
   "id": "9f15e976",
   "metadata": {
    "scrolled": false
   },
   "outputs": [
    {
     "data": {
      "text/html": [
       "\n",
       "        <iframe\n",
       "            width=\"690\"\n",
       "            height=\"12486\"\n",
       "            src=\"https://www.cia.gov/the-world-factbook/field/revenue-from-coal/country-comparison\"\n",
       "            frameborder=\"0\"\n",
       "            allowfullscreen\n",
       "            \n",
       "        ></iframe>\n",
       "        "
      ],
      "text/plain": [
       "<IPython.lib.display.IFrame at 0x111746430>"
      ]
     },
     "execution_count": 12,
     "metadata": {},
     "output_type": "execute_result"
    }
   ],
   "source": [
    "from IPython.display import IFrame\n",
    "Coal=\"https://www.cia.gov/the-world-factbook/field/revenue-from-coal/country-comparison\"\n",
    "IFrame(Coal, width=690, height=12486)"
   ]
  },
  {
   "cell_type": "code",
   "execution_count": 13,
   "id": "e595c5ce",
   "metadata": {},
   "outputs": [],
   "source": [
    "coalTable=pd.read_html(Coal,\n",
    "                        header=0,\n",
    "                        flavor='bs4',\n",
    "                        attrs={'content-table table-auto'})"
   ]
  },
  {
   "cell_type": "code",
   "execution_count": 14,
   "id": "94d96add",
   "metadata": {},
   "outputs": [],
   "source": [
    "DFcoal=coalTable[0].copy()"
   ]
  },
  {
   "cell_type": "code",
   "execution_count": 15,
   "id": "91154855",
   "metadata": {
    "scrolled": true
   },
   "outputs": [],
   "source": [
    "byecoal=[3]\n",
    "DFcoal.drop(columns=DFcoal.columns[byecoal],inplace=True)"
   ]
  },
  {
   "cell_type": "code",
   "execution_count": 16,
   "id": "0e47bc76",
   "metadata": {},
   "outputs": [],
   "source": [
    "DFcoal.rename(columns = {'% of GDP':'GDP'}, inplace = True)"
   ]
  },
  {
   "cell_type": "code",
   "execution_count": 17,
   "id": "324ba1c6",
   "metadata": {},
   "outputs": [],
   "source": [
    "DFcoal.iloc[:,1].apply(stripSeveral)\n",
    "DFcoal.iloc[:,1]=DFcoal.iloc[:,1].apply(stripSeveral)"
   ]
  },
  {
   "cell_type": "code",
   "execution_count": 18,
   "id": "3c54e2bc",
   "metadata": {},
   "outputs": [],
   "source": [
    "FQcoal=DFcoal.Country.value_counts() "
   ]
  },
  {
   "cell_type": "code",
   "execution_count": 19,
   "id": "36e3a538",
   "metadata": {},
   "outputs": [],
   "source": [
    "DFcoal.to_csv(\"CoalRev.csv\",index=False)"
   ]
  },
  {
   "cell_type": "code",
   "execution_count": 20,
   "id": "1ddcb817",
   "metadata": {},
   "outputs": [],
   "source": [
    "# 3 Energy Consumption per Capita"
   ]
  },
  {
   "cell_type": "code",
   "execution_count": 21,
   "id": "09f34ef3",
   "metadata": {},
   "outputs": [
    {
     "data": {
      "text/html": [
       "\n",
       "        <iframe\n",
       "            width=\"690\"\n",
       "            height=\"13006\"\n",
       "            src=\"https://www.cia.gov/the-world-factbook/field/energy-consumption-per-capita/country-comparison\"\n",
       "            frameborder=\"0\"\n",
       "            allowfullscreen\n",
       "            \n",
       "        ></iframe>\n",
       "        "
      ],
      "text/plain": [
       "<IPython.lib.display.IFrame at 0x1116bc0a0>"
      ]
     },
     "execution_count": 21,
     "metadata": {},
     "output_type": "execute_result"
    }
   ],
   "source": [
    "from IPython.display import IFrame\n",
    "energy=\"https://www.cia.gov/the-world-factbook/field/energy-consumption-per-capita/country-comparison\"\n",
    "IFrame(energy, width=690, height=13006)"
   ]
  },
  {
   "cell_type": "code",
   "execution_count": 22,
   "id": "4cf4f83a",
   "metadata": {},
   "outputs": [],
   "source": [
    "energyTable=pd.read_html(energy,\n",
    "                        header=0,\n",
    "                        flavor='bs4',\n",
    "                        attrs={'content-table table-auto'})"
   ]
  },
  {
   "cell_type": "code",
   "execution_count": 23,
   "id": "231b2235",
   "metadata": {},
   "outputs": [],
   "source": [
    "DFenergy=energyTable[0].copy()"
   ]
  },
  {
   "cell_type": "code",
   "execution_count": 24,
   "id": "2951d486",
   "metadata": {},
   "outputs": [],
   "source": [
    "byeenergy=[3]\n",
    "DFenergy.drop(columns=DFenergy.columns[byeenergy],inplace=True)"
   ]
  },
  {
   "cell_type": "code",
   "execution_count": 25,
   "id": "29cef662",
   "metadata": {},
   "outputs": [],
   "source": [
    "DFenergy.rename(columns = {'Btu/person':'Btu'}, inplace = True)"
   ]
  },
  {
   "cell_type": "code",
   "execution_count": 26,
   "id": "35bcc227",
   "metadata": {},
   "outputs": [],
   "source": [
    "DFenergy.iloc[:,1].apply(stripSeveral)\n",
    "DFenergy.iloc[:,1]=DFenergy.iloc[:,1].apply(stripSeveral)"
   ]
  },
  {
   "cell_type": "code",
   "execution_count": 27,
   "id": "cfe1aeca",
   "metadata": {},
   "outputs": [],
   "source": [
    "FQenergy=DFenergy.Country.value_counts()"
   ]
  },
  {
   "cell_type": "code",
   "execution_count": 28,
   "id": "be62743a",
   "metadata": {},
   "outputs": [],
   "source": [
    "DFenergy.to_csv(\"energy.csv\",index=False)"
   ]
  }
 ],
 "metadata": {
  "kernelspec": {
   "display_name": "Python 3 (ipykernel)",
   "language": "python",
   "name": "python3"
  },
  "language_info": {
   "codemirror_mode": {
    "name": "ipython",
    "version": 3
   },
   "file_extension": ".py",
   "mimetype": "text/x-python",
   "name": "python",
   "nbconvert_exporter": "python",
   "pygments_lexer": "ipython3",
   "version": "3.9.15"
  }
 },
 "nbformat": 4,
 "nbformat_minor": 5
}
