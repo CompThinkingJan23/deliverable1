{
 "cells": [
  {
   "cell_type": "code",
   "execution_count": 1,
   "metadata": {
    "id": "AJuLFYzga61w"
   },
   "outputs": [],
   "source": [
    "# 1 Revenue from Forest Resources\n",
    "ForestLink=\"https://www.cia.gov/the-world-factbook/field/revenue-from-forest-resources/country-comparison\"\n",
    "\n",
    "# 2 Revenue from Coal Resources\n",
    "\n",
    "CoalLink=\"https://www.cia.gov/the-world-factbook/field/revenue-from-coal/country-comparison\"\n",
    "\n",
    "# 3 Energy Consumption per Capita\n",
    "EnergyLink=\"https://www.cia.gov/the-world-factbook/field/energy-consumption-per-capita/country-comparison\"\n",
    "\n",
    "import pandas as pd\n",
    "\n",
    "ForestTables=pd.read_html(ForestLink,\n",
    "                        header=0,\n",
    "                        flavor='bs4',\n",
    "                        attrs={'class':'content-table table-auto'}) \n",
    "\n",
    "CoalTables=pd.read_html(CoalLink,\n",
    "                        header=0,\n",
    "                        flavor='bs4',\n",
    "                        attrs={'class':'content-table table-auto'})\n",
    "\n",
    "EnergyTables=pd.read_html(EnergyLink,\n",
    "                        header=0,\n",
    "                        flavor='bs4',\n",
    "                        attrs={'class':'content-table table-auto'})\n"
   ]
  },
  {
   "cell_type": "code",
   "execution_count": 2,
   "metadata": {
    "colab": {
     "base_uri": "https://localhost:8080/"
    },
    "id": "s2RB1LNAb5lV",
    "outputId": "20844062-9846-4823-d2d8-1525c291d500"
   },
   "outputs": [
    {
     "data": {
      "text/plain": [
       "(1, 1, 1)"
      ]
     },
     "execution_count": 2,
     "metadata": {},
     "output_type": "execute_result"
    }
   ],
   "source": [
    "len(ForestTables), len(CoalTables), len(EnergyTables)"
   ]
  },
  {
   "cell_type": "code",
   "execution_count": 3,
   "metadata": {
    "id": "Upnon3tAcH0g"
   },
   "outputs": [],
   "source": [
    "forest=ForestTables[0].copy()\n",
    "coal=CoalTables[0].copy()\n",
    "energy=EnergyTables[0].copy()"
   ]
  },
  {
   "cell_type": "code",
   "execution_count": 4,
   "metadata": {
    "colab": {
     "base_uri": "https://localhost:8080/"
    },
    "id": "YMaitoJjcaal",
    "outputId": "763f3a22-19c4-479d-b4c4-6479ecb6b47c"
   },
   "outputs": [
    {
     "data": {
      "text/plain": [
       "(Index(['Rank', 'Country', '% of GDP', 'Date of Information'], dtype='object'),\n",
       " Index(['Rank', 'Country', '% of GDP', 'Date of Information'], dtype='object'),\n",
       " Index(['Rank', 'Country', 'Btu/person', 'Date of Information'], dtype='object'))"
      ]
     },
     "execution_count": 4,
     "metadata": {},
     "output_type": "execute_result"
    }
   ],
   "source": [
    "forest.columns, coal.columns,energy.columns"
   ]
  },
  {
   "cell_type": "code",
   "execution_count": 5,
   "metadata": {
    "id": "j51HmvIRcczF"
   },
   "outputs": [],
   "source": [
    "forest.rename(columns={'% of GDP':'GDP'},inplace=True)\n",
    "coal.rename(columns={'% of GDP':'GDP'},inplace=True)\n",
    "energy.rename(columns={'Btu/person':'Btu'},inplace=True)"
   ]
  },
  {
   "cell_type": "code",
   "execution_count": 6,
   "metadata": {
    "id": "6xwk4ubmdCmP"
   },
   "outputs": [],
   "source": [
    "Bye=['Rank', 'Date of Information']\n",
    "forest.drop(columns=Bye,inplace=True)\n",
    "coal.drop(columns=Bye,inplace=True)\n",
    "energy.drop(columns=Bye,inplace=True)"
   ]
  },
  {
   "cell_type": "code",
   "execution_count": 7,
   "metadata": {
    "colab": {
     "base_uri": "https://localhost:8080/"
    },
    "id": "LtYc6pQIeV3k",
    "outputId": "d1647074-ca92-4462-96c7-d52161c5fe8b"
   },
   "outputs": [
    {
     "name": "stdout",
     "output_type": "stream",
     "text": [
      "<class 'pandas.core.frame.DataFrame'>\n",
      "RangeIndex: 204 entries, 0 to 203\n",
      "Data columns (total 2 columns):\n",
      " #   Column   Non-Null Count  Dtype  \n",
      "---  ------   --------------  -----  \n",
      " 0   Country  204 non-null    object \n",
      " 1   GDP      204 non-null    float64\n",
      "dtypes: float64(1), object(1)\n",
      "memory usage: 3.3+ KB\n",
      "<class 'pandas.core.frame.DataFrame'>\n",
      "RangeIndex: 186 entries, 0 to 185\n",
      "Data columns (total 2 columns):\n",
      " #   Column   Non-Null Count  Dtype  \n",
      "---  ------   --------------  -----  \n",
      " 0   Country  186 non-null    object \n",
      " 1   GDP      186 non-null    float64\n",
      "dtypes: float64(1), object(1)\n",
      "memory usage: 3.0+ KB\n",
      "<class 'pandas.core.frame.DataFrame'>\n",
      "RangeIndex: 212 entries, 0 to 211\n",
      "Data columns (total 2 columns):\n",
      " #   Column   Non-Null Count  Dtype  \n",
      "---  ------   --------------  -----  \n",
      " 0   Country  212 non-null    object \n",
      " 1   Btu      212 non-null    float64\n",
      "dtypes: float64(1), object(1)\n",
      "memory usage: 3.4+ KB\n"
     ]
    }
   ],
   "source": [
    "forest.info(),\n",
    "coal.info(),\n",
    "energy.info()"
   ]
  },
  {
   "cell_type": "code",
   "execution_count": 8,
   "metadata": {
    "id": "YaADcj1jeakR"
   },
   "outputs": [],
   "source": [
    "forest.Country=forest.Country.str.strip()\n",
    "coal.Country=coal.Country.str.strip()\n",
    "energy.Country=energy.Country.str.strip()"
   ]
  },
  {
   "cell_type": "code",
   "execution_count": 9,
   "metadata": {
    "colab": {
     "base_uri": "https://localhost:8080/"
    },
    "id": "rCVf3-5_e7VU",
    "outputId": "912c2f8f-faee-45d7-aeea-ed8ee1254d2f"
   },
   "outputs": [
    {
     "data": {
      "text/plain": [
       "((204, 2), (186, 2), (212, 2))"
      ]
     },
     "execution_count": 9,
     "metadata": {},
     "output_type": "execute_result"
    }
   ],
   "source": [
    "forest.shape,coal.shape,energy.shape"
   ]
  },
  {
   "cell_type": "code",
   "execution_count": 10,
   "metadata": {
    "colab": {
     "base_uri": "https://localhost:8080/"
    },
    "id": "4nfNMJ2EfUQ8",
    "outputId": "35820b4e-1e68-4225-a228-72fac02b7852"
   },
   "outputs": [
    {
     "data": {
      "text/plain": [
       "(27, 3)"
      ]
     },
     "execution_count": 10,
     "metadata": {},
     "output_type": "execute_result"
    }
   ],
   "source": [
    "coal.merge(forest).merge(energy).shape"
   ]
  },
  {
   "cell_type": "code",
   "execution_count": 11,
   "metadata": {
    "colab": {
     "base_uri": "https://localhost:8080/",
     "height": 424
    },
    "id": "3eiLVYgPfceh",
    "outputId": "3194e49e-a433-46e2-a8c5-1b5eaec59651"
   },
   "outputs": [
    {
     "data": {
      "text/html": [
       "<div>\n",
       "<style scoped>\n",
       "    .dataframe tbody tr th:only-of-type {\n",
       "        vertical-align: middle;\n",
       "    }\n",
       "\n",
       "    .dataframe tbody tr th {\n",
       "        vertical-align: top;\n",
       "    }\n",
       "\n",
       "    .dataframe thead th {\n",
       "        text-align: right;\n",
       "    }\n",
       "</style>\n",
       "<table border=\"1\" class=\"dataframe\">\n",
       "  <thead>\n",
       "    <tr style=\"text-align: right;\">\n",
       "      <th></th>\n",
       "      <th>Country</th>\n",
       "      <th>GDP</th>\n",
       "      <th>Btu</th>\n",
       "    </tr>\n",
       "  </thead>\n",
       "  <tbody>\n",
       "    <tr>\n",
       "      <th>0</th>\n",
       "      <td>Canada</td>\n",
       "      <td>0.08</td>\n",
       "      <td>403700000.0</td>\n",
       "    </tr>\n",
       "    <tr>\n",
       "      <th>1</th>\n",
       "      <td>Iran</td>\n",
       "      <td>0.01</td>\n",
       "      <td>145540000.0</td>\n",
       "    </tr>\n",
       "    <tr>\n",
       "      <th>2</th>\n",
       "      <td>American Samoa</td>\n",
       "      <td>0.00</td>\n",
       "      <td>88796000.0</td>\n",
       "    </tr>\n",
       "    <tr>\n",
       "      <th>3</th>\n",
       "      <td>Antigua and Barbuda</td>\n",
       "      <td>0.00</td>\n",
       "      <td>107154000.0</td>\n",
       "    </tr>\n",
       "    <tr>\n",
       "      <th>4</th>\n",
       "      <td>Bahrain</td>\n",
       "      <td>0.00</td>\n",
       "      <td>547976000.0</td>\n",
       "    </tr>\n",
       "    <tr>\n",
       "      <th>5</th>\n",
       "      <td>Cayman Islands</td>\n",
       "      <td>0.00</td>\n",
       "      <td>175578000.0</td>\n",
       "    </tr>\n",
       "    <tr>\n",
       "      <th>6</th>\n",
       "      <td>Cyprus</td>\n",
       "      <td>0.00</td>\n",
       "      <td>133920000.0</td>\n",
       "    </tr>\n",
       "    <tr>\n",
       "      <th>7</th>\n",
       "      <td>Grenada</td>\n",
       "      <td>0.00</td>\n",
       "      <td>39799000.0</td>\n",
       "    </tr>\n",
       "    <tr>\n",
       "      <th>8</th>\n",
       "      <td>Guam</td>\n",
       "      <td>0.00</td>\n",
       "      <td>152767000.0</td>\n",
       "    </tr>\n",
       "    <tr>\n",
       "      <th>9</th>\n",
       "      <td>Hong Kong</td>\n",
       "      <td>0.00</td>\n",
       "      <td>172009000.0</td>\n",
       "    </tr>\n",
       "    <tr>\n",
       "      <th>10</th>\n",
       "      <td>Iraq</td>\n",
       "      <td>0.00</td>\n",
       "      <td>63174000.0</td>\n",
       "    </tr>\n",
       "    <tr>\n",
       "      <th>11</th>\n",
       "      <td>Israel</td>\n",
       "      <td>0.00</td>\n",
       "      <td>113273000.0</td>\n",
       "    </tr>\n",
       "    <tr>\n",
       "      <th>12</th>\n",
       "      <td>Kuwait</td>\n",
       "      <td>0.00</td>\n",
       "      <td>381985000.0</td>\n",
       "    </tr>\n",
       "    <tr>\n",
       "      <th>13</th>\n",
       "      <td>Lebanon</td>\n",
       "      <td>0.00</td>\n",
       "      <td>53528000.0</td>\n",
       "    </tr>\n",
       "    <tr>\n",
       "      <th>14</th>\n",
       "      <td>Macau</td>\n",
       "      <td>0.00</td>\n",
       "      <td>81407000.0</td>\n",
       "    </tr>\n",
       "    <tr>\n",
       "      <th>15</th>\n",
       "      <td>Maldives</td>\n",
       "      <td>0.00</td>\n",
       "      <td>59690000.0</td>\n",
       "    </tr>\n",
       "    <tr>\n",
       "      <th>16</th>\n",
       "      <td>Malta</td>\n",
       "      <td>0.00</td>\n",
       "      <td>267739000.0</td>\n",
       "    </tr>\n",
       "    <tr>\n",
       "      <th>17</th>\n",
       "      <td>Mauritius</td>\n",
       "      <td>0.00</td>\n",
       "      <td>79448000.0</td>\n",
       "    </tr>\n",
       "    <tr>\n",
       "      <th>18</th>\n",
       "      <td>Oman</td>\n",
       "      <td>0.00</td>\n",
       "      <td>292022000.0</td>\n",
       "    </tr>\n",
       "    <tr>\n",
       "      <th>19</th>\n",
       "      <td>Puerto Rico</td>\n",
       "      <td>0.00</td>\n",
       "      <td>94379000.0</td>\n",
       "    </tr>\n",
       "    <tr>\n",
       "      <th>20</th>\n",
       "      <td>Qatar</td>\n",
       "      <td>0.00</td>\n",
       "      <td>723582000.0</td>\n",
       "    </tr>\n",
       "    <tr>\n",
       "      <th>21</th>\n",
       "      <td>Saint Kitts and Nevis</td>\n",
       "      <td>0.00</td>\n",
       "      <td>71960000.0</td>\n",
       "    </tr>\n",
       "    <tr>\n",
       "      <th>22</th>\n",
       "      <td>Saudi Arabia</td>\n",
       "      <td>0.00</td>\n",
       "      <td>296949000.0</td>\n",
       "    </tr>\n",
       "    <tr>\n",
       "      <th>23</th>\n",
       "      <td>Singapore</td>\n",
       "      <td>0.00</td>\n",
       "      <td>639951000.0</td>\n",
       "    </tr>\n",
       "    <tr>\n",
       "      <th>24</th>\n",
       "      <td>Turkmenistan</td>\n",
       "      <td>0.00</td>\n",
       "      <td>330507000.0</td>\n",
       "    </tr>\n",
       "    <tr>\n",
       "      <th>25</th>\n",
       "      <td>Turks and Caicos Islands</td>\n",
       "      <td>0.00</td>\n",
       "      <td>0.0</td>\n",
       "    </tr>\n",
       "    <tr>\n",
       "      <th>26</th>\n",
       "      <td>United Arab Emirates</td>\n",
       "      <td>0.00</td>\n",
       "      <td>471788000.0</td>\n",
       "    </tr>\n",
       "  </tbody>\n",
       "</table>\n",
       "</div>"
      ],
      "text/plain": [
       "                     Country   GDP          Btu\n",
       "0                     Canada  0.08  403700000.0\n",
       "1                       Iran  0.01  145540000.0\n",
       "2             American Samoa  0.00   88796000.0\n",
       "3        Antigua and Barbuda  0.00  107154000.0\n",
       "4                    Bahrain  0.00  547976000.0\n",
       "5             Cayman Islands  0.00  175578000.0\n",
       "6                     Cyprus  0.00  133920000.0\n",
       "7                    Grenada  0.00   39799000.0\n",
       "8                       Guam  0.00  152767000.0\n",
       "9                  Hong Kong  0.00  172009000.0\n",
       "10                      Iraq  0.00   63174000.0\n",
       "11                    Israel  0.00  113273000.0\n",
       "12                    Kuwait  0.00  381985000.0\n",
       "13                   Lebanon  0.00   53528000.0\n",
       "14                     Macau  0.00   81407000.0\n",
       "15                  Maldives  0.00   59690000.0\n",
       "16                     Malta  0.00  267739000.0\n",
       "17                 Mauritius  0.00   79448000.0\n",
       "18                      Oman  0.00  292022000.0\n",
       "19               Puerto Rico  0.00   94379000.0\n",
       "20                     Qatar  0.00  723582000.0\n",
       "21     Saint Kitts and Nevis  0.00   71960000.0\n",
       "22              Saudi Arabia  0.00  296949000.0\n",
       "23                 Singapore  0.00  639951000.0\n",
       "24              Turkmenistan  0.00  330507000.0\n",
       "25  Turks and Caicos Islands  0.00          0.0\n",
       "26      United Arab Emirates  0.00  471788000.0"
      ]
     },
     "execution_count": 11,
     "metadata": {},
     "output_type": "execute_result"
    }
   ],
   "source": [
    "CoalForestEnergy=coal.merge(forest).merge(energy)\n",
    "CoalForestEnergy"
   ]
  },
  {
   "cell_type": "code",
   "execution_count": 12,
   "metadata": {
    "colab": {
     "base_uri": "https://localhost:8080/"
    },
    "id": "pe5mLJ4_fo_Y",
    "outputId": "0fb3a875-3d03-4839-bd62-3398e4c4512c"
   },
   "outputs": [
    {
     "data": {
      "text/plain": [
       "{'Curacao', 'Greenland', 'Iceland', 'Trinidad and Tobago'}"
      ]
     },
     "execution_count": 12,
     "metadata": {},
     "output_type": "execute_result"
    }
   ],
   "source": [
    "set(coal.Country)-set(energy.Country)"
   ]
  },
  {
   "cell_type": "code",
   "execution_count": 13,
   "metadata": {
    "colab": {
     "base_uri": "https://localhost:8080/"
    },
    "id": "rikDuFWimCJF",
    "outputId": "4cd8757a-85c0-4914-f360-b5c4783d5b45"
   },
   "outputs": [
    {
     "data": {
      "text/plain": [
       "{'South Africa'}"
      ]
     },
     "execution_count": 13,
     "metadata": {},
     "output_type": "execute_result"
    }
   ],
   "source": [
    "set(coal.Country)-set(forest.Country)"
   ]
  },
  {
   "cell_type": "code",
   "execution_count": 14,
   "metadata": {
    "colab": {
     "base_uri": "https://localhost:8080/"
    },
    "id": "b-GjbQoHf3gm",
    "outputId": "d67373a8-58cc-48e8-e4b9-5e7ba7fd1932"
   },
   "outputs": [
    {
     "data": {
      "text/plain": [
       "{'Aruba',\n",
       " 'Egypt',\n",
       " 'Faroe Islands',\n",
       " 'Gaza Strip',\n",
       " 'Laos',\n",
       " 'Micronesia, Federated States of',\n",
       " 'Nauru',\n",
       " 'Northern Mariana Islands',\n",
       " 'South Sudan',\n",
       " 'Tuvalu',\n",
       " 'West Bank'}"
      ]
     },
     "execution_count": 14,
     "metadata": {},
     "output_type": "execute_result"
    }
   ],
   "source": [
    "(set(energy.Country)-set(coal.Country)) & (set(forest.Country)-set(coal.Country))"
   ]
  },
  {
   "cell_type": "code",
   "execution_count": 15,
   "metadata": {
    "id": "vzwvgc31mLnl"
   },
   "outputs": [],
   "source": [
    "CoalForestEnergy.to_csv('CoalForestEnergy.csv',index=False)"
   ]
  }
 ],
 "metadata": {
  "colab": {
   "provenance": []
  },
  "kernelspec": {
   "display_name": "Python 3 (ipykernel)",
   "language": "python",
   "name": "python3"
  },
  "language_info": {
   "codemirror_mode": {
    "name": "ipython",
    "version": 3
   },
   "file_extension": ".py",
   "mimetype": "text/x-python",
   "name": "python",
   "nbconvert_exporter": "python",
   "pygments_lexer": "ipython3",
   "version": "3.9.15"
  }
 },
 "nbformat": 4,
 "nbformat_minor": 1
}
