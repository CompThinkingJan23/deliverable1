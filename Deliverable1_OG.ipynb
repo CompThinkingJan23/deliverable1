{
 "cells": [
  {
   "cell_type": "code",
   "execution_count": 9,
   "id": "802e0128",
   "metadata": {},
   "outputs": [],
   "source": [
    "# 1 Revenue from Forest Resources"
   ]
  },
  {
   "cell_type": "code",
   "execution_count": 10,
   "id": "7ba4e7b0",
   "metadata": {},
   "outputs": [
    {
     "data": {
      "text/html": [
       "\n",
       "        <iframe\n",
       "            width=\"690\"\n",
       "            height=\"12486\"\n",
       "            src=\"https://www.cia.gov/the-world-factbook/field/revenue-from-forest-resources/country-comparison\"\n",
       "            frameborder=\"0\"\n",
       "            allowfullscreen\n",
       "            \n",
       "        ></iframe>\n",
       "        "
      ],
      "text/plain": [
       "<IPython.lib.display.IFrame at 0x111934ca0>"
      ]
     },
     "execution_count": 10,
     "metadata": {},
     "output_type": "execute_result"
    }
   ],
   "source": [
    "from IPython.display import IFrame\n",
    "Forest=\"https://www.cia.gov/the-world-factbook/field/revenue-from-forest-resources/country-comparison\"\n",
    "IFrame(Forest, width=690, height=12486)"
   ]
  },
  {
   "cell_type": "code",
   "execution_count": 11,
   "id": "f2e722da",
   "metadata": {},
   "outputs": [],
   "source": [
    "import pandas as pd\n",
    "\n",
    "ForestTable=pd.read_html(Forest,\n",
    "                        header=0,\n",
    "                        flavor='bs4',\n",
    "                        attrs={'content-table table-auto'})"
   ]
  },
  {
   "cell_type": "code",
   "execution_count": 12,
   "id": "577a6386",
   "metadata": {},
   "outputs": [
    {
     "data": {
      "text/plain": [
       "list"
      ]
     },
     "execution_count": 12,
     "metadata": {},
     "output_type": "execute_result"
    }
   ],
   "source": [
    "type(ForestTable)"
   ]
  },
  {
   "cell_type": "code",
   "execution_count": 13,
   "id": "1fe0a204",
   "metadata": {},
   "outputs": [
    {
     "data": {
      "text/plain": [
       "1"
      ]
     },
     "execution_count": 13,
     "metadata": {},
     "output_type": "execute_result"
    }
   ],
   "source": [
    "len(ForestTable)"
   ]
  },
  {
   "cell_type": "code",
   "execution_count": 14,
   "id": "d9f9b9c1",
   "metadata": {},
   "outputs": [
    {
     "data": {
      "text/plain": [
       "pandas.core.frame.DataFrame"
      ]
     },
     "execution_count": 14,
     "metadata": {},
     "output_type": "execute_result"
    }
   ],
   "source": [
    "type(ForestTable[0])"
   ]
  },
  {
   "cell_type": "code",
   "execution_count": 15,
   "id": "6ac4e40b",
   "metadata": {},
   "outputs": [
    {
     "data": {
      "text/html": [
       "<div>\n",
       "<style scoped>\n",
       "    .dataframe tbody tr th:only-of-type {\n",
       "        vertical-align: middle;\n",
       "    }\n",
       "\n",
       "    .dataframe tbody tr th {\n",
       "        vertical-align: top;\n",
       "    }\n",
       "\n",
       "    .dataframe thead th {\n",
       "        text-align: right;\n",
       "    }\n",
       "</style>\n",
       "<table border=\"1\" class=\"dataframe\">\n",
       "  <thead>\n",
       "    <tr style=\"text-align: right;\">\n",
       "      <th></th>\n",
       "      <th>Rank</th>\n",
       "      <th>Country</th>\n",
       "      <th>% of GDP</th>\n",
       "      <th>Date of Information</th>\n",
       "    </tr>\n",
       "  </thead>\n",
       "  <tbody>\n",
       "    <tr>\n",
       "      <th>0</th>\n",
       "      <td>1</td>\n",
       "      <td>Solomon Islands</td>\n",
       "      <td>20.27</td>\n",
       "      <td>2018 est.</td>\n",
       "    </tr>\n",
       "    <tr>\n",
       "      <th>1</th>\n",
       "      <td>2</td>\n",
       "      <td>Liberia</td>\n",
       "      <td>13.27</td>\n",
       "      <td>2018 est.</td>\n",
       "    </tr>\n",
       "    <tr>\n",
       "      <th>2</th>\n",
       "      <td>3</td>\n",
       "      <td>Burundi</td>\n",
       "      <td>10.31</td>\n",
       "      <td>2018 est.</td>\n",
       "    </tr>\n",
       "    <tr>\n",
       "      <th>3</th>\n",
       "      <td>4</td>\n",
       "      <td>Guinea-Bissau</td>\n",
       "      <td>9.24</td>\n",
       "      <td>2018 est.</td>\n",
       "    </tr>\n",
       "    <tr>\n",
       "      <th>4</th>\n",
       "      <td>5</td>\n",
       "      <td>Central African Republic</td>\n",
       "      <td>8.99</td>\n",
       "      <td>2018 est.</td>\n",
       "    </tr>\n",
       "    <tr>\n",
       "      <th>...</th>\n",
       "      <td>...</td>\n",
       "      <td>...</td>\n",
       "      <td>...</td>\n",
       "      <td>...</td>\n",
       "    </tr>\n",
       "    <tr>\n",
       "      <th>199</th>\n",
       "      <td>200</td>\n",
       "      <td>Tuvalu</td>\n",
       "      <td>0.00</td>\n",
       "      <td>2018 est.</td>\n",
       "    </tr>\n",
       "    <tr>\n",
       "      <th>200</th>\n",
       "      <td>201</td>\n",
       "      <td>United Arab Emirates</td>\n",
       "      <td>0.00</td>\n",
       "      <td>2018 est.</td>\n",
       "    </tr>\n",
       "    <tr>\n",
       "      <th>201</th>\n",
       "      <td>202</td>\n",
       "      <td>Uzbekistan</td>\n",
       "      <td>0.00</td>\n",
       "      <td>2018 est.</td>\n",
       "    </tr>\n",
       "    <tr>\n",
       "      <th>202</th>\n",
       "      <td>203</td>\n",
       "      <td>Virgin Islands</td>\n",
       "      <td>0.00</td>\n",
       "      <td>2017 est.</td>\n",
       "    </tr>\n",
       "    <tr>\n",
       "      <th>203</th>\n",
       "      <td>204</td>\n",
       "      <td>West Bank</td>\n",
       "      <td>0.00</td>\n",
       "      <td>2018 est.</td>\n",
       "    </tr>\n",
       "  </tbody>\n",
       "</table>\n",
       "<p>204 rows × 4 columns</p>\n",
       "</div>"
      ],
      "text/plain": [
       "     Rank                   Country  % of GDP Date of Information\n",
       "0       1           Solomon Islands     20.27           2018 est.\n",
       "1       2                   Liberia     13.27           2018 est.\n",
       "2       3                   Burundi     10.31           2018 est.\n",
       "3       4             Guinea-Bissau      9.24           2018 est.\n",
       "4       5  Central African Republic      8.99           2018 est.\n",
       "..    ...                       ...       ...                 ...\n",
       "199   200                    Tuvalu      0.00           2018 est.\n",
       "200   201      United Arab Emirates      0.00           2018 est.\n",
       "201   202                Uzbekistan      0.00           2018 est.\n",
       "202   203            Virgin Islands      0.00           2017 est.\n",
       "203   204                 West Bank      0.00           2018 est.\n",
       "\n",
       "[204 rows x 4 columns]"
      ]
     },
     "execution_count": 15,
     "metadata": {},
     "output_type": "execute_result"
    }
   ],
   "source": [
    "ForestTable[0]"
   ]
  },
  {
   "cell_type": "code",
   "execution_count": 16,
   "id": "0dc2fb40",
   "metadata": {},
   "outputs": [],
   "source": [
    "DFforest=ForestTable[0].copy()"
   ]
  },
  {
   "cell_type": "code",
   "execution_count": 17,
   "id": "4044f68f",
   "metadata": {},
   "outputs": [
    {
     "data": {
      "text/plain": [
       "Index(['Rank', 'Country', '% of GDP', 'Date of Information'], dtype='object')"
      ]
     },
     "execution_count": 17,
     "metadata": {},
     "output_type": "execute_result"
    }
   ],
   "source": [
    "DFforest.columns"
   ]
  },
  {
   "cell_type": "code",
   "execution_count": 18,
   "id": "ddd6cb80",
   "metadata": {},
   "outputs": [
    {
     "data": {
      "text/plain": [
       "['Rank', 'Country', '% of GDP', 'Date of Information']"
      ]
     },
     "execution_count": 18,
     "metadata": {},
     "output_type": "execute_result"
    }
   ],
   "source": [
    "DFforest.columns.to_list()"
   ]
  },
  {
   "cell_type": "code",
   "execution_count": 19,
   "id": "8efc6ba7",
   "metadata": {},
   "outputs": [
    {
     "data": {
      "text/html": [
       "<div>\n",
       "<style scoped>\n",
       "    .dataframe tbody tr th:only-of-type {\n",
       "        vertical-align: middle;\n",
       "    }\n",
       "\n",
       "    .dataframe tbody tr th {\n",
       "        vertical-align: top;\n",
       "    }\n",
       "\n",
       "    .dataframe thead th {\n",
       "        text-align: right;\n",
       "    }\n",
       "</style>\n",
       "<table border=\"1\" class=\"dataframe\">\n",
       "  <thead>\n",
       "    <tr style=\"text-align: right;\">\n",
       "      <th></th>\n",
       "      <th>Rank</th>\n",
       "      <th>Country</th>\n",
       "      <th>% of GDP</th>\n",
       "    </tr>\n",
       "  </thead>\n",
       "  <tbody>\n",
       "    <tr>\n",
       "      <th>0</th>\n",
       "      <td>1</td>\n",
       "      <td>Solomon Islands</td>\n",
       "      <td>20.27</td>\n",
       "    </tr>\n",
       "    <tr>\n",
       "      <th>1</th>\n",
       "      <td>2</td>\n",
       "      <td>Liberia</td>\n",
       "      <td>13.27</td>\n",
       "    </tr>\n",
       "    <tr>\n",
       "      <th>2</th>\n",
       "      <td>3</td>\n",
       "      <td>Burundi</td>\n",
       "      <td>10.31</td>\n",
       "    </tr>\n",
       "    <tr>\n",
       "      <th>3</th>\n",
       "      <td>4</td>\n",
       "      <td>Guinea-Bissau</td>\n",
       "      <td>9.24</td>\n",
       "    </tr>\n",
       "    <tr>\n",
       "      <th>4</th>\n",
       "      <td>5</td>\n",
       "      <td>Central African Republic</td>\n",
       "      <td>8.99</td>\n",
       "    </tr>\n",
       "    <tr>\n",
       "      <th>...</th>\n",
       "      <td>...</td>\n",
       "      <td>...</td>\n",
       "      <td>...</td>\n",
       "    </tr>\n",
       "    <tr>\n",
       "      <th>199</th>\n",
       "      <td>200</td>\n",
       "      <td>Tuvalu</td>\n",
       "      <td>0.00</td>\n",
       "    </tr>\n",
       "    <tr>\n",
       "      <th>200</th>\n",
       "      <td>201</td>\n",
       "      <td>United Arab Emirates</td>\n",
       "      <td>0.00</td>\n",
       "    </tr>\n",
       "    <tr>\n",
       "      <th>201</th>\n",
       "      <td>202</td>\n",
       "      <td>Uzbekistan</td>\n",
       "      <td>0.00</td>\n",
       "    </tr>\n",
       "    <tr>\n",
       "      <th>202</th>\n",
       "      <td>203</td>\n",
       "      <td>Virgin Islands</td>\n",
       "      <td>0.00</td>\n",
       "    </tr>\n",
       "    <tr>\n",
       "      <th>203</th>\n",
       "      <td>204</td>\n",
       "      <td>West Bank</td>\n",
       "      <td>0.00</td>\n",
       "    </tr>\n",
       "  </tbody>\n",
       "</table>\n",
       "<p>204 rows × 3 columns</p>\n",
       "</div>"
      ],
      "text/plain": [
       "     Rank                   Country  % of GDP\n",
       "0       1           Solomon Islands     20.27\n",
       "1       2                   Liberia     13.27\n",
       "2       3                   Burundi     10.31\n",
       "3       4             Guinea-Bissau      9.24\n",
       "4       5  Central African Republic      8.99\n",
       "..    ...                       ...       ...\n",
       "199   200                    Tuvalu      0.00\n",
       "200   201      United Arab Emirates      0.00\n",
       "201   202                Uzbekistan      0.00\n",
       "202   203            Virgin Islands      0.00\n",
       "203   204                 West Bank      0.00\n",
       "\n",
       "[204 rows x 3 columns]"
      ]
     },
     "execution_count": 19,
     "metadata": {},
     "output_type": "execute_result"
    }
   ],
   "source": [
    "bye=[3]\n",
    "DFforest.drop(columns=DFforest.columns[bye],inplace=True)\n",
    "DFforest"
   ]
  },
  {
   "cell_type": "code",
   "execution_count": 20,
   "id": "e26517e6",
   "metadata": {},
   "outputs": [],
   "source": [
    "DFforest.rename(columns = {'% of GDP':'GDP'}, inplace = True)"
   ]
  },
  {
   "cell_type": "code",
   "execution_count": 21,
   "id": "d4081d3a",
   "metadata": {},
   "outputs": [
    {
     "data": {
      "text/plain": [
       "['Rank', 'Country', 'GDP']"
      ]
     },
     "execution_count": 21,
     "metadata": {},
     "output_type": "execute_result"
    }
   ],
   "source": [
    "DFforest.columns.to_list()"
   ]
  },
  {
   "cell_type": "code",
   "execution_count": 22,
   "id": "032ac3c0",
   "metadata": {
    "scrolled": true
   },
   "outputs": [
    {
     "data": {
      "text/plain": [
       "0               Solomon Islands\n",
       "1                       Liberia\n",
       "2                       Burundi\n",
       "3                 Guinea-Bissau\n",
       "4      Central African Republic\n",
       "                 ...           \n",
       "199                      Tuvalu\n",
       "200        United Arab Emirates\n",
       "201                  Uzbekistan\n",
       "202              Virgin Islands\n",
       "203                   West Bank\n",
       "Name: Country, Length: 204, dtype: object"
      ]
     },
     "execution_count": 22,
     "metadata": {},
     "output_type": "execute_result"
    }
   ],
   "source": [
    "DFforest.iloc[:,1]"
   ]
  },
  {
   "cell_type": "code",
   "execution_count": 23,
   "id": "449c4e76",
   "metadata": {},
   "outputs": [
    {
     "data": {
      "text/plain": [
       "0        1\n",
       "1        2\n",
       "2        3\n",
       "3        4\n",
       "4        5\n",
       "      ... \n",
       "199    200\n",
       "200    201\n",
       "201    202\n",
       "202    203\n",
       "203    204\n",
       "Name: Rank, Length: 204, dtype: int64"
      ]
     },
     "execution_count": 23,
     "metadata": {},
     "output_type": "execute_result"
    }
   ],
   "source": [
    "DFforest.iloc[:,0]"
   ]
  },
  {
   "cell_type": "code",
   "execution_count": 24,
   "id": "d0dcf188",
   "metadata": {},
   "outputs": [
    {
     "data": {
      "text/plain": [
       "Rank         int64\n",
       "Country     object\n",
       "GDP        float64\n",
       "dtype: object"
      ]
     },
     "execution_count": 24,
     "metadata": {},
     "output_type": "execute_result"
    }
   ],
   "source": [
    "DFforest.dtypes"
   ]
  },
  {
   "cell_type": "code",
   "execution_count": 25,
   "id": "a5ab1b6b",
   "metadata": {},
   "outputs": [
    {
     "name": "stdout",
     "output_type": "stream",
     "text": [
      "object\n",
      "float64\n"
     ]
    },
    {
     "data": {
      "text/plain": [
       "Country    None\n",
       "GDP        None\n",
       "dtype: object"
      ]
     },
     "execution_count": 25,
     "metadata": {},
     "output_type": "execute_result"
    }
   ],
   "source": [
    "DFforest.iloc[:,1:].apply(lambda x:print(x.dtype))"
   ]
  },
  {
   "cell_type": "code",
   "execution_count": 26,
   "id": "e6516217",
   "metadata": {},
   "outputs": [
    {
     "data": {
      "text/plain": [
       "0               Solomon Islands\n",
       "1                       Liberia\n",
       "2                       Burundi\n",
       "3                 Guinea-Bissau\n",
       "4      Central African Republic\n",
       "                 ...           \n",
       "199                      Tuvalu\n",
       "200        United Arab Emirates\n",
       "201                  Uzbekistan\n",
       "202              Virgin Islands\n",
       "203                   West Bank\n",
       "Name: Country, Length: 204, dtype: object"
      ]
     },
     "execution_count": 26,
     "metadata": {},
     "output_type": "execute_result"
    }
   ],
   "source": [
    "stripSeveral=lambda x: x.strip()\n",
    "DFforest.iloc[:,1].apply(stripSeveral)"
   ]
  },
  {
   "cell_type": "code",
   "execution_count": 27,
   "id": "0c815a6c",
   "metadata": {},
   "outputs": [],
   "source": [
    "DFforest.iloc[:,1]=DFforest.iloc[:,1].apply(stripSeveral)"
   ]
  },
  {
   "cell_type": "code",
   "execution_count": 28,
   "id": "efb0e419",
   "metadata": {},
   "outputs": [
    {
     "data": {
      "text/plain": [
       "0               Solomon Islands\n",
       "1                       Liberia\n",
       "2                       Burundi\n",
       "3                 Guinea-Bissau\n",
       "4      Central African Republic\n",
       "                 ...           \n",
       "199                      Tuvalu\n",
       "200        United Arab Emirates\n",
       "201                  Uzbekistan\n",
       "202              Virgin Islands\n",
       "203                   West Bank\n",
       "Name: Country, Length: 204, dtype: object"
      ]
     },
     "execution_count": 28,
     "metadata": {},
     "output_type": "execute_result"
    }
   ],
   "source": [
    "DFforest.iloc[:,1]"
   ]
  },
  {
   "cell_type": "code",
   "execution_count": 29,
   "id": "4ddb3eef",
   "metadata": {},
   "outputs": [
    {
     "data": {
      "text/plain": [
       "1      1\n",
       "141    1\n",
       "131    1\n",
       "132    1\n",
       "133    1\n",
       "      ..\n",
       "71     1\n",
       "72     1\n",
       "73     1\n",
       "74     1\n",
       "204    1\n",
       "Name: Rank, Length: 204, dtype: int64"
      ]
     },
     "execution_count": 29,
     "metadata": {},
     "output_type": "execute_result"
    }
   ],
   "source": [
    "DFforest.Rank.value_counts()"
   ]
  },
  {
   "cell_type": "code",
   "execution_count": 30,
   "id": "a5ab3df8",
   "metadata": {},
   "outputs": [
    {
     "data": {
      "text/plain": [
       "Solomon Islands    1\n",
       "Japan              1\n",
       "United States      1\n",
       "Yemen              1\n",
       "Dominica           1\n",
       "                  ..\n",
       "Indonesia          1\n",
       "Cabo Verde         1\n",
       "Serbia             1\n",
       "Angola             1\n",
       "West Bank          1\n",
       "Name: Country, Length: 204, dtype: int64"
      ]
     },
     "execution_count": 30,
     "metadata": {},
     "output_type": "execute_result"
    }
   ],
   "source": [
    "DFforest.Country.value_counts()"
   ]
  },
  {
   "cell_type": "code",
   "execution_count": 31,
   "id": "4b59d6d2",
   "metadata": {},
   "outputs": [
    {
     "data": {
      "text/plain": [
       "Solomon Islands    1\n",
       "Japan              1\n",
       "United States      1\n",
       "Yemen              1\n",
       "Dominica           1\n",
       "                  ..\n",
       "Indonesia          1\n",
       "Cabo Verde         1\n",
       "Serbia             1\n",
       "Angola             1\n",
       "West Bank          1\n",
       "Name: Country, Length: 204, dtype: int64"
      ]
     },
     "execution_count": 31,
     "metadata": {},
     "output_type": "execute_result"
    }
   ],
   "source": [
    "forestFQ=DFforest.Country.value_counts()\n",
    "forestFQ"
   ]
  },
  {
   "cell_type": "code",
   "execution_count": 32,
   "id": "efaff9b6",
   "metadata": {
    "scrolled": true
   },
   "outputs": [
    {
     "data": {
      "text/plain": [
       "Solomon Islands    1\n",
       "Japan              1\n",
       "United States      1\n",
       "Yemen              1\n",
       "Dominica           1\n",
       "                  ..\n",
       "Indonesia          1\n",
       "Cabo Verde         1\n",
       "Serbia             1\n",
       "Angola             1\n",
       "West Bank          1\n",
       "Name: Country, Length: 204, dtype: int64"
      ]
     },
     "execution_count": 32,
     "metadata": {},
     "output_type": "execute_result"
    }
   ],
   "source": [
    "forestFQ[forestFQ==1]"
   ]
  },
  {
   "cell_type": "code",
   "execution_count": 33,
   "id": "3a889ae1",
   "metadata": {},
   "outputs": [
    {
     "data": {
      "text/plain": [
       "['Solomon Islands',\n",
       " 'Japan',\n",
       " 'United States',\n",
       " 'Yemen',\n",
       " 'Dominica',\n",
       " 'Dominican Republic',\n",
       " 'France',\n",
       " 'Germany',\n",
       " 'Tonga',\n",
       " 'Azerbaijan',\n",
       " 'Belgium',\n",
       " 'Denmark',\n",
       " 'Jordan',\n",
       " 'Trinidad and Tobago',\n",
       " 'Micronesia, Federated States of',\n",
       " 'Saint Vincent and the Grenadines',\n",
       " 'Spain',\n",
       " 'Bahamas, The',\n",
       " 'Barbados',\n",
       " 'Greece',\n",
       " 'Iran',\n",
       " 'Ireland',\n",
       " 'Italy',\n",
       " 'Korea, South',\n",
       " 'Kiribati',\n",
       " 'Norway',\n",
       " 'Liberia',\n",
       " 'Argentina',\n",
       " 'Australia',\n",
       " 'Morocco',\n",
       " 'Portugal',\n",
       " 'Timor-Leste',\n",
       " 'Peru',\n",
       " 'Algeria',\n",
       " 'Colombia',\n",
       " 'Hungary',\n",
       " 'Mexico',\n",
       " 'Pakistan',\n",
       " 'Seychelles',\n",
       " 'Brunei',\n",
       " 'Bangladesh',\n",
       " 'Canada',\n",
       " 'China',\n",
       " 'Panama',\n",
       " 'Turkey (Turkiye)',\n",
       " 'Austria',\n",
       " 'Georgia',\n",
       " 'Cuba',\n",
       " 'Libya',\n",
       " 'Sri Lanka',\n",
       " 'Kyrgyzstan',\n",
       " 'Luxembourg',\n",
       " 'Netherlands',\n",
       " 'Puerto Rico',\n",
       " 'Macau',\n",
       " 'Maldives',\n",
       " 'Malta',\n",
       " 'Marshall Islands',\n",
       " 'Mauritius',\n",
       " 'Monaco',\n",
       " 'Nauru',\n",
       " 'Northern Mariana Islands',\n",
       " 'Oman',\n",
       " 'Palau',\n",
       " 'Qatar',\n",
       " 'Saint Lucia',\n",
       " 'Saint Kitts and Nevis',\n",
       " 'San Marino',\n",
       " 'Saudi Arabia',\n",
       " 'Singapore',\n",
       " 'Turkmenistan',\n",
       " 'Turks and Caicos Islands',\n",
       " 'Tuvalu',\n",
       " 'United Arab Emirates',\n",
       " 'Uzbekistan',\n",
       " 'Virgin Islands',\n",
       " 'Liechtenstein',\n",
       " 'Lebanon',\n",
       " 'Kuwait',\n",
       " 'Kosovo',\n",
       " 'Switzerland',\n",
       " 'United Kingdom',\n",
       " 'American Samoa',\n",
       " 'Andorra',\n",
       " 'Antigua and Barbuda',\n",
       " 'Aruba',\n",
       " 'Bahrain',\n",
       " 'Cayman Islands',\n",
       " 'Curacao',\n",
       " 'Cyprus',\n",
       " 'Faroe Islands',\n",
       " 'Gaza Strip',\n",
       " 'Greenland',\n",
       " 'Grenada',\n",
       " 'Guam',\n",
       " 'Hong Kong',\n",
       " 'Iceland',\n",
       " 'Iraq',\n",
       " 'Isle of Man',\n",
       " 'Israel',\n",
       " 'Kazakhstan',\n",
       " 'Mongolia',\n",
       " 'India',\n",
       " 'North Macedonia',\n",
       " 'Burma',\n",
       " 'Gambia, The',\n",
       " 'Suriname',\n",
       " 'Eswatini',\n",
       " 'Benin',\n",
       " 'Tanzania',\n",
       " 'Papua New Guinea',\n",
       " \"Cote d'Ivoire\",\n",
       " 'Mali',\n",
       " 'Sao Tome and Principe',\n",
       " 'Bhutan',\n",
       " 'Zimbabwe',\n",
       " 'Tajikistan',\n",
       " 'Malaysia',\n",
       " 'Uruguay',\n",
       " 'Equatorial Guinea',\n",
       " 'Vietnam',\n",
       " 'Laos',\n",
       " 'Senegal',\n",
       " 'Comoros',\n",
       " 'Kenya',\n",
       " 'Mauritania',\n",
       " 'Nicaragua',\n",
       " 'Cameroon',\n",
       " 'Gabon',\n",
       " 'South Sudan',\n",
       " 'Sudan',\n",
       " 'Burundi',\n",
       " 'Guinea-Bissau',\n",
       " 'Central African Republic',\n",
       " 'Congo, Democratic Republic of the',\n",
       " 'Uganda',\n",
       " 'Sierra Leone',\n",
       " 'Mozambique',\n",
       " 'Malawi',\n",
       " 'Ethiopia',\n",
       " 'Guinea',\n",
       " 'Guyana',\n",
       " 'Burkina Faso',\n",
       " 'Zambia',\n",
       " 'Niger',\n",
       " 'Madagascar',\n",
       " 'Togo',\n",
       " 'Chad',\n",
       " 'Rwanda',\n",
       " 'Ghana',\n",
       " 'Lesotho',\n",
       " 'Congo, Republic of the',\n",
       " 'Paraguay',\n",
       " 'Belarus',\n",
       " 'Jamaica',\n",
       " 'Bulgaria',\n",
       " 'Belize',\n",
       " 'Lithuania',\n",
       " 'Russia',\n",
       " 'Armenia',\n",
       " 'Ecuador',\n",
       " 'Samoa',\n",
       " 'Croatia',\n",
       " 'Djibouti',\n",
       " 'Moldova',\n",
       " 'Botswana',\n",
       " 'Slovakia',\n",
       " 'Nigeria',\n",
       " 'Sweden',\n",
       " 'Tunisia',\n",
       " 'Afghanistan',\n",
       " 'Slovenia',\n",
       " 'Albania',\n",
       " 'Philippines',\n",
       " 'Czechia',\n",
       " 'Poland',\n",
       " 'Romania',\n",
       " 'Egypt',\n",
       " 'Bolivia',\n",
       " 'Ukraine',\n",
       " 'Thailand',\n",
       " 'Finland',\n",
       " 'Honduras',\n",
       " 'Estonia',\n",
       " 'Latvia',\n",
       " 'Cambodia',\n",
       " 'Costa Rica',\n",
       " 'Guatemala',\n",
       " 'Haiti',\n",
       " 'Brazil',\n",
       " 'El Salvador',\n",
       " 'Fiji',\n",
       " 'Vanuatu',\n",
       " 'New Zealand',\n",
       " 'Bosnia and Herzegovina',\n",
       " 'Chile',\n",
       " 'Namibia',\n",
       " 'Nepal',\n",
       " 'Montenegro',\n",
       " 'Indonesia',\n",
       " 'Cabo Verde',\n",
       " 'Serbia',\n",
       " 'Angola',\n",
       " 'West Bank']"
      ]
     },
     "execution_count": 33,
     "metadata": {},
     "output_type": "execute_result"
    }
   ],
   "source": [
    "badLevelsforest=forestFQ[forestFQ==1].index.to_list()\n",
    "badLevelsforest"
   ]
  },
  {
   "cell_type": "code",
   "execution_count": 34,
   "id": "7e3af741",
   "metadata": {},
   "outputs": [
    {
     "data": {
      "text/html": [
       "<div>\n",
       "<style scoped>\n",
       "    .dataframe tbody tr th:only-of-type {\n",
       "        vertical-align: middle;\n",
       "    }\n",
       "\n",
       "    .dataframe tbody tr th {\n",
       "        vertical-align: top;\n",
       "    }\n",
       "\n",
       "    .dataframe thead th {\n",
       "        text-align: right;\n",
       "    }\n",
       "</style>\n",
       "<table border=\"1\" class=\"dataframe\">\n",
       "  <thead>\n",
       "    <tr style=\"text-align: right;\">\n",
       "      <th></th>\n",
       "      <th>Rank</th>\n",
       "      <th>Country</th>\n",
       "      <th>GDP</th>\n",
       "    </tr>\n",
       "  </thead>\n",
       "  <tbody>\n",
       "    <tr>\n",
       "      <th>0</th>\n",
       "      <td>1</td>\n",
       "      <td>Solomon Islands</td>\n",
       "      <td>20.27</td>\n",
       "    </tr>\n",
       "    <tr>\n",
       "      <th>1</th>\n",
       "      <td>2</td>\n",
       "      <td>Liberia</td>\n",
       "      <td>13.27</td>\n",
       "    </tr>\n",
       "    <tr>\n",
       "      <th>2</th>\n",
       "      <td>3</td>\n",
       "      <td>Burundi</td>\n",
       "      <td>10.31</td>\n",
       "    </tr>\n",
       "    <tr>\n",
       "      <th>3</th>\n",
       "      <td>4</td>\n",
       "      <td>Guinea-Bissau</td>\n",
       "      <td>9.24</td>\n",
       "    </tr>\n",
       "    <tr>\n",
       "      <th>4</th>\n",
       "      <td>5</td>\n",
       "      <td>Central African Republic</td>\n",
       "      <td>8.99</td>\n",
       "    </tr>\n",
       "    <tr>\n",
       "      <th>...</th>\n",
       "      <td>...</td>\n",
       "      <td>...</td>\n",
       "      <td>...</td>\n",
       "    </tr>\n",
       "    <tr>\n",
       "      <th>199</th>\n",
       "      <td>200</td>\n",
       "      <td>Tuvalu</td>\n",
       "      <td>0.00</td>\n",
       "    </tr>\n",
       "    <tr>\n",
       "      <th>200</th>\n",
       "      <td>201</td>\n",
       "      <td>United Arab Emirates</td>\n",
       "      <td>0.00</td>\n",
       "    </tr>\n",
       "    <tr>\n",
       "      <th>201</th>\n",
       "      <td>202</td>\n",
       "      <td>Uzbekistan</td>\n",
       "      <td>0.00</td>\n",
       "    </tr>\n",
       "    <tr>\n",
       "      <th>202</th>\n",
       "      <td>203</td>\n",
       "      <td>Virgin Islands</td>\n",
       "      <td>0.00</td>\n",
       "    </tr>\n",
       "    <tr>\n",
       "      <th>203</th>\n",
       "      <td>204</td>\n",
       "      <td>West Bank</td>\n",
       "      <td>0.00</td>\n",
       "    </tr>\n",
       "  </tbody>\n",
       "</table>\n",
       "<p>204 rows × 3 columns</p>\n",
       "</div>"
      ],
      "text/plain": [
       "     Rank                   Country    GDP\n",
       "0       1           Solomon Islands  20.27\n",
       "1       2                   Liberia  13.27\n",
       "2       3                   Burundi  10.31\n",
       "3       4             Guinea-Bissau   9.24\n",
       "4       5  Central African Republic   8.99\n",
       "..    ...                       ...    ...\n",
       "199   200                    Tuvalu   0.00\n",
       "200   201      United Arab Emirates   0.00\n",
       "201   202                Uzbekistan   0.00\n",
       "202   203            Virgin Islands   0.00\n",
       "203   204                 West Bank   0.00\n",
       "\n",
       "[204 rows x 3 columns]"
      ]
     },
     "execution_count": 34,
     "metadata": {},
     "output_type": "execute_result"
    }
   ],
   "source": [
    "DFforest[DFforest.Country.isin(badLevelsforest)]"
   ]
  },
  {
   "cell_type": "code",
   "execution_count": 35,
   "id": "0cd54d49",
   "metadata": {},
   "outputs": [
    {
     "data": {
      "text/html": [
       "<div>\n",
       "<style scoped>\n",
       "    .dataframe tbody tr th:only-of-type {\n",
       "        vertical-align: middle;\n",
       "    }\n",
       "\n",
       "    .dataframe tbody tr th {\n",
       "        vertical-align: top;\n",
       "    }\n",
       "\n",
       "    .dataframe thead th {\n",
       "        text-align: right;\n",
       "    }\n",
       "</style>\n",
       "<table border=\"1\" class=\"dataframe\">\n",
       "  <thead>\n",
       "    <tr style=\"text-align: right;\">\n",
       "      <th></th>\n",
       "      <th>Rank</th>\n",
       "      <th>Country</th>\n",
       "      <th>GDP</th>\n",
       "    </tr>\n",
       "  </thead>\n",
       "  <tbody>\n",
       "  </tbody>\n",
       "</table>\n",
       "</div>"
      ],
      "text/plain": [
       "Empty DataFrame\n",
       "Columns: [Rank, Country, GDP]\n",
       "Index: []"
      ]
     },
     "execution_count": 35,
     "metadata": {},
     "output_type": "execute_result"
    }
   ],
   "source": [
    "DFforest=DFforest[~DFforest.Country.isin(badLevelsforest)]\n",
    "DFforest"
   ]
  },
  {
   "cell_type": "code",
   "execution_count": 36,
   "id": "3e80af6e",
   "metadata": {},
   "outputs": [
    {
     "data": {
      "text/html": [
       "<div>\n",
       "<style scoped>\n",
       "    .dataframe tbody tr th:only-of-type {\n",
       "        vertical-align: middle;\n",
       "    }\n",
       "\n",
       "    .dataframe tbody tr th {\n",
       "        vertical-align: top;\n",
       "    }\n",
       "\n",
       "    .dataframe thead th {\n",
       "        text-align: right;\n",
       "    }\n",
       "</style>\n",
       "<table border=\"1\" class=\"dataframe\">\n",
       "  <thead>\n",
       "    <tr style=\"text-align: right;\">\n",
       "      <th></th>\n",
       "      <th>Rank</th>\n",
       "      <th>Country</th>\n",
       "      <th>GDP</th>\n",
       "    </tr>\n",
       "  </thead>\n",
       "  <tbody>\n",
       "  </tbody>\n",
       "</table>\n",
       "</div>"
      ],
      "text/plain": [
       "Empty DataFrame\n",
       "Columns: [Rank, Country, GDP]\n",
       "Index: []"
      ]
     },
     "execution_count": 36,
     "metadata": {},
     "output_type": "execute_result"
    }
   ],
   "source": [
    "DFforest"
   ]
  },
  {
   "cell_type": "code",
   "execution_count": 37,
   "id": "7d7dacc9",
   "metadata": {},
   "outputs": [],
   "source": [
    "# oops"
   ]
  },
  {
   "cell_type": "code",
   "execution_count": 38,
   "id": "6416e352",
   "metadata": {},
   "outputs": [],
   "source": [
    "forestDF=ForestTable[0].copy()"
   ]
  },
  {
   "cell_type": "code",
   "execution_count": 39,
   "id": "96ca73a7",
   "metadata": {},
   "outputs": [
    {
     "data": {
      "text/html": [
       "<div>\n",
       "<style scoped>\n",
       "    .dataframe tbody tr th:only-of-type {\n",
       "        vertical-align: middle;\n",
       "    }\n",
       "\n",
       "    .dataframe tbody tr th {\n",
       "        vertical-align: top;\n",
       "    }\n",
       "\n",
       "    .dataframe thead th {\n",
       "        text-align: right;\n",
       "    }\n",
       "</style>\n",
       "<table border=\"1\" class=\"dataframe\">\n",
       "  <thead>\n",
       "    <tr style=\"text-align: right;\">\n",
       "      <th></th>\n",
       "      <th>Rank</th>\n",
       "      <th>Country</th>\n",
       "      <th>% of GDP</th>\n",
       "    </tr>\n",
       "  </thead>\n",
       "  <tbody>\n",
       "    <tr>\n",
       "      <th>0</th>\n",
       "      <td>1</td>\n",
       "      <td>Solomon Islands</td>\n",
       "      <td>20.27</td>\n",
       "    </tr>\n",
       "    <tr>\n",
       "      <th>1</th>\n",
       "      <td>2</td>\n",
       "      <td>Liberia</td>\n",
       "      <td>13.27</td>\n",
       "    </tr>\n",
       "    <tr>\n",
       "      <th>2</th>\n",
       "      <td>3</td>\n",
       "      <td>Burundi</td>\n",
       "      <td>10.31</td>\n",
       "    </tr>\n",
       "    <tr>\n",
       "      <th>3</th>\n",
       "      <td>4</td>\n",
       "      <td>Guinea-Bissau</td>\n",
       "      <td>9.24</td>\n",
       "    </tr>\n",
       "    <tr>\n",
       "      <th>4</th>\n",
       "      <td>5</td>\n",
       "      <td>Central African Republic</td>\n",
       "      <td>8.99</td>\n",
       "    </tr>\n",
       "    <tr>\n",
       "      <th>...</th>\n",
       "      <td>...</td>\n",
       "      <td>...</td>\n",
       "      <td>...</td>\n",
       "    </tr>\n",
       "    <tr>\n",
       "      <th>199</th>\n",
       "      <td>200</td>\n",
       "      <td>Tuvalu</td>\n",
       "      <td>0.00</td>\n",
       "    </tr>\n",
       "    <tr>\n",
       "      <th>200</th>\n",
       "      <td>201</td>\n",
       "      <td>United Arab Emirates</td>\n",
       "      <td>0.00</td>\n",
       "    </tr>\n",
       "    <tr>\n",
       "      <th>201</th>\n",
       "      <td>202</td>\n",
       "      <td>Uzbekistan</td>\n",
       "      <td>0.00</td>\n",
       "    </tr>\n",
       "    <tr>\n",
       "      <th>202</th>\n",
       "      <td>203</td>\n",
       "      <td>Virgin Islands</td>\n",
       "      <td>0.00</td>\n",
       "    </tr>\n",
       "    <tr>\n",
       "      <th>203</th>\n",
       "      <td>204</td>\n",
       "      <td>West Bank</td>\n",
       "      <td>0.00</td>\n",
       "    </tr>\n",
       "  </tbody>\n",
       "</table>\n",
       "<p>204 rows × 3 columns</p>\n",
       "</div>"
      ],
      "text/plain": [
       "     Rank                   Country  % of GDP\n",
       "0       1           Solomon Islands     20.27\n",
       "1       2                   Liberia     13.27\n",
       "2       3                   Burundi     10.31\n",
       "3       4             Guinea-Bissau      9.24\n",
       "4       5  Central African Republic      8.99\n",
       "..    ...                       ...       ...\n",
       "199   200                    Tuvalu      0.00\n",
       "200   201      United Arab Emirates      0.00\n",
       "201   202                Uzbekistan      0.00\n",
       "202   203            Virgin Islands      0.00\n",
       "203   204                 West Bank      0.00\n",
       "\n",
       "[204 rows x 3 columns]"
      ]
     },
     "execution_count": 39,
     "metadata": {},
     "output_type": "execute_result"
    }
   ],
   "source": [
    "forestDF.drop(columns=forestDF.columns[bye],inplace=True)\n",
    "forestDF"
   ]
  },
  {
   "cell_type": "code",
   "execution_count": 40,
   "id": "3cc2126e",
   "metadata": {},
   "outputs": [
    {
     "data": {
      "text/plain": [
       "0               Solomon Islands\n",
       "1                       Liberia\n",
       "2                       Burundi\n",
       "3                 Guinea-Bissau\n",
       "4      Central African Republic\n",
       "                 ...           \n",
       "199                      Tuvalu\n",
       "200        United Arab Emirates\n",
       "201                  Uzbekistan\n",
       "202              Virgin Islands\n",
       "203                   West Bank\n",
       "Name: Country, Length: 204, dtype: object"
      ]
     },
     "execution_count": 40,
     "metadata": {},
     "output_type": "execute_result"
    }
   ],
   "source": [
    "forestDF.iloc[:,1].apply(stripSeveral)"
   ]
  },
  {
   "cell_type": "code",
   "execution_count": 41,
   "id": "08381578",
   "metadata": {},
   "outputs": [
    {
     "data": {
      "text/plain": [
       "Solomon Islands    1\n",
       "Japan              1\n",
       "United States      1\n",
       "Yemen              1\n",
       "Dominica           1\n",
       "                  ..\n",
       "Indonesia          1\n",
       "Cabo Verde         1\n",
       "Serbia             1\n",
       "Angola             1\n",
       "West Bank          1\n",
       "Name: Country, Length: 204, dtype: int64"
      ]
     },
     "execution_count": 41,
     "metadata": {},
     "output_type": "execute_result"
    }
   ],
   "source": [
    "ForestFQ=forestDF.Country.value_counts()\n",
    "ForestFQ"
   ]
  },
  {
   "cell_type": "code",
   "execution_count": 42,
   "id": "c951c0df",
   "metadata": {},
   "outputs": [
    {
     "data": {
      "text/plain": [
       "1      1\n",
       "141    1\n",
       "131    1\n",
       "132    1\n",
       "133    1\n",
       "      ..\n",
       "71     1\n",
       "72     1\n",
       "73     1\n",
       "74     1\n",
       "204    1\n",
       "Name: Rank, Length: 204, dtype: int64"
      ]
     },
     "execution_count": 42,
     "metadata": {},
     "output_type": "execute_result"
    }
   ],
   "source": [
    "ForestFQ=forestDF.Rank.value_counts()\n",
    "ForestFQ"
   ]
  },
  {
   "cell_type": "code",
   "execution_count": 43,
   "id": "1334ac30",
   "metadata": {},
   "outputs": [
    {
     "data": {
      "text/plain": [
       "Solomon Islands    1\n",
       "Japan              1\n",
       "United States      1\n",
       "Yemen              1\n",
       "Dominica           1\n",
       "                  ..\n",
       "Indonesia          1\n",
       "Cabo Verde         1\n",
       "Serbia             1\n",
       "Angola             1\n",
       "West Bank          1\n",
       "Name: Country, Length: 204, dtype: int64"
      ]
     },
     "execution_count": 43,
     "metadata": {},
     "output_type": "execute_result"
    }
   ],
   "source": [
    "ForestFQ=forestDF.Country.value_counts()\n",
    "ForestFQ"
   ]
  },
  {
   "cell_type": "code",
   "execution_count": 44,
   "id": "0f125910",
   "metadata": {},
   "outputs": [],
   "source": [
    "# not going to delete the rows with '1' values again..."
   ]
  },
  {
   "cell_type": "code",
   "execution_count": 45,
   "id": "ac4c9506",
   "metadata": {},
   "outputs": [
    {
     "name": "stdout",
     "output_type": "stream",
     "text": [
      "<class 'pandas.core.frame.DataFrame'>\n",
      "RangeIndex: 204 entries, 0 to 203\n",
      "Data columns (total 3 columns):\n",
      " #   Column    Non-Null Count  Dtype  \n",
      "---  ------    --------------  -----  \n",
      " 0   Rank      204 non-null    int64  \n",
      " 1   Country   204 non-null    object \n",
      " 2   % of GDP  204 non-null    float64\n",
      "dtypes: float64(1), int64(1), object(1)\n",
      "memory usage: 4.9+ KB\n"
     ]
    }
   ],
   "source": [
    "forestDF.info()"
   ]
  },
  {
   "cell_type": "code",
   "execution_count": 46,
   "id": "37962dc7",
   "metadata": {},
   "outputs": [
    {
     "data": {
      "text/plain": [
       "Index(['rank', 'country', '% of gdp'], dtype='object')"
      ]
     },
     "execution_count": 46,
     "metadata": {},
     "output_type": "execute_result"
    }
   ],
   "source": [
    "forestDF.columns.str.lower()"
   ]
  },
  {
   "cell_type": "code",
   "execution_count": 47,
   "id": "6903bee1",
   "metadata": {},
   "outputs": [
    {
     "data": {
      "text/plain": [
       "Index(['RANK', 'COUNTRY', '% OF GDP'], dtype='object')"
      ]
     },
     "execution_count": 47,
     "metadata": {},
     "output_type": "execute_result"
    }
   ],
   "source": [
    "forestDF.columns.str.upper()"
   ]
  },
  {
   "cell_type": "code",
   "execution_count": 48,
   "id": "ab4887b7",
   "metadata": {},
   "outputs": [],
   "source": [
    "# I do not think I need to format my columns... if anything, I would like to rename % of GDP"
   ]
  },
  {
   "cell_type": "code",
   "execution_count": 49,
   "id": "f784b991",
   "metadata": {},
   "outputs": [
    {
     "name": "stdout",
     "output_type": "stream",
     "text": [
      "<class 'pandas.core.frame.DataFrame'>\n",
      "RangeIndex: 204 entries, 0 to 203\n",
      "Data columns (total 3 columns):\n",
      " #   Column    Non-Null Count  Dtype  \n",
      "---  ------    --------------  -----  \n",
      " 0   Rank      204 non-null    int64  \n",
      " 1   Country   204 non-null    object \n",
      " 2   % of GDP  204 non-null    float64\n",
      "dtypes: float64(1), int64(1), object(1)\n",
      "memory usage: 4.9+ KB\n"
     ]
    }
   ],
   "source": [
    "forestDF.to_csv(\"forestindex.csv\",index=False)\n",
    "forestcsv=pd.read_csv('forestindex.csv')\n",
    "forestcsv.info()"
   ]
  },
  {
   "cell_type": "code",
   "execution_count": 50,
   "id": "5eeed18b",
   "metadata": {},
   "outputs": [
    {
     "name": "stdout",
     "output_type": "stream",
     "text": [
      "<class 'pandas.core.frame.DataFrame'>\n",
      "RangeIndex: 204 entries, 0 to 203\n",
      "Data columns (total 3 columns):\n",
      " #   Column    Non-Null Count  Dtype  \n",
      "---  ------    --------------  -----  \n",
      " 0   Rank      204 non-null    int64  \n",
      " 1   Country   204 non-null    object \n",
      " 2   % of GDP  204 non-null    float64\n",
      "dtypes: float64(1), int64(1), object(1)\n",
      "memory usage: 4.9+ KB\n"
     ]
    }
   ],
   "source": [
    "forestDF.to_pickle(\"forestindex.pkl\")\n",
    "forestpkl=pd.read_pickle('forestindex.pkl')\n",
    "forestpkl.info()"
   ]
  },
  {
   "cell_type": "code",
   "execution_count": 51,
   "id": "5a601cad",
   "metadata": {},
   "outputs": [],
   "source": [
    "# Why are they identical?"
   ]
  },
  {
   "cell_type": "code",
   "execution_count": null,
   "id": "11d7dcf2",
   "metadata": {},
   "outputs": [],
   "source": []
  },
  {
   "cell_type": "code",
   "execution_count": 52,
   "id": "2f0c3aab",
   "metadata": {},
   "outputs": [],
   "source": [
    "# 2 Revenue from Coal Resources"
   ]
  },
  {
   "cell_type": "code",
   "execution_count": 53,
   "id": "9f15e976",
   "metadata": {
    "scrolled": false
   },
   "outputs": [
    {
     "data": {
      "text/html": [
       "\n",
       "        <iframe\n",
       "            width=\"690\"\n",
       "            height=\"12486\"\n",
       "            src=\"https://www.cia.gov/the-world-factbook/field/revenue-from-coal/country-comparison\"\n",
       "            frameborder=\"0\"\n",
       "            allowfullscreen\n",
       "            \n",
       "        ></iframe>\n",
       "        "
      ],
      "text/plain": [
       "<IPython.lib.display.IFrame at 0x111bcbfd0>"
      ]
     },
     "execution_count": 53,
     "metadata": {},
     "output_type": "execute_result"
    }
   ],
   "source": [
    "from IPython.display import IFrame\n",
    "Coal=\"https://www.cia.gov/the-world-factbook/field/revenue-from-coal/country-comparison\"\n",
    "IFrame(Coal, width=690, height=12486)"
   ]
  },
  {
   "cell_type": "code",
   "execution_count": 54,
   "id": "e595c5ce",
   "metadata": {},
   "outputs": [],
   "source": [
    "coalTable=pd.read_html(Coal,\n",
    "                        header=0,\n",
    "                        flavor='bs4',\n",
    "                        attrs={'content-table table-auto'})"
   ]
  },
  {
   "cell_type": "code",
   "execution_count": 55,
   "id": "ac399240",
   "metadata": {},
   "outputs": [
    {
     "data": {
      "text/html": [
       "<div>\n",
       "<style scoped>\n",
       "    .dataframe tbody tr th:only-of-type {\n",
       "        vertical-align: middle;\n",
       "    }\n",
       "\n",
       "    .dataframe tbody tr th {\n",
       "        vertical-align: top;\n",
       "    }\n",
       "\n",
       "    .dataframe thead th {\n",
       "        text-align: right;\n",
       "    }\n",
       "</style>\n",
       "<table border=\"1\" class=\"dataframe\">\n",
       "  <thead>\n",
       "    <tr style=\"text-align: right;\">\n",
       "      <th></th>\n",
       "      <th>Rank</th>\n",
       "      <th>Country</th>\n",
       "      <th>% of GDP</th>\n",
       "      <th>Date of Information</th>\n",
       "    </tr>\n",
       "  </thead>\n",
       "  <tbody>\n",
       "    <tr>\n",
       "      <th>0</th>\n",
       "      <td>1</td>\n",
       "      <td>Mongolia</td>\n",
       "      <td>8.62</td>\n",
       "      <td>2018 est.</td>\n",
       "    </tr>\n",
       "    <tr>\n",
       "      <th>1</th>\n",
       "      <td>2</td>\n",
       "      <td>Mozambique</td>\n",
       "      <td>4.17</td>\n",
       "      <td>2018 est.</td>\n",
       "    </tr>\n",
       "    <tr>\n",
       "      <th>2</th>\n",
       "      <td>3</td>\n",
       "      <td>South Africa</td>\n",
       "      <td>2.40</td>\n",
       "      <td>2018 est.</td>\n",
       "    </tr>\n",
       "    <tr>\n",
       "      <th>3</th>\n",
       "      <td>4</td>\n",
       "      <td>India</td>\n",
       "      <td>1.15</td>\n",
       "      <td>2018 est.</td>\n",
       "    </tr>\n",
       "    <tr>\n",
       "      <th>4</th>\n",
       "      <td>5</td>\n",
       "      <td>Indonesia</td>\n",
       "      <td>1.06</td>\n",
       "      <td>2018 est.</td>\n",
       "    </tr>\n",
       "    <tr>\n",
       "      <th>...</th>\n",
       "      <td>...</td>\n",
       "      <td>...</td>\n",
       "      <td>...</td>\n",
       "      <td>...</td>\n",
       "    </tr>\n",
       "    <tr>\n",
       "      <th>181</th>\n",
       "      <td>182</td>\n",
       "      <td>United Arab Emirates</td>\n",
       "      <td>0.00</td>\n",
       "      <td>2018 est.</td>\n",
       "    </tr>\n",
       "    <tr>\n",
       "      <th>182</th>\n",
       "      <td>183</td>\n",
       "      <td>United Kingdom</td>\n",
       "      <td>0.00</td>\n",
       "      <td>2018 est.</td>\n",
       "    </tr>\n",
       "    <tr>\n",
       "      <th>183</th>\n",
       "      <td>184</td>\n",
       "      <td>Uruguay</td>\n",
       "      <td>0.00</td>\n",
       "      <td>2018 est.</td>\n",
       "    </tr>\n",
       "    <tr>\n",
       "      <th>184</th>\n",
       "      <td>185</td>\n",
       "      <td>Vanuatu</td>\n",
       "      <td>0.00</td>\n",
       "      <td>2018 est.</td>\n",
       "    </tr>\n",
       "    <tr>\n",
       "      <th>185</th>\n",
       "      <td>186</td>\n",
       "      <td>Yemen</td>\n",
       "      <td>0.00</td>\n",
       "      <td>2018 est.</td>\n",
       "    </tr>\n",
       "  </tbody>\n",
       "</table>\n",
       "<p>186 rows × 4 columns</p>\n",
       "</div>"
      ],
      "text/plain": [
       "     Rank               Country  % of GDP Date of Information\n",
       "0       1              Mongolia      8.62           2018 est.\n",
       "1       2            Mozambique      4.17           2018 est.\n",
       "2       3          South Africa      2.40           2018 est.\n",
       "3       4                 India      1.15           2018 est.\n",
       "4       5             Indonesia      1.06           2018 est.\n",
       "..    ...                   ...       ...                 ...\n",
       "181   182  United Arab Emirates      0.00           2018 est.\n",
       "182   183        United Kingdom      0.00           2018 est.\n",
       "183   184               Uruguay      0.00           2018 est.\n",
       "184   185               Vanuatu      0.00           2018 est.\n",
       "185   186                 Yemen      0.00           2018 est.\n",
       "\n",
       "[186 rows x 4 columns]"
      ]
     },
     "execution_count": 55,
     "metadata": {},
     "output_type": "execute_result"
    }
   ],
   "source": [
    "coalTable[0]"
   ]
  },
  {
   "cell_type": "code",
   "execution_count": 56,
   "id": "94d96add",
   "metadata": {},
   "outputs": [],
   "source": [
    "DFcoal=coalTable[0].copy()"
   ]
  },
  {
   "cell_type": "code",
   "execution_count": 57,
   "id": "be4e4195",
   "metadata": {},
   "outputs": [
    {
     "data": {
      "text/plain": [
       "Index(['Rank', 'Country', '% of GDP', 'Date of Information'], dtype='object')"
      ]
     },
     "execution_count": 57,
     "metadata": {},
     "output_type": "execute_result"
    }
   ],
   "source": [
    "DFcoal.columns"
   ]
  },
  {
   "cell_type": "code",
   "execution_count": 58,
   "id": "91154855",
   "metadata": {
    "scrolled": true
   },
   "outputs": [
    {
     "data": {
      "text/html": [
       "<div>\n",
       "<style scoped>\n",
       "    .dataframe tbody tr th:only-of-type {\n",
       "        vertical-align: middle;\n",
       "    }\n",
       "\n",
       "    .dataframe tbody tr th {\n",
       "        vertical-align: top;\n",
       "    }\n",
       "\n",
       "    .dataframe thead th {\n",
       "        text-align: right;\n",
       "    }\n",
       "</style>\n",
       "<table border=\"1\" class=\"dataframe\">\n",
       "  <thead>\n",
       "    <tr style=\"text-align: right;\">\n",
       "      <th></th>\n",
       "      <th>Rank</th>\n",
       "      <th>Country</th>\n",
       "      <th>% of GDP</th>\n",
       "    </tr>\n",
       "  </thead>\n",
       "  <tbody>\n",
       "    <tr>\n",
       "      <th>0</th>\n",
       "      <td>1</td>\n",
       "      <td>Mongolia</td>\n",
       "      <td>8.62</td>\n",
       "    </tr>\n",
       "    <tr>\n",
       "      <th>1</th>\n",
       "      <td>2</td>\n",
       "      <td>Mozambique</td>\n",
       "      <td>4.17</td>\n",
       "    </tr>\n",
       "    <tr>\n",
       "      <th>2</th>\n",
       "      <td>3</td>\n",
       "      <td>South Africa</td>\n",
       "      <td>2.40</td>\n",
       "    </tr>\n",
       "    <tr>\n",
       "      <th>3</th>\n",
       "      <td>4</td>\n",
       "      <td>India</td>\n",
       "      <td>1.15</td>\n",
       "    </tr>\n",
       "    <tr>\n",
       "      <th>4</th>\n",
       "      <td>5</td>\n",
       "      <td>Indonesia</td>\n",
       "      <td>1.06</td>\n",
       "    </tr>\n",
       "    <tr>\n",
       "      <th>...</th>\n",
       "      <td>...</td>\n",
       "      <td>...</td>\n",
       "      <td>...</td>\n",
       "    </tr>\n",
       "    <tr>\n",
       "      <th>181</th>\n",
       "      <td>182</td>\n",
       "      <td>United Arab Emirates</td>\n",
       "      <td>0.00</td>\n",
       "    </tr>\n",
       "    <tr>\n",
       "      <th>182</th>\n",
       "      <td>183</td>\n",
       "      <td>United Kingdom</td>\n",
       "      <td>0.00</td>\n",
       "    </tr>\n",
       "    <tr>\n",
       "      <th>183</th>\n",
       "      <td>184</td>\n",
       "      <td>Uruguay</td>\n",
       "      <td>0.00</td>\n",
       "    </tr>\n",
       "    <tr>\n",
       "      <th>184</th>\n",
       "      <td>185</td>\n",
       "      <td>Vanuatu</td>\n",
       "      <td>0.00</td>\n",
       "    </tr>\n",
       "    <tr>\n",
       "      <th>185</th>\n",
       "      <td>186</td>\n",
       "      <td>Yemen</td>\n",
       "      <td>0.00</td>\n",
       "    </tr>\n",
       "  </tbody>\n",
       "</table>\n",
       "<p>186 rows × 3 columns</p>\n",
       "</div>"
      ],
      "text/plain": [
       "     Rank               Country  % of GDP\n",
       "0       1              Mongolia      8.62\n",
       "1       2            Mozambique      4.17\n",
       "2       3          South Africa      2.40\n",
       "3       4                 India      1.15\n",
       "4       5             Indonesia      1.06\n",
       "..    ...                   ...       ...\n",
       "181   182  United Arab Emirates      0.00\n",
       "182   183        United Kingdom      0.00\n",
       "183   184               Uruguay      0.00\n",
       "184   185               Vanuatu      0.00\n",
       "185   186                 Yemen      0.00\n",
       "\n",
       "[186 rows x 3 columns]"
      ]
     },
     "execution_count": 58,
     "metadata": {},
     "output_type": "execute_result"
    }
   ],
   "source": [
    "byecoal=[3]\n",
    "DFcoal.drop(columns=DFcoal.columns[byecoal],inplace=True)\n",
    "DFcoal"
   ]
  },
  {
   "cell_type": "code",
   "execution_count": 59,
   "id": "0e47bc76",
   "metadata": {},
   "outputs": [],
   "source": [
    "DFcoal.rename(columns = {'% of GDP':'GDP'}, inplace = True)"
   ]
  },
  {
   "cell_type": "code",
   "execution_count": 60,
   "id": "324ba1c6",
   "metadata": {},
   "outputs": [
    {
     "data": {
      "text/plain": [
       "0                  Mongolia\n",
       "1                Mozambique\n",
       "2              South Africa\n",
       "3                     India\n",
       "4                 Indonesia\n",
       "               ...         \n",
       "181    United Arab Emirates\n",
       "182          United Kingdom\n",
       "183                 Uruguay\n",
       "184                 Vanuatu\n",
       "185                   Yemen\n",
       "Name: Country, Length: 186, dtype: object"
      ]
     },
     "execution_count": 60,
     "metadata": {},
     "output_type": "execute_result"
    }
   ],
   "source": [
    "DFcoal.iloc[:,1].apply(stripSeveral)"
   ]
  },
  {
   "cell_type": "code",
   "execution_count": 61,
   "id": "b936f36a",
   "metadata": {},
   "outputs": [
    {
     "data": {
      "text/plain": [
       "0                  Mongolia\n",
       "1                Mozambique\n",
       "2              South Africa\n",
       "3                     India\n",
       "4                 Indonesia\n",
       "               ...         \n",
       "181    United Arab Emirates\n",
       "182          United Kingdom\n",
       "183                 Uruguay\n",
       "184                 Vanuatu\n",
       "185                   Yemen\n",
       "Name: Country, Length: 186, dtype: object"
      ]
     },
     "execution_count": 61,
     "metadata": {},
     "output_type": "execute_result"
    }
   ],
   "source": [
    "DFcoal.iloc[:,1]"
   ]
  },
  {
   "cell_type": "code",
   "execution_count": 62,
   "id": "18a09422",
   "metadata": {},
   "outputs": [
    {
     "data": {
      "text/html": [
       "<div>\n",
       "<style scoped>\n",
       "    .dataframe tbody tr th:only-of-type {\n",
       "        vertical-align: middle;\n",
       "    }\n",
       "\n",
       "    .dataframe tbody tr th {\n",
       "        vertical-align: top;\n",
       "    }\n",
       "\n",
       "    .dataframe thead th {\n",
       "        text-align: right;\n",
       "    }\n",
       "</style>\n",
       "<table border=\"1\" class=\"dataframe\">\n",
       "  <thead>\n",
       "    <tr style=\"text-align: right;\">\n",
       "      <th></th>\n",
       "      <th>Rank</th>\n",
       "      <th>Country</th>\n",
       "      <th>GDP</th>\n",
       "    </tr>\n",
       "  </thead>\n",
       "  <tbody>\n",
       "    <tr>\n",
       "      <th>0</th>\n",
       "      <td>1</td>\n",
       "      <td>Mongolia</td>\n",
       "      <td>8.62</td>\n",
       "    </tr>\n",
       "    <tr>\n",
       "      <th>1</th>\n",
       "      <td>2</td>\n",
       "      <td>Mozambique</td>\n",
       "      <td>4.17</td>\n",
       "    </tr>\n",
       "    <tr>\n",
       "      <th>2</th>\n",
       "      <td>3</td>\n",
       "      <td>South Africa</td>\n",
       "      <td>2.40</td>\n",
       "    </tr>\n",
       "    <tr>\n",
       "      <th>3</th>\n",
       "      <td>4</td>\n",
       "      <td>India</td>\n",
       "      <td>1.15</td>\n",
       "    </tr>\n",
       "    <tr>\n",
       "      <th>4</th>\n",
       "      <td>5</td>\n",
       "      <td>Indonesia</td>\n",
       "      <td>1.06</td>\n",
       "    </tr>\n",
       "    <tr>\n",
       "      <th>...</th>\n",
       "      <td>...</td>\n",
       "      <td>...</td>\n",
       "      <td>...</td>\n",
       "    </tr>\n",
       "    <tr>\n",
       "      <th>181</th>\n",
       "      <td>182</td>\n",
       "      <td>United Arab Emirates</td>\n",
       "      <td>0.00</td>\n",
       "    </tr>\n",
       "    <tr>\n",
       "      <th>182</th>\n",
       "      <td>183</td>\n",
       "      <td>United Kingdom</td>\n",
       "      <td>0.00</td>\n",
       "    </tr>\n",
       "    <tr>\n",
       "      <th>183</th>\n",
       "      <td>184</td>\n",
       "      <td>Uruguay</td>\n",
       "      <td>0.00</td>\n",
       "    </tr>\n",
       "    <tr>\n",
       "      <th>184</th>\n",
       "      <td>185</td>\n",
       "      <td>Vanuatu</td>\n",
       "      <td>0.00</td>\n",
       "    </tr>\n",
       "    <tr>\n",
       "      <th>185</th>\n",
       "      <td>186</td>\n",
       "      <td>Yemen</td>\n",
       "      <td>0.00</td>\n",
       "    </tr>\n",
       "  </tbody>\n",
       "</table>\n",
       "<p>186 rows × 3 columns</p>\n",
       "</div>"
      ],
      "text/plain": [
       "     Rank               Country   GDP\n",
       "0       1              Mongolia  8.62\n",
       "1       2            Mozambique  4.17\n",
       "2       3          South Africa  2.40\n",
       "3       4                 India  1.15\n",
       "4       5             Indonesia  1.06\n",
       "..    ...                   ...   ...\n",
       "181   182  United Arab Emirates  0.00\n",
       "182   183        United Kingdom  0.00\n",
       "183   184               Uruguay  0.00\n",
       "184   185               Vanuatu  0.00\n",
       "185   186                 Yemen  0.00\n",
       "\n",
       "[186 rows x 3 columns]"
      ]
     },
     "execution_count": 62,
     "metadata": {},
     "output_type": "execute_result"
    }
   ],
   "source": [
    "DFcoal.iloc[:,:3]"
   ]
  },
  {
   "cell_type": "code",
   "execution_count": 63,
   "id": "3c54e2bc",
   "metadata": {},
   "outputs": [
    {
     "data": {
      "text/plain": [
       "Rank  Country   GDP \n",
       "1     Mongolia  8.62    1\n",
       "128   Liberia   0.00    1\n",
       "119   Japan     0.00    1\n",
       "120   Jordan    0.00    1\n",
       "121   Kenya     0.00    1\n",
       "                       ..\n",
       "65    Belgium   0.00    1\n",
       "66    Belize    0.00    1\n",
       "67    Benin     0.00    1\n",
       "68    Bhutan    0.00    1\n",
       "186   Yemen     0.00    1\n",
       "Length: 186, dtype: int64"
      ]
     },
     "execution_count": 63,
     "metadata": {},
     "output_type": "execute_result"
    }
   ],
   "source": [
    "FQcoal=DFcoal.value_counts()\n",
    "FQcoal"
   ]
  },
  {
   "cell_type": "code",
   "execution_count": 64,
   "id": "47e8857b",
   "metadata": {},
   "outputs": [
    {
     "data": {
      "text/plain": [
       "0      8.62\n",
       "1      4.17\n",
       "2      2.40\n",
       "3      1.15\n",
       "4      1.06\n",
       "       ... \n",
       "181    0.00\n",
       "182    0.00\n",
       "183    0.00\n",
       "184    0.00\n",
       "185    0.00\n",
       "Name: GDP, Length: 186, dtype: float64"
      ]
     },
     "execution_count": 64,
     "metadata": {},
     "output_type": "execute_result"
    }
   ],
   "source": [
    "DFcoal.iloc[:,2]"
   ]
  },
  {
   "cell_type": "code",
   "execution_count": 65,
   "id": "b0a2f3ae",
   "metadata": {},
   "outputs": [
    {
     "name": "stdout",
     "output_type": "stream",
     "text": [
      "<class 'pandas.core.frame.DataFrame'>\n",
      "RangeIndex: 186 entries, 0 to 185\n",
      "Data columns (total 3 columns):\n",
      " #   Column   Non-Null Count  Dtype  \n",
      "---  ------   --------------  -----  \n",
      " 0   Rank     186 non-null    int64  \n",
      " 1   Country  186 non-null    object \n",
      " 2   GDP      186 non-null    float64\n",
      "dtypes: float64(1), int64(1), object(1)\n",
      "memory usage: 4.5+ KB\n"
     ]
    }
   ],
   "source": [
    "DFcoal.info()"
   ]
  },
  {
   "cell_type": "code",
   "execution_count": 66,
   "id": "450b9c91",
   "metadata": {},
   "outputs": [
    {
     "data": {
      "text/plain": [
       "Index(['RANK', 'COUNTRY', 'GDP'], dtype='object')"
      ]
     },
     "execution_count": 66,
     "metadata": {},
     "output_type": "execute_result"
    }
   ],
   "source": [
    "DFcoal.columns.str.upper()"
   ]
  },
  {
   "cell_type": "code",
   "execution_count": 67,
   "id": "36e3a538",
   "metadata": {},
   "outputs": [],
   "source": [
    "DFcoal.to_csv(\"CoalRev.csv\",index=False)"
   ]
  },
  {
   "cell_type": "code",
   "execution_count": null,
   "id": "a7466871",
   "metadata": {},
   "outputs": [],
   "source": []
  },
  {
   "cell_type": "code",
   "execution_count": 68,
   "id": "1ddcb817",
   "metadata": {},
   "outputs": [],
   "source": [
    "# 3 Energy Consumption per Capita"
   ]
  },
  {
   "cell_type": "code",
   "execution_count": 69,
   "id": "09f34ef3",
   "metadata": {},
   "outputs": [
    {
     "data": {
      "text/html": [
       "\n",
       "        <iframe\n",
       "            width=\"690\"\n",
       "            height=\"13006\"\n",
       "            src=\"https://www.cia.gov/the-world-factbook/field/energy-consumption-per-capita/country-comparison\"\n",
       "            frameborder=\"0\"\n",
       "            allowfullscreen\n",
       "            \n",
       "        ></iframe>\n",
       "        "
      ],
      "text/plain": [
       "<IPython.lib.display.IFrame at 0x111e0c400>"
      ]
     },
     "execution_count": 69,
     "metadata": {},
     "output_type": "execute_result"
    }
   ],
   "source": [
    "from IPython.display import IFrame\n",
    "energy=\"https://www.cia.gov/the-world-factbook/field/energy-consumption-per-capita/country-comparison\"\n",
    "IFrame(energy, width=690, height=13006)"
   ]
  },
  {
   "cell_type": "code",
   "execution_count": 70,
   "id": "4cf4f83a",
   "metadata": {},
   "outputs": [],
   "source": [
    "energyTable=pd.read_html(energy,\n",
    "                        header=0,\n",
    "                        flavor='bs4',\n",
    "                        attrs={'content-table table-auto'})"
   ]
  },
  {
   "cell_type": "code",
   "execution_count": 71,
   "id": "fb62ed7d",
   "metadata": {},
   "outputs": [
    {
     "data": {
      "text/html": [
       "<div>\n",
       "<style scoped>\n",
       "    .dataframe tbody tr th:only-of-type {\n",
       "        vertical-align: middle;\n",
       "    }\n",
       "\n",
       "    .dataframe tbody tr th {\n",
       "        vertical-align: top;\n",
       "    }\n",
       "\n",
       "    .dataframe thead th {\n",
       "        text-align: right;\n",
       "    }\n",
       "</style>\n",
       "<table border=\"1\" class=\"dataframe\">\n",
       "  <thead>\n",
       "    <tr style=\"text-align: right;\">\n",
       "      <th></th>\n",
       "      <th>Rank</th>\n",
       "      <th>Country</th>\n",
       "      <th>Btu/person</th>\n",
       "      <th>Date of Information</th>\n",
       "    </tr>\n",
       "  </thead>\n",
       "  <tbody>\n",
       "    <tr>\n",
       "      <th>0</th>\n",
       "      <td>1</td>\n",
       "      <td>Qatar</td>\n",
       "      <td>723582000.0</td>\n",
       "      <td>2019 est.</td>\n",
       "    </tr>\n",
       "    <tr>\n",
       "      <th>1</th>\n",
       "      <td>2</td>\n",
       "      <td>Singapore</td>\n",
       "      <td>639951000.0</td>\n",
       "      <td>2019 est.</td>\n",
       "    </tr>\n",
       "    <tr>\n",
       "      <th>2</th>\n",
       "      <td>3</td>\n",
       "      <td>Bahrain</td>\n",
       "      <td>547976000.0</td>\n",
       "      <td>2019 est.</td>\n",
       "    </tr>\n",
       "    <tr>\n",
       "      <th>3</th>\n",
       "      <td>4</td>\n",
       "      <td>United Arab Emirates</td>\n",
       "      <td>471788000.0</td>\n",
       "      <td>2019 est.</td>\n",
       "    </tr>\n",
       "    <tr>\n",
       "      <th>4</th>\n",
       "      <td>5</td>\n",
       "      <td>Brunei</td>\n",
       "      <td>415184000.0</td>\n",
       "      <td>2019 est.</td>\n",
       "    </tr>\n",
       "    <tr>\n",
       "      <th>...</th>\n",
       "      <td>...</td>\n",
       "      <td>...</td>\n",
       "      <td>...</td>\n",
       "      <td>...</td>\n",
       "    </tr>\n",
       "    <tr>\n",
       "      <th>207</th>\n",
       "      <td>208</td>\n",
       "      <td>Saint Helena, Ascension, and Tristan da Cunha</td>\n",
       "      <td>0.0</td>\n",
       "      <td>2019 est.</td>\n",
       "    </tr>\n",
       "    <tr>\n",
       "      <th>208</th>\n",
       "      <td>209</td>\n",
       "      <td>Saint Pierre and Miquelon</td>\n",
       "      <td>0.0</td>\n",
       "      <td>2019 est.</td>\n",
       "    </tr>\n",
       "    <tr>\n",
       "      <th>209</th>\n",
       "      <td>210</td>\n",
       "      <td>Turks and Caicos Islands</td>\n",
       "      <td>0.0</td>\n",
       "      <td>2019 est.</td>\n",
       "    </tr>\n",
       "    <tr>\n",
       "      <th>210</th>\n",
       "      <td>211</td>\n",
       "      <td>Tuvalu</td>\n",
       "      <td>0.0</td>\n",
       "      <td>2019 est.</td>\n",
       "    </tr>\n",
       "    <tr>\n",
       "      <th>211</th>\n",
       "      <td>212</td>\n",
       "      <td>Wake Island</td>\n",
       "      <td>0.0</td>\n",
       "      <td>2019 est.</td>\n",
       "    </tr>\n",
       "  </tbody>\n",
       "</table>\n",
       "<p>212 rows × 4 columns</p>\n",
       "</div>"
      ],
      "text/plain": [
       "     Rank                                        Country   Btu/person  \\\n",
       "0       1                                          Qatar  723582000.0   \n",
       "1       2                                      Singapore  639951000.0   \n",
       "2       3                                        Bahrain  547976000.0   \n",
       "3       4                           United Arab Emirates  471788000.0   \n",
       "4       5                                         Brunei  415184000.0   \n",
       "..    ...                                            ...          ...   \n",
       "207   208  Saint Helena, Ascension, and Tristan da Cunha          0.0   \n",
       "208   209                      Saint Pierre and Miquelon          0.0   \n",
       "209   210                       Turks and Caicos Islands          0.0   \n",
       "210   211                                         Tuvalu          0.0   \n",
       "211   212                                    Wake Island          0.0   \n",
       "\n",
       "    Date of Information  \n",
       "0             2019 est.  \n",
       "1             2019 est.  \n",
       "2             2019 est.  \n",
       "3             2019 est.  \n",
       "4             2019 est.  \n",
       "..                  ...  \n",
       "207           2019 est.  \n",
       "208           2019 est.  \n",
       "209           2019 est.  \n",
       "210           2019 est.  \n",
       "211           2019 est.  \n",
       "\n",
       "[212 rows x 4 columns]"
      ]
     },
     "execution_count": 71,
     "metadata": {},
     "output_type": "execute_result"
    }
   ],
   "source": [
    "energyTable[0]"
   ]
  },
  {
   "cell_type": "code",
   "execution_count": 72,
   "id": "231b2235",
   "metadata": {},
   "outputs": [],
   "source": [
    "DFenergy=energyTable[0].copy()"
   ]
  },
  {
   "cell_type": "code",
   "execution_count": 73,
   "id": "33b198e5",
   "metadata": {},
   "outputs": [],
   "source": [
    "DFenergy.rename(columns = {'BTU per Person':'BTU_person'}, inplace = True)"
   ]
  },
  {
   "cell_type": "code",
   "execution_count": 74,
   "id": "da3af569",
   "metadata": {},
   "outputs": [
    {
     "data": {
      "text/html": [
       "<div>\n",
       "<style scoped>\n",
       "    .dataframe tbody tr th:only-of-type {\n",
       "        vertical-align: middle;\n",
       "    }\n",
       "\n",
       "    .dataframe tbody tr th {\n",
       "        vertical-align: top;\n",
       "    }\n",
       "\n",
       "    .dataframe thead th {\n",
       "        text-align: right;\n",
       "    }\n",
       "</style>\n",
       "<table border=\"1\" class=\"dataframe\">\n",
       "  <thead>\n",
       "    <tr style=\"text-align: right;\">\n",
       "      <th></th>\n",
       "      <th>Rank</th>\n",
       "      <th>Country</th>\n",
       "      <th>Btu/person</th>\n",
       "      <th>Date of Information</th>\n",
       "    </tr>\n",
       "  </thead>\n",
       "  <tbody>\n",
       "    <tr>\n",
       "      <th>0</th>\n",
       "      <td>1</td>\n",
       "      <td>Qatar</td>\n",
       "      <td>723582000.0</td>\n",
       "      <td>2019 est.</td>\n",
       "    </tr>\n",
       "    <tr>\n",
       "      <th>1</th>\n",
       "      <td>2</td>\n",
       "      <td>Singapore</td>\n",
       "      <td>639951000.0</td>\n",
       "      <td>2019 est.</td>\n",
       "    </tr>\n",
       "    <tr>\n",
       "      <th>2</th>\n",
       "      <td>3</td>\n",
       "      <td>Bahrain</td>\n",
       "      <td>547976000.0</td>\n",
       "      <td>2019 est.</td>\n",
       "    </tr>\n",
       "    <tr>\n",
       "      <th>3</th>\n",
       "      <td>4</td>\n",
       "      <td>United Arab Emirates</td>\n",
       "      <td>471788000.0</td>\n",
       "      <td>2019 est.</td>\n",
       "    </tr>\n",
       "    <tr>\n",
       "      <th>4</th>\n",
       "      <td>5</td>\n",
       "      <td>Brunei</td>\n",
       "      <td>415184000.0</td>\n",
       "      <td>2019 est.</td>\n",
       "    </tr>\n",
       "    <tr>\n",
       "      <th>...</th>\n",
       "      <td>...</td>\n",
       "      <td>...</td>\n",
       "      <td>...</td>\n",
       "      <td>...</td>\n",
       "    </tr>\n",
       "    <tr>\n",
       "      <th>207</th>\n",
       "      <td>208</td>\n",
       "      <td>Saint Helena, Ascension, and Tristan da Cunha</td>\n",
       "      <td>0.0</td>\n",
       "      <td>2019 est.</td>\n",
       "    </tr>\n",
       "    <tr>\n",
       "      <th>208</th>\n",
       "      <td>209</td>\n",
       "      <td>Saint Pierre and Miquelon</td>\n",
       "      <td>0.0</td>\n",
       "      <td>2019 est.</td>\n",
       "    </tr>\n",
       "    <tr>\n",
       "      <th>209</th>\n",
       "      <td>210</td>\n",
       "      <td>Turks and Caicos Islands</td>\n",
       "      <td>0.0</td>\n",
       "      <td>2019 est.</td>\n",
       "    </tr>\n",
       "    <tr>\n",
       "      <th>210</th>\n",
       "      <td>211</td>\n",
       "      <td>Tuvalu</td>\n",
       "      <td>0.0</td>\n",
       "      <td>2019 est.</td>\n",
       "    </tr>\n",
       "    <tr>\n",
       "      <th>211</th>\n",
       "      <td>212</td>\n",
       "      <td>Wake Island</td>\n",
       "      <td>0.0</td>\n",
       "      <td>2019 est.</td>\n",
       "    </tr>\n",
       "  </tbody>\n",
       "</table>\n",
       "<p>212 rows × 4 columns</p>\n",
       "</div>"
      ],
      "text/plain": [
       "     Rank                                        Country   Btu/person  \\\n",
       "0       1                                          Qatar  723582000.0   \n",
       "1       2                                      Singapore  639951000.0   \n",
       "2       3                                        Bahrain  547976000.0   \n",
       "3       4                           United Arab Emirates  471788000.0   \n",
       "4       5                                         Brunei  415184000.0   \n",
       "..    ...                                            ...          ...   \n",
       "207   208  Saint Helena, Ascension, and Tristan da Cunha          0.0   \n",
       "208   209                      Saint Pierre and Miquelon          0.0   \n",
       "209   210                       Turks and Caicos Islands          0.0   \n",
       "210   211                                         Tuvalu          0.0   \n",
       "211   212                                    Wake Island          0.0   \n",
       "\n",
       "    Date of Information  \n",
       "0             2019 est.  \n",
       "1             2019 est.  \n",
       "2             2019 est.  \n",
       "3             2019 est.  \n",
       "4             2019 est.  \n",
       "..                  ...  \n",
       "207           2019 est.  \n",
       "208           2019 est.  \n",
       "209           2019 est.  \n",
       "210           2019 est.  \n",
       "211           2019 est.  \n",
       "\n",
       "[212 rows x 4 columns]"
      ]
     },
     "execution_count": 74,
     "metadata": {},
     "output_type": "execute_result"
    }
   ],
   "source": [
    "DFenergy"
   ]
  },
  {
   "cell_type": "code",
   "execution_count": 75,
   "id": "2951d486",
   "metadata": {},
   "outputs": [
    {
     "data": {
      "text/html": [
       "<div>\n",
       "<style scoped>\n",
       "    .dataframe tbody tr th:only-of-type {\n",
       "        vertical-align: middle;\n",
       "    }\n",
       "\n",
       "    .dataframe tbody tr th {\n",
       "        vertical-align: top;\n",
       "    }\n",
       "\n",
       "    .dataframe thead th {\n",
       "        text-align: right;\n",
       "    }\n",
       "</style>\n",
       "<table border=\"1\" class=\"dataframe\">\n",
       "  <thead>\n",
       "    <tr style=\"text-align: right;\">\n",
       "      <th></th>\n",
       "      <th>Rank</th>\n",
       "      <th>Country</th>\n",
       "      <th>Btu/person</th>\n",
       "    </tr>\n",
       "  </thead>\n",
       "  <tbody>\n",
       "    <tr>\n",
       "      <th>0</th>\n",
       "      <td>1</td>\n",
       "      <td>Qatar</td>\n",
       "      <td>723582000.0</td>\n",
       "    </tr>\n",
       "    <tr>\n",
       "      <th>1</th>\n",
       "      <td>2</td>\n",
       "      <td>Singapore</td>\n",
       "      <td>639951000.0</td>\n",
       "    </tr>\n",
       "    <tr>\n",
       "      <th>2</th>\n",
       "      <td>3</td>\n",
       "      <td>Bahrain</td>\n",
       "      <td>547976000.0</td>\n",
       "    </tr>\n",
       "    <tr>\n",
       "      <th>3</th>\n",
       "      <td>4</td>\n",
       "      <td>United Arab Emirates</td>\n",
       "      <td>471788000.0</td>\n",
       "    </tr>\n",
       "    <tr>\n",
       "      <th>4</th>\n",
       "      <td>5</td>\n",
       "      <td>Brunei</td>\n",
       "      <td>415184000.0</td>\n",
       "    </tr>\n",
       "    <tr>\n",
       "      <th>...</th>\n",
       "      <td>...</td>\n",
       "      <td>...</td>\n",
       "      <td>...</td>\n",
       "    </tr>\n",
       "    <tr>\n",
       "      <th>207</th>\n",
       "      <td>208</td>\n",
       "      <td>Saint Helena, Ascension, and Tristan da Cunha</td>\n",
       "      <td>0.0</td>\n",
       "    </tr>\n",
       "    <tr>\n",
       "      <th>208</th>\n",
       "      <td>209</td>\n",
       "      <td>Saint Pierre and Miquelon</td>\n",
       "      <td>0.0</td>\n",
       "    </tr>\n",
       "    <tr>\n",
       "      <th>209</th>\n",
       "      <td>210</td>\n",
       "      <td>Turks and Caicos Islands</td>\n",
       "      <td>0.0</td>\n",
       "    </tr>\n",
       "    <tr>\n",
       "      <th>210</th>\n",
       "      <td>211</td>\n",
       "      <td>Tuvalu</td>\n",
       "      <td>0.0</td>\n",
       "    </tr>\n",
       "    <tr>\n",
       "      <th>211</th>\n",
       "      <td>212</td>\n",
       "      <td>Wake Island</td>\n",
       "      <td>0.0</td>\n",
       "    </tr>\n",
       "  </tbody>\n",
       "</table>\n",
       "<p>212 rows × 3 columns</p>\n",
       "</div>"
      ],
      "text/plain": [
       "     Rank                                        Country   Btu/person\n",
       "0       1                                          Qatar  723582000.0\n",
       "1       2                                      Singapore  639951000.0\n",
       "2       3                                        Bahrain  547976000.0\n",
       "3       4                           United Arab Emirates  471788000.0\n",
       "4       5                                         Brunei  415184000.0\n",
       "..    ...                                            ...          ...\n",
       "207   208  Saint Helena, Ascension, and Tristan da Cunha          0.0\n",
       "208   209                      Saint Pierre and Miquelon          0.0\n",
       "209   210                       Turks and Caicos Islands          0.0\n",
       "210   211                                         Tuvalu          0.0\n",
       "211   212                                    Wake Island          0.0\n",
       "\n",
       "[212 rows x 3 columns]"
      ]
     },
     "execution_count": 75,
     "metadata": {},
     "output_type": "execute_result"
    }
   ],
   "source": [
    "byeenergy=[3]\n",
    "DFenergy.drop(columns=DFenergy.columns[byeenergy],inplace=True)\n",
    "DFenergy"
   ]
  },
  {
   "cell_type": "code",
   "execution_count": 83,
   "id": "29cef662",
   "metadata": {},
   "outputs": [],
   "source": [
    "DFenergy.rename(columns = {'Btu/person':'Btu'}, inplace = True)"
   ]
  },
  {
   "cell_type": "code",
   "execution_count": 84,
   "id": "35bcc227",
   "metadata": {},
   "outputs": [
    {
     "data": {
      "text/plain": [
       "0                                              Qatar\n",
       "1                                          Singapore\n",
       "2                                            Bahrain\n",
       "3                               United Arab Emirates\n",
       "4                                             Brunei\n",
       "                           ...                      \n",
       "207    Saint Helena, Ascension, and Tristan da Cunha\n",
       "208                        Saint Pierre and Miquelon\n",
       "209                         Turks and Caicos Islands\n",
       "210                                           Tuvalu\n",
       "211                                      Wake Island\n",
       "Name: Country, Length: 212, dtype: object"
      ]
     },
     "execution_count": 84,
     "metadata": {},
     "output_type": "execute_result"
    }
   ],
   "source": [
    "DFenergy.iloc[:,1].apply(stripSeveral)"
   ]
  },
  {
   "cell_type": "code",
   "execution_count": 85,
   "id": "af54b9ef",
   "metadata": {},
   "outputs": [
    {
     "data": {
      "text/plain": [
       "0                                              Qatar\n",
       "1                                          Singapore\n",
       "2                                            Bahrain\n",
       "3                               United Arab Emirates\n",
       "4                                             Brunei\n",
       "                           ...                      \n",
       "207    Saint Helena, Ascension, and Tristan da Cunha\n",
       "208                        Saint Pierre and Miquelon\n",
       "209                         Turks and Caicos Islands\n",
       "210                                           Tuvalu\n",
       "211                                      Wake Island\n",
       "Name: Country, Length: 212, dtype: object"
      ]
     },
     "execution_count": 85,
     "metadata": {},
     "output_type": "execute_result"
    }
   ],
   "source": [
    "DFenergy.iloc[:,1]"
   ]
  },
  {
   "cell_type": "code",
   "execution_count": 86,
   "id": "8a5008c6",
   "metadata": {},
   "outputs": [
    {
     "data": {
      "text/html": [
       "<div>\n",
       "<style scoped>\n",
       "    .dataframe tbody tr th:only-of-type {\n",
       "        vertical-align: middle;\n",
       "    }\n",
       "\n",
       "    .dataframe tbody tr th {\n",
       "        vertical-align: top;\n",
       "    }\n",
       "\n",
       "    .dataframe thead th {\n",
       "        text-align: right;\n",
       "    }\n",
       "</style>\n",
       "<table border=\"1\" class=\"dataframe\">\n",
       "  <thead>\n",
       "    <tr style=\"text-align: right;\">\n",
       "      <th></th>\n",
       "      <th>Rank</th>\n",
       "      <th>Country</th>\n",
       "      <th>Btu</th>\n",
       "    </tr>\n",
       "  </thead>\n",
       "  <tbody>\n",
       "    <tr>\n",
       "      <th>0</th>\n",
       "      <td>1</td>\n",
       "      <td>Qatar</td>\n",
       "      <td>723582000.0</td>\n",
       "    </tr>\n",
       "    <tr>\n",
       "      <th>1</th>\n",
       "      <td>2</td>\n",
       "      <td>Singapore</td>\n",
       "      <td>639951000.0</td>\n",
       "    </tr>\n",
       "    <tr>\n",
       "      <th>2</th>\n",
       "      <td>3</td>\n",
       "      <td>Bahrain</td>\n",
       "      <td>547976000.0</td>\n",
       "    </tr>\n",
       "    <tr>\n",
       "      <th>3</th>\n",
       "      <td>4</td>\n",
       "      <td>United Arab Emirates</td>\n",
       "      <td>471788000.0</td>\n",
       "    </tr>\n",
       "    <tr>\n",
       "      <th>4</th>\n",
       "      <td>5</td>\n",
       "      <td>Brunei</td>\n",
       "      <td>415184000.0</td>\n",
       "    </tr>\n",
       "    <tr>\n",
       "      <th>...</th>\n",
       "      <td>...</td>\n",
       "      <td>...</td>\n",
       "      <td>...</td>\n",
       "    </tr>\n",
       "    <tr>\n",
       "      <th>207</th>\n",
       "      <td>208</td>\n",
       "      <td>Saint Helena, Ascension, and Tristan da Cunha</td>\n",
       "      <td>0.0</td>\n",
       "    </tr>\n",
       "    <tr>\n",
       "      <th>208</th>\n",
       "      <td>209</td>\n",
       "      <td>Saint Pierre and Miquelon</td>\n",
       "      <td>0.0</td>\n",
       "    </tr>\n",
       "    <tr>\n",
       "      <th>209</th>\n",
       "      <td>210</td>\n",
       "      <td>Turks and Caicos Islands</td>\n",
       "      <td>0.0</td>\n",
       "    </tr>\n",
       "    <tr>\n",
       "      <th>210</th>\n",
       "      <td>211</td>\n",
       "      <td>Tuvalu</td>\n",
       "      <td>0.0</td>\n",
       "    </tr>\n",
       "    <tr>\n",
       "      <th>211</th>\n",
       "      <td>212</td>\n",
       "      <td>Wake Island</td>\n",
       "      <td>0.0</td>\n",
       "    </tr>\n",
       "  </tbody>\n",
       "</table>\n",
       "<p>212 rows × 3 columns</p>\n",
       "</div>"
      ],
      "text/plain": [
       "     Rank                                        Country          Btu\n",
       "0       1                                          Qatar  723582000.0\n",
       "1       2                                      Singapore  639951000.0\n",
       "2       3                                        Bahrain  547976000.0\n",
       "3       4                           United Arab Emirates  471788000.0\n",
       "4       5                                         Brunei  415184000.0\n",
       "..    ...                                            ...          ...\n",
       "207   208  Saint Helena, Ascension, and Tristan da Cunha          0.0\n",
       "208   209                      Saint Pierre and Miquelon          0.0\n",
       "209   210                       Turks and Caicos Islands          0.0\n",
       "210   211                                         Tuvalu          0.0\n",
       "211   212                                    Wake Island          0.0\n",
       "\n",
       "[212 rows x 3 columns]"
      ]
     },
     "execution_count": 86,
     "metadata": {},
     "output_type": "execute_result"
    }
   ],
   "source": [
    "DFenergy.iloc[:,:3]"
   ]
  },
  {
   "cell_type": "code",
   "execution_count": 87,
   "id": "cfe1aeca",
   "metadata": {},
   "outputs": [
    {
     "data": {
      "text/plain": [
       "Rank  Country                 Btu        \n",
       "1     Qatar                   723582000.0    1\n",
       "134   Honduras                19800000.0     1\n",
       "136   Eswatini                19371000.0     1\n",
       "137   Philippines             19261000.0     1\n",
       "138   Sri Lanka               17268000.0     1\n",
       "                                            ..\n",
       "74    British Virgin Islands  80136000.0     1\n",
       "75    Mauritius               79448000.0     1\n",
       "76    Turkey (Turkiye)        79126000.0     1\n",
       "77    Argentina               79083000.0     1\n",
       "212   Wake Island             0.0            1\n",
       "Length: 212, dtype: int64"
      ]
     },
     "execution_count": 87,
     "metadata": {},
     "output_type": "execute_result"
    }
   ],
   "source": [
    "FQenergy=DFenergy.value_counts()\n",
    "FQenergy"
   ]
  },
  {
   "cell_type": "code",
   "execution_count": 88,
   "id": "ccda9db9",
   "metadata": {},
   "outputs": [
    {
     "name": "stdout",
     "output_type": "stream",
     "text": [
      "<class 'pandas.core.frame.DataFrame'>\n",
      "RangeIndex: 212 entries, 0 to 211\n",
      "Data columns (total 3 columns):\n",
      " #   Column   Non-Null Count  Dtype  \n",
      "---  ------   --------------  -----  \n",
      " 0   Rank     212 non-null    int64  \n",
      " 1   Country  212 non-null    object \n",
      " 2   Btu      212 non-null    float64\n",
      "dtypes: float64(1), int64(1), object(1)\n",
      "memory usage: 5.1+ KB\n"
     ]
    }
   ],
   "source": [
    "DFenergy.info()"
   ]
  },
  {
   "cell_type": "code",
   "execution_count": 89,
   "id": "a09dfe69",
   "metadata": {},
   "outputs": [
    {
     "data": {
      "text/plain": [
       "Index(['RANK', 'COUNTRY', 'BTU'], dtype='object')"
      ]
     },
     "execution_count": 89,
     "metadata": {},
     "output_type": "execute_result"
    }
   ],
   "source": [
    "DFenergy.columns.str.upper()"
   ]
  },
  {
   "cell_type": "code",
   "execution_count": 90,
   "id": "be62743a",
   "metadata": {},
   "outputs": [],
   "source": [
    "DFenergy.to_csv(\"energy.csv\",index=False)"
   ]
  },
  {
   "cell_type": "code",
   "execution_count": null,
   "id": "dae51686",
   "metadata": {},
   "outputs": [],
   "source": []
  },
  {
   "cell_type": "code",
   "execution_count": null,
   "id": "5ec2878c",
   "metadata": {},
   "outputs": [],
   "source": []
  },
  {
   "cell_type": "code",
   "execution_count": null,
   "id": "4482f049",
   "metadata": {},
   "outputs": [],
   "source": []
  },
  {
   "cell_type": "code",
   "execution_count": null,
   "id": "c1ffa585",
   "metadata": {},
   "outputs": [],
   "source": []
  },
  {
   "cell_type": "code",
   "execution_count": null,
   "id": "53540c68",
   "metadata": {},
   "outputs": [],
   "source": []
  },
  {
   "cell_type": "code",
   "execution_count": null,
   "id": "c7062ebf",
   "metadata": {},
   "outputs": [],
   "source": []
  },
  {
   "cell_type": "code",
   "execution_count": null,
   "id": "35b7ceb9",
   "metadata": {},
   "outputs": [],
   "source": []
  }
 ],
 "metadata": {
  "kernelspec": {
   "display_name": "Python 3 (ipykernel)",
   "language": "python",
   "name": "python3"
  },
  "language_info": {
   "codemirror_mode": {
    "name": "ipython",
    "version": 3
   },
   "file_extension": ".py",
   "mimetype": "text/x-python",
   "name": "python",
   "nbconvert_exporter": "python",
   "pygments_lexer": "ipython3",
   "version": "3.9.15"
  }
 },
 "nbformat": 4,
 "nbformat_minor": 5
}
